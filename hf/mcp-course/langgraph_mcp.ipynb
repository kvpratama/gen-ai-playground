{
 "cells": [
  {
   "cell_type": "code",
   "execution_count": 1,
   "id": "e01e3bec",
   "metadata": {},
   "outputs": [],
   "source": [
    "from langchain_mcp_adapters.client import MultiServerMCPClient\n",
    "from langgraph.prebuilt import create_react_agent\n",
    "\n",
    "client = MultiServerMCPClient(\n",
    "    {\n",
    "        # \"math\": {\n",
    "        #     \"command\": \"python\",\n",
    "        #     # Replace with absolute path to your math_server.py file\n",
    "        #     \"args\": [\"/path/to/math_server.py\"],\n",
    "        #     \"transport\": \"stdio\",\n",
    "        # },\n",
    "        \"weather\": {\n",
    "            # Ensure you start your weather server on port 8000\n",
    "            \"url\": \"http://localhost:8000/mcp\",\n",
    "            \"transport\": \"streamable_http\",\n",
    "        },\n",
    "        \"math\": {\n",
    "            \"url\": \"http://localhost:8001/mcp\",\n",
    "            \"transport\": \"streamable_http\",\n",
    "        },\n",
    "        # \"letter_counter\": {\n",
    "        #         \"url\": \"http://127.0.0.1:7861/gradio_api/mcp/sse\",\n",
    "        #         \"transport\": \"sse\",\n",
    "        # },\n",
    "        \"sentiment_spaces\": {\n",
    "            \"url\": \"https://kvpratama-mcp-sentiment.hf.space/gradio_api/mcp/sse\",\n",
    "            \"transport\": \"sse\",\n",
    "        },\n",
    "        # \"sentiment\": {\n",
    "        #         \"url\": \"http://127.0.0.1:7860/gradio_api/mcp/sse\",\n",
    "        #         \"transport\": \"sse\",\n",
    "        # },\n",
    "    }\n",
    ")\n",
    "tools = await client.get_tools()\n",
    "agent = create_react_agent(\n",
    "    \"google_genai:gemini-2.0-flash\",\n",
    "    tools\n",
    ")\n",
    "math_response = await agent.ainvoke(\n",
    "    {\"messages\": [{\"role\": \"user\", \"content\": \"what's (3 + 5) x 12?\"}]}\n",
    ")\n",
    "weather_response = await agent.ainvoke(\n",
    "    {\"messages\": [{\"role\": \"user\", \"content\": \"what is the weather in nyc?\"}]}\n",
    ")\n",
    "# letter_response = await agent.ainvoke(\n",
    "#     {\"messages\": [{\"role\": \"user\", \"content\": \"count how many 'l' in 'hello world'\"}]}\n",
    "# )\n",
    "sentiment_response = await agent.ainvoke(\n",
    "    {\"messages\": [{\"role\": \"user\", \"content\": \"what is the sentiment of 'I love programming!'?\"}]}\n",
    ")"
   ]
  },
  {
   "cell_type": "code",
   "execution_count": 2,
   "id": "94ce38ba",
   "metadata": {},
   "outputs": [
    {
     "name": "stdout",
     "output_type": "stream",
     "text": [
      "Weather Response: The weather in NYC is Sunny, 72°F.\n",
      "Math Response: (3 + 5) x 12 is 96.\n",
      "Sentiment Response: The sentiment of 'I love programming!' is positive with a polarity of 0.62 and subjectivity of 0.6.\n"
     ]
    }
   ],
   "source": [
    "print(\"Weather Response:\", weather_response[\"messages\"][-1].content)\n",
    "print(\"Math Response:\", math_response[\"messages\"][-1].content)\n",
    "# print(\"Letter Response:\", letter_response[\"messages\"][-1].content)\n",
    "print(\"Sentiment Response:\", sentiment_response[\"messages\"][-1].content)"
   ]
  },
  {
   "cell_type": "code",
   "execution_count": 3,
   "id": "0ed745ee",
   "metadata": {},
   "outputs": [
    {
     "name": "stdout",
     "output_type": "stream",
     "text": [
      "[StructuredTool(name='get_weather', description='Get the current weather for a specified location.', args_schema={'properties': {'location': {'title': 'Location', 'type': 'string'}}, 'required': ['location'], 'title': 'get_weatherArguments', 'type': 'object'}, response_format='content_and_artifact', coroutine=<function convert_mcp_tool_to_langchain_tool.<locals>.call_tool at 0x00000256D20B4040>), StructuredTool(name='add', description='Add two numbers', args_schema={'properties': {'a': {'title': 'A', 'type': 'integer'}, 'b': {'title': 'B', 'type': 'integer'}}, 'required': ['a', 'b'], 'title': 'addArguments', 'type': 'object'}, response_format='content_and_artifact', coroutine=<function convert_mcp_tool_to_langchain_tool.<locals>.call_tool at 0x00000256D1B522A0>), StructuredTool(name='multiply', description='Multiply two numbers', args_schema={'properties': {'a': {'title': 'A', 'type': 'integer'}, 'b': {'title': 'B', 'type': 'integer'}}, 'required': ['a', 'b'], 'title': 'multiplyArguments', 'type': 'object'}, response_format='content_and_artifact', coroutine=<function convert_mcp_tool_to_langchain_tool.<locals>.call_tool at 0x00000256D20B4720>), StructuredTool(name='mcp_sentiment_sentiment_analysis', description='Analyze the sentiment of the given text. Returns: A JSON string containing polarity, subjectivity, and assessment', args_schema={'type': 'object', 'properties': {'text': {'type': 'string', 'description': 'The text to analyze'}}}, response_format='content_and_artifact', coroutine=<function convert_mcp_tool_to_langchain_tool.<locals>.call_tool at 0x00000256D20B6660>)]\n"
     ]
    }
   ],
   "source": [
    "print(tools)"
   ]
  }
 ],
 "metadata": {
  "kernelspec": {
   "display_name": "pytorch",
   "language": "python",
   "name": "python3"
  },
  "language_info": {
   "codemirror_mode": {
    "name": "ipython",
    "version": 3
   },
   "file_extension": ".py",
   "mimetype": "text/x-python",
   "name": "python",
   "nbconvert_exporter": "python",
   "pygments_lexer": "ipython3",
   "version": "3.12.3"
  }
 },
 "nbformat": 4,
 "nbformat_minor": 5
}
