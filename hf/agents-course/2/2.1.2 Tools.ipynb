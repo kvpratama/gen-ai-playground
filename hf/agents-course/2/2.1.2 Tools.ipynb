{
 "cells": [
  {
   "cell_type": "code",
   "execution_count": 1,
   "id": "892c2ace",
   "metadata": {},
   "outputs": [],
   "source": [
    "from smolagents import LiteLLMModel\n",
    "\n",
    "model = LiteLLMModel(\n",
    "        model_id=\"ollama_chat/qwen2.5-coder:3b\",  # Or try other Ollama-supported models\n",
    "        api_base=\"http://127.0.0.1:11434\",  # Default Ollama local server\n",
    "        num_ctx=8192,\n",
    ")"
   ]
  },
  {
   "cell_type": "code",
   "execution_count": null,
   "id": "d78710d5",
   "metadata": {},
   "outputs": [
    {
     "data": {
      "text/html": [
       "<pre style=\"white-space:pre;overflow-x:auto;line-height:normal;font-family:Menlo,'DejaVu Sans Mono',consolas,'Courier New',monospace\"><span style=\"color: #d4b702; text-decoration-color: #d4b702\">╭──────────────────────────────────────────────────── </span><span style=\"color: #d4b702; text-decoration-color: #d4b702; font-weight: bold\">New run</span><span style=\"color: #d4b702; text-decoration-color: #d4b702\"> ────────────────────────────────────────────────────╮</span>\n",
       "<span style=\"color: #d4b702; text-decoration-color: #d4b702\">│</span>                                                                                                                 <span style=\"color: #d4b702; text-decoration-color: #d4b702\">│</span>\n",
       "<span style=\"color: #d4b702; text-decoration-color: #d4b702\">│</span> <span style=\"font-weight: bold\">Can you give me the name of the highest-rated catering service in Gotham City?</span>                                  <span style=\"color: #d4b702; text-decoration-color: #d4b702\">│</span>\n",
       "<span style=\"color: #d4b702; text-decoration-color: #d4b702\">│</span>                                                                                                                 <span style=\"color: #d4b702; text-decoration-color: #d4b702\">│</span>\n",
       "<span style=\"color: #d4b702; text-decoration-color: #d4b702\">╰─ LiteLLMModel - ollama_chat/qwen2.5-coder:3b ───────────────────────────────────────────────────────────────────╯</span>\n",
       "</pre>\n"
      ],
      "text/plain": [
       "\u001b[38;2;212;183;2m╭─\u001b[0m\u001b[38;2;212;183;2m───────────────────────────────────────────────────\u001b[0m\u001b[38;2;212;183;2m \u001b[0m\u001b[1;38;2;212;183;2mNew run\u001b[0m\u001b[38;2;212;183;2m \u001b[0m\u001b[38;2;212;183;2m───────────────────────────────────────────────────\u001b[0m\u001b[38;2;212;183;2m─╮\u001b[0m\n",
       "\u001b[38;2;212;183;2m│\u001b[0m                                                                                                                 \u001b[38;2;212;183;2m│\u001b[0m\n",
       "\u001b[38;2;212;183;2m│\u001b[0m \u001b[1mCan you give me the name of the highest-rated catering service in Gotham City?\u001b[0m                                  \u001b[38;2;212;183;2m│\u001b[0m\n",
       "\u001b[38;2;212;183;2m│\u001b[0m                                                                                                                 \u001b[38;2;212;183;2m│\u001b[0m\n",
       "\u001b[38;2;212;183;2m╰─\u001b[0m\u001b[38;2;212;183;2m LiteLLMModel - ollama_chat/qwen2.5-coder:3b \u001b[0m\u001b[38;2;212;183;2m──────────────────────────────────────────────────────────────────\u001b[0m\u001b[38;2;212;183;2m─╯\u001b[0m\n"
      ]
     },
     "metadata": {},
     "output_type": "display_data"
    },
    {
     "data": {
      "text/html": [
       "<pre style=\"white-space:pre;overflow-x:auto;line-height:normal;font-family:Menlo,'DejaVu Sans Mono',consolas,'Courier New',monospace\"><span style=\"color: #d4b702; text-decoration-color: #d4b702\">━━━━━━━━━━━━━━━━━━━━━━━━━━━━━━━━━━━━━━━━━━━━━━━━━━━━━ </span><span style=\"font-weight: bold\">Step </span><span style=\"color: #008080; text-decoration-color: #008080; font-weight: bold\">1</span><span style=\"color: #d4b702; text-decoration-color: #d4b702\"> ━━━━━━━━━━━━━━━━━━━━━━━━━━━━━━━━━━━━━━━━━━━━━━━━━━━━━━</span>\n",
       "</pre>\n"
      ],
      "text/plain": [
       "\u001b[38;2;212;183;2m━━━━━━━━━━━━━━━━━━━━━━━━━━━━━━━━━━━━━━━━━━━━━━━━━━━━━ \u001b[0m\u001b[1mStep \u001b[0m\u001b[1;36m1\u001b[0m\u001b[38;2;212;183;2m ━━━━━━━━━━━━━━━━━━━━━━━━━━━━━━━━━━━━━━━━━━━━━━━━━━━━━━\u001b[0m\n"
      ]
     },
     "metadata": {},
     "output_type": "display_data"
    },
    {
     "data": {
      "text/html": [
       "<pre style=\"white-space:pre;overflow-x:auto;line-height:normal;font-family:Menlo,'DejaVu Sans Mono',consolas,'Courier New',monospace\"> ─ <span style=\"font-weight: bold\">Executing parsed code:</span> ──────────────────────────────────────────────────────────────────────────────────────── \n",
       "  <span style=\"color: #f8f8f2; text-decoration-color: #f8f8f2; background-color: #272822\">highest_rated_catering_service </span><span style=\"color: #ff4689; text-decoration-color: #ff4689; background-color: #272822\">=</span><span style=\"color: #f8f8f2; text-decoration-color: #f8f8f2; background-color: #272822\"> catering_service_tool(query</span><span style=\"color: #ff4689; text-decoration-color: #ff4689; background-color: #272822\">=</span><span style=\"color: #e6db74; text-decoration-color: #e6db74; background-color: #272822\">\"Gotham City\"</span><span style=\"color: #f8f8f2; text-decoration-color: #f8f8f2; background-color: #272822\">)</span><span style=\"background-color: #272822\">                                    </span>  \n",
       "  <span style=\"color: #f8f8f2; text-decoration-color: #f8f8f2; background-color: #272822\">print(</span><span style=\"color: #e6db74; text-decoration-color: #e6db74; background-color: #272822\">\"The highest-rated catering service in Gotham City is:\"</span><span style=\"color: #f8f8f2; text-decoration-color: #f8f8f2; background-color: #272822\">, highest_rated_catering_service)</span><span style=\"background-color: #272822\">                 </span>  \n",
       "  <span style=\"color: #f8f8f2; text-decoration-color: #f8f8f2; background-color: #272822\">final_answer(highest_rated_catering_service)</span><span style=\"background-color: #272822\">                                                                   </span>  \n",
       " ───────────────────────────────────────────────────────────────────────────────────────────────────────────────── \n",
       "</pre>\n"
      ],
      "text/plain": [
       " ─ \u001b[1mExecuting parsed code:\u001b[0m ──────────────────────────────────────────────────────────────────────────────────────── \n",
       "  \u001b[38;2;248;248;242;48;2;39;40;34mhighest_rated_catering_service\u001b[0m\u001b[38;2;248;248;242;48;2;39;40;34m \u001b[0m\u001b[38;2;255;70;137;48;2;39;40;34m=\u001b[0m\u001b[38;2;248;248;242;48;2;39;40;34m \u001b[0m\u001b[38;2;248;248;242;48;2;39;40;34mcatering_service_tool\u001b[0m\u001b[38;2;248;248;242;48;2;39;40;34m(\u001b[0m\u001b[38;2;248;248;242;48;2;39;40;34mquery\u001b[0m\u001b[38;2;255;70;137;48;2;39;40;34m=\u001b[0m\u001b[38;2;230;219;116;48;2;39;40;34m\"\u001b[0m\u001b[38;2;230;219;116;48;2;39;40;34mGotham City\u001b[0m\u001b[38;2;230;219;116;48;2;39;40;34m\"\u001b[0m\u001b[38;2;248;248;242;48;2;39;40;34m)\u001b[0m\u001b[48;2;39;40;34m                                    \u001b[0m  \n",
       "  \u001b[38;2;248;248;242;48;2;39;40;34mprint\u001b[0m\u001b[38;2;248;248;242;48;2;39;40;34m(\u001b[0m\u001b[38;2;230;219;116;48;2;39;40;34m\"\u001b[0m\u001b[38;2;230;219;116;48;2;39;40;34mThe highest-rated catering service in Gotham City is:\u001b[0m\u001b[38;2;230;219;116;48;2;39;40;34m\"\u001b[0m\u001b[38;2;248;248;242;48;2;39;40;34m,\u001b[0m\u001b[38;2;248;248;242;48;2;39;40;34m \u001b[0m\u001b[38;2;248;248;242;48;2;39;40;34mhighest_rated_catering_service\u001b[0m\u001b[38;2;248;248;242;48;2;39;40;34m)\u001b[0m\u001b[48;2;39;40;34m                 \u001b[0m  \n",
       "  \u001b[38;2;248;248;242;48;2;39;40;34mfinal_answer\u001b[0m\u001b[38;2;248;248;242;48;2;39;40;34m(\u001b[0m\u001b[38;2;248;248;242;48;2;39;40;34mhighest_rated_catering_service\u001b[0m\u001b[38;2;248;248;242;48;2;39;40;34m)\u001b[0m\u001b[48;2;39;40;34m                                                                   \u001b[0m  \n",
       " ───────────────────────────────────────────────────────────────────────────────────────────────────────────────── \n"
      ]
     },
     "metadata": {},
     "output_type": "display_data"
    },
    {
     "data": {
      "text/html": [
       "<pre style=\"white-space:pre;overflow-x:auto;line-height:normal;font-family:Menlo,'DejaVu Sans Mono',consolas,'Courier New',monospace\"><span style=\"font-weight: bold\">Execution logs:</span>\n",
       "The highest-rated catering service in Gotham City is: Gotham Catering Co.\n",
       "\n",
       "<span style=\"color: #d4b702; text-decoration-color: #d4b702; font-weight: bold\">Out - Final answer: Gotham Catering Co.</span>\n",
       "</pre>\n"
      ],
      "text/plain": [
       "\u001b[1mExecution logs:\u001b[0m\n",
       "The highest-rated catering service in Gotham City is: Gotham Catering Co.\n",
       "\n",
       "\u001b[1;38;2;212;183;2mOut - Final answer: Gotham Catering Co.\u001b[0m\n"
      ]
     },
     "metadata": {},
     "output_type": "display_data"
    },
    {
     "data": {
      "text/html": [
       "<pre style=\"white-space:pre;overflow-x:auto;line-height:normal;font-family:Menlo,'DejaVu Sans Mono',consolas,'Courier New',monospace\"><span style=\"color: #7f7f7f; text-decoration-color: #7f7f7f\">[Step 1: Duration 60.29 seconds| Input tokens: 2,043 | Output tokens: 85]</span>\n",
       "</pre>\n"
      ],
      "text/plain": [
       "\u001b[2m[Step 1: Duration 60.29 seconds| Input tokens: 2,043 | Output tokens: 85]\u001b[0m\n"
      ]
     },
     "metadata": {},
     "output_type": "display_data"
    },
    {
     "name": "stdout",
     "output_type": "stream",
     "text": [
      "Gotham Catering Co.\n"
     ]
    }
   ],
   "source": [
    "from smolagents import CodeAgent, InferenceClientModel, tool, LiteLLMModel\n",
    "\n",
    "# Let's pretend we have a function that fetches the highest-rated catering services.\n",
    "@tool\n",
    "def catering_service_tool(query: str) -> str:\n",
    "    \"\"\"\n",
    "    This tool returns the highest-rated catering service in Gotham City.\n",
    "\n",
    "    Args:\n",
    "        query: A search term for finding catering services.\n",
    "    \"\"\"\n",
    "    # Example list of catering services and their ratings\n",
    "    services = {\n",
    "        \"Gotham Catering Co.\": 4.9,\n",
    "        \"Wayne Manor Catering\": 4.8,\n",
    "        \"Gotham City Events\": 4.7,\n",
    "    }\n",
    "\n",
    "    # Find the highest rated catering service (simulating search query filtering)\n",
    "    best_service = max(services, key=services.get)\n",
    "\n",
    "    return best_service\n",
    "\n",
    "\n",
    "\n",
    "\n",
    "agent = CodeAgent(tools=[catering_service_tool], model=model)\n",
    "\n",
    "# Run the agent to find the best catering service\n",
    "result = agent.run(\n",
    "    \"Can you give me the name of the highest-rated catering service in Gotham City?\"\n",
    ")\n",
    "\n",
    "print(result)   # Output: Gotham Catering Co."
   ]
  },
  {
   "cell_type": "code",
   "execution_count": 3,
   "id": "993ce649",
   "metadata": {},
   "outputs": [
    {
     "data": {
      "text/html": [
       "<pre style=\"white-space:pre;overflow-x:auto;line-height:normal;font-family:Menlo,'DejaVu Sans Mono',consolas,'Courier New',monospace\"><span style=\"color: #d4b702; text-decoration-color: #d4b702\">╭──────────────────────────────────────────────────── </span><span style=\"color: #d4b702; text-decoration-color: #d4b702; font-weight: bold\">New run</span><span style=\"color: #d4b702; text-decoration-color: #d4b702\"> ────────────────────────────────────────────────────╮</span>\n",
       "<span style=\"color: #d4b702; text-decoration-color: #d4b702\">│</span>                                                                                                                 <span style=\"color: #d4b702; text-decoration-color: #d4b702\">│</span>\n",
       "<span style=\"color: #d4b702; text-decoration-color: #d4b702\">│</span> <span style=\"font-weight: bold\">What would be a good superhero party idea for a 'villain masquerade' theme?</span>                                     <span style=\"color: #d4b702; text-decoration-color: #d4b702\">│</span>\n",
       "<span style=\"color: #d4b702; text-decoration-color: #d4b702\">│</span>                                                                                                                 <span style=\"color: #d4b702; text-decoration-color: #d4b702\">│</span>\n",
       "<span style=\"color: #d4b702; text-decoration-color: #d4b702\">╰─ LiteLLMModel - ollama_chat/qwen2.5-coder:3b ───────────────────────────────────────────────────────────────────╯</span>\n",
       "</pre>\n"
      ],
      "text/plain": [
       "\u001b[38;2;212;183;2m╭─\u001b[0m\u001b[38;2;212;183;2m───────────────────────────────────────────────────\u001b[0m\u001b[38;2;212;183;2m \u001b[0m\u001b[1;38;2;212;183;2mNew run\u001b[0m\u001b[38;2;212;183;2m \u001b[0m\u001b[38;2;212;183;2m───────────────────────────────────────────────────\u001b[0m\u001b[38;2;212;183;2m─╮\u001b[0m\n",
       "\u001b[38;2;212;183;2m│\u001b[0m                                                                                                                 \u001b[38;2;212;183;2m│\u001b[0m\n",
       "\u001b[38;2;212;183;2m│\u001b[0m \u001b[1mWhat would be a good superhero party idea for a 'villain masquerade' theme?\u001b[0m                                     \u001b[38;2;212;183;2m│\u001b[0m\n",
       "\u001b[38;2;212;183;2m│\u001b[0m                                                                                                                 \u001b[38;2;212;183;2m│\u001b[0m\n",
       "\u001b[38;2;212;183;2m╰─\u001b[0m\u001b[38;2;212;183;2m LiteLLMModel - ollama_chat/qwen2.5-coder:3b \u001b[0m\u001b[38;2;212;183;2m──────────────────────────────────────────────────────────────────\u001b[0m\u001b[38;2;212;183;2m─╯\u001b[0m\n"
      ]
     },
     "metadata": {},
     "output_type": "display_data"
    },
    {
     "data": {
      "text/html": [
       "<pre style=\"white-space:pre;overflow-x:auto;line-height:normal;font-family:Menlo,'DejaVu Sans Mono',consolas,'Courier New',monospace\"><span style=\"color: #d4b702; text-decoration-color: #d4b702\">━━━━━━━━━━━━━━━━━━━━━━━━━━━━━━━━━━━━━━━━━━━━━━━━━━━━━ </span><span style=\"font-weight: bold\">Step </span><span style=\"color: #008080; text-decoration-color: #008080; font-weight: bold\">1</span><span style=\"color: #d4b702; text-decoration-color: #d4b702\"> ━━━━━━━━━━━━━━━━━━━━━━━━━━━━━━━━━━━━━━━━━━━━━━━━━━━━━━</span>\n",
       "</pre>\n"
      ],
      "text/plain": [
       "\u001b[38;2;212;183;2m━━━━━━━━━━━━━━━━━━━━━━━━━━━━━━━━━━━━━━━━━━━━━━━━━━━━━ \u001b[0m\u001b[1mStep \u001b[0m\u001b[1;36m1\u001b[0m\u001b[38;2;212;183;2m ━━━━━━━━━━━━━━━━━━━━━━━━━━━━━━━━━━━━━━━━━━━━━━━━━━━━━━\u001b[0m\n"
      ]
     },
     "metadata": {},
     "output_type": "display_data"
    },
    {
     "data": {
      "text/html": [
       "<pre style=\"white-space:pre;overflow-x:auto;line-height:normal;font-family:Menlo,'DejaVu Sans Mono',consolas,'Courier New',monospace\"> ─ <span style=\"font-weight: bold\">Executing parsed code:</span> ──────────────────────────────────────────────────────────────────────────────────────── \n",
       "  <span style=\"color: #f8f8f2; text-decoration-color: #f8f8f2; background-color: #272822\">party_theme </span><span style=\"color: #ff4689; text-decoration-color: #ff4689; background-color: #272822\">=</span><span style=\"color: #f8f8f2; text-decoration-color: #f8f8f2; background-color: #272822\"> superhero_party_theme_generator(category</span><span style=\"color: #ff4689; text-decoration-color: #ff4689; background-color: #272822\">=</span><span style=\"color: #e6db74; text-decoration-color: #e6db74; background-color: #272822\">\"villain masquerade\"</span><span style=\"color: #f8f8f2; text-decoration-color: #f8f8f2; background-color: #272822\">)</span><span style=\"background-color: #272822\">                                   </span>  \n",
       "  <span style=\"color: #f8f8f2; text-decoration-color: #f8f8f2; background-color: #272822\">print(</span><span style=\"color: #e6db74; text-decoration-color: #e6db74; background-color: #272822\">\"Good villain masquerade superhero party idea:\"</span><span style=\"color: #f8f8f2; text-decoration-color: #f8f8f2; background-color: #272822\">, party_theme)</span><span style=\"background-color: #272822\">                                            </span>  \n",
       "  <span style=\"color: #f8f8f2; text-decoration-color: #f8f8f2; background-color: #272822\">final_answer(party_theme)</span><span style=\"background-color: #272822\">                                                                                      </span>  \n",
       " ───────────────────────────────────────────────────────────────────────────────────────────────────────────────── \n",
       "</pre>\n"
      ],
      "text/plain": [
       " ─ \u001b[1mExecuting parsed code:\u001b[0m ──────────────────────────────────────────────────────────────────────────────────────── \n",
       "  \u001b[38;2;248;248;242;48;2;39;40;34mparty_theme\u001b[0m\u001b[38;2;248;248;242;48;2;39;40;34m \u001b[0m\u001b[38;2;255;70;137;48;2;39;40;34m=\u001b[0m\u001b[38;2;248;248;242;48;2;39;40;34m \u001b[0m\u001b[38;2;248;248;242;48;2;39;40;34msuperhero_party_theme_generator\u001b[0m\u001b[38;2;248;248;242;48;2;39;40;34m(\u001b[0m\u001b[38;2;248;248;242;48;2;39;40;34mcategory\u001b[0m\u001b[38;2;255;70;137;48;2;39;40;34m=\u001b[0m\u001b[38;2;230;219;116;48;2;39;40;34m\"\u001b[0m\u001b[38;2;230;219;116;48;2;39;40;34mvillain masquerade\u001b[0m\u001b[38;2;230;219;116;48;2;39;40;34m\"\u001b[0m\u001b[38;2;248;248;242;48;2;39;40;34m)\u001b[0m\u001b[48;2;39;40;34m                                   \u001b[0m  \n",
       "  \u001b[38;2;248;248;242;48;2;39;40;34mprint\u001b[0m\u001b[38;2;248;248;242;48;2;39;40;34m(\u001b[0m\u001b[38;2;230;219;116;48;2;39;40;34m\"\u001b[0m\u001b[38;2;230;219;116;48;2;39;40;34mGood villain masquerade superhero party idea:\u001b[0m\u001b[38;2;230;219;116;48;2;39;40;34m\"\u001b[0m\u001b[38;2;248;248;242;48;2;39;40;34m,\u001b[0m\u001b[38;2;248;248;242;48;2;39;40;34m \u001b[0m\u001b[38;2;248;248;242;48;2;39;40;34mparty_theme\u001b[0m\u001b[38;2;248;248;242;48;2;39;40;34m)\u001b[0m\u001b[48;2;39;40;34m                                            \u001b[0m  \n",
       "  \u001b[38;2;248;248;242;48;2;39;40;34mfinal_answer\u001b[0m\u001b[38;2;248;248;242;48;2;39;40;34m(\u001b[0m\u001b[38;2;248;248;242;48;2;39;40;34mparty_theme\u001b[0m\u001b[38;2;248;248;242;48;2;39;40;34m)\u001b[0m\u001b[48;2;39;40;34m                                                                                      \u001b[0m  \n",
       " ───────────────────────────────────────────────────────────────────────────────────────────────────────────────── \n"
      ]
     },
     "metadata": {},
     "output_type": "display_data"
    },
    {
     "data": {
      "text/html": [
       "<pre style=\"white-space:pre;overflow-x:auto;line-height:normal;font-family:Menlo,'DejaVu Sans Mono',consolas,'Courier New',monospace\"><span style=\"font-weight: bold\">Execution logs:</span>\n",
       "Good villain masquerade superhero party idea: Gotham Rogues' Ball: A mysterious masquerade where guests dress as \n",
       "classic Batman villains.\n",
       "\n",
       "<span style=\"color: #d4b702; text-decoration-color: #d4b702; font-weight: bold\">Out - Final answer: Gotham Rogues' Ball: A mysterious masquerade where guests dress as classic Batman villains.</span>\n",
       "</pre>\n"
      ],
      "text/plain": [
       "\u001b[1mExecution logs:\u001b[0m\n",
       "Good villain masquerade superhero party idea: Gotham Rogues' Ball: A mysterious masquerade where guests dress as \n",
       "classic Batman villains.\n",
       "\n",
       "\u001b[1;38;2;212;183;2mOut - Final answer: Gotham Rogues' Ball: A mysterious masquerade where guests dress as classic Batman villains.\u001b[0m\n"
      ]
     },
     "metadata": {},
     "output_type": "display_data"
    },
    {
     "data": {
      "text/html": [
       "<pre style=\"white-space:pre;overflow-x:auto;line-height:normal;font-family:Menlo,'DejaVu Sans Mono',consolas,'Courier New',monospace\"><span style=\"color: #7f7f7f; text-decoration-color: #7f7f7f\">[Step 1: Duration 20.12 seconds| Input tokens: 2,078 | Output tokens: 77]</span>\n",
       "</pre>\n"
      ],
      "text/plain": [
       "\u001b[2m[Step 1: Duration 20.12 seconds| Input tokens: 2,078 | Output tokens: 77]\u001b[0m\n"
      ]
     },
     "metadata": {},
     "output_type": "display_data"
    },
    {
     "name": "stdout",
     "output_type": "stream",
     "text": [
      "Gotham Rogues' Ball: A mysterious masquerade where guests dress as classic Batman villains.\n"
     ]
    }
   ],
   "source": [
    "from smolagents import Tool, CodeAgent, InferenceClientModel\n",
    "\n",
    "class SuperheroPartyThemeTool(Tool):\n",
    "    name = \"superhero_party_theme_generator\"\n",
    "    description = \"\"\"\n",
    "    This tool suggests creative superhero-themed party ideas based on a category.\n",
    "    It returns a unique party theme idea.\"\"\"\n",
    "\n",
    "    inputs = {\n",
    "        \"category\": {\n",
    "            \"type\": \"string\",\n",
    "            \"description\": \"The type of superhero party (e.g., 'classic heroes', 'villain masquerade', 'futuristic Gotham').\",\n",
    "        }\n",
    "    }\n",
    "\n",
    "    output_type = \"string\"\n",
    "\n",
    "    def forward(self, category: str):\n",
    "        themes = {\n",
    "            \"classic heroes\": \"Justice League Gala: Guests come dressed as their favorite DC heroes with themed cocktails like 'The Kryptonite Punch'.\",\n",
    "            \"villain masquerade\": \"Gotham Rogues' Ball: A mysterious masquerade where guests dress as classic Batman villains.\",\n",
    "            \"futuristic Gotham\": \"Neo-Gotham Night: A cyberpunk-style party inspired by Batman Beyond, with neon decorations and futuristic gadgets.\"\n",
    "        }\n",
    "\n",
    "        return themes.get(category.lower(), \"Themed party idea not found. Try 'classic heroes', 'villain masquerade', or 'futuristic Gotham'.\")\n",
    "\n",
    "# Instantiate the tool\n",
    "party_theme_tool = SuperheroPartyThemeTool()\n",
    "agent = CodeAgent(tools=[party_theme_tool], model=model)\n",
    "\n",
    "# Run the agent to generate a party theme idea\n",
    "result = agent.run(\n",
    "    \"What would be a good superhero party idea for a 'villain masquerade' theme?\"\n",
    ")\n",
    "\n",
    "print(result)  # Output: \"Gotham Rogues' Ball: A mysterious masquerade where guests dress as classic Batman villains.\""
   ]
  },
  {
   "cell_type": "code",
   "execution_count": null,
   "id": "bdf858a2",
   "metadata": {},
   "outputs": [],
   "source": [
    "from smolagents import DuckDuckGoSearchTool\n",
    "\n",
    "agent = CodeAgent(tools=[DuckDuckGoSearchTool()], model=model)\n",
    "\n",
    "# Run the agent to generate a party theme idea\n",
    "result = agent.run(\n",
    "    \"Search the internet and decide what would be a good superhero party idea for a 'villain masquerade' theme?\"\n",
    ")"
   ]
  },
  {
   "cell_type": "code",
   "execution_count": 3,
   "id": "b4104f1e",
   "metadata": {},
   "outputs": [
    {
     "data": {
      "text/html": [
       "<pre style=\"white-space:pre;overflow-x:auto;line-height:normal;font-family:Menlo,'DejaVu Sans Mono',consolas,'Courier New',monospace\"><span style=\"color: #d4b702; text-decoration-color: #d4b702\">╭──────────────────────────────────────────────────── </span><span style=\"color: #d4b702; text-decoration-color: #d4b702; font-weight: bold\">New run</span><span style=\"color: #d4b702; text-decoration-color: #d4b702\"> ────────────────────────────────────────────────────╮</span>\n",
       "<span style=\"color: #d4b702; text-decoration-color: #d4b702\">│</span>                                                                                                                 <span style=\"color: #d4b702; text-decoration-color: #d4b702\">│</span>\n",
       "<span style=\"color: #d4b702; text-decoration-color: #d4b702\">│</span> <span style=\"font-weight: bold\">Search the internet and decide what would be a good superhero party idea for a 'villain masquerade' theme?</span>      <span style=\"color: #d4b702; text-decoration-color: #d4b702\">│</span>\n",
       "<span style=\"color: #d4b702; text-decoration-color: #d4b702\">│</span>                                                                                                                 <span style=\"color: #d4b702; text-decoration-color: #d4b702\">│</span>\n",
       "<span style=\"color: #d4b702; text-decoration-color: #d4b702\">╰─ LiteLLMModel - ollama_chat/qwen2.5-coder:3b ───────────────────────────────────────────────────────────────────╯</span>\n",
       "</pre>\n"
      ],
      "text/plain": [
       "\u001b[38;2;212;183;2m╭─\u001b[0m\u001b[38;2;212;183;2m───────────────────────────────────────────────────\u001b[0m\u001b[38;2;212;183;2m \u001b[0m\u001b[1;38;2;212;183;2mNew run\u001b[0m\u001b[38;2;212;183;2m \u001b[0m\u001b[38;2;212;183;2m───────────────────────────────────────────────────\u001b[0m\u001b[38;2;212;183;2m─╮\u001b[0m\n",
       "\u001b[38;2;212;183;2m│\u001b[0m                                                                                                                 \u001b[38;2;212;183;2m│\u001b[0m\n",
       "\u001b[38;2;212;183;2m│\u001b[0m \u001b[1mSearch the internet and decide what would be a good superhero party idea for a 'villain masquerade' theme?\u001b[0m      \u001b[38;2;212;183;2m│\u001b[0m\n",
       "\u001b[38;2;212;183;2m│\u001b[0m                                                                                                                 \u001b[38;2;212;183;2m│\u001b[0m\n",
       "\u001b[38;2;212;183;2m╰─\u001b[0m\u001b[38;2;212;183;2m LiteLLMModel - ollama_chat/qwen2.5-coder:3b \u001b[0m\u001b[38;2;212;183;2m──────────────────────────────────────────────────────────────────\u001b[0m\u001b[38;2;212;183;2m─╯\u001b[0m\n"
      ]
     },
     "metadata": {},
     "output_type": "display_data"
    },
    {
     "data": {
      "text/html": [
       "<pre style=\"white-space:pre;overflow-x:auto;line-height:normal;font-family:Menlo,'DejaVu Sans Mono',consolas,'Courier New',monospace\"><span style=\"color: #d4b702; text-decoration-color: #d4b702\">━━━━━━━━━━━━━━━━━━━━━━━━━━━━━━━━━━━━━━━━━━━━━━━━━━━━━ </span><span style=\"font-weight: bold\">Step </span><span style=\"color: #008080; text-decoration-color: #008080; font-weight: bold\">1</span><span style=\"color: #d4b702; text-decoration-color: #d4b702\"> ━━━━━━━━━━━━━━━━━━━━━━━━━━━━━━━━━━━━━━━━━━━━━━━━━━━━━━</span>\n",
       "</pre>\n"
      ],
      "text/plain": [
       "\u001b[38;2;212;183;2m━━━━━━━━━━━━━━━━━━━━━━━━━━━━━━━━━━━━━━━━━━━━━━━━━━━━━ \u001b[0m\u001b[1mStep \u001b[0m\u001b[1;36m1\u001b[0m\u001b[38;2;212;183;2m ━━━━━━━━━━━━━━━━━━━━━━━━━━━━━━━━━━━━━━━━━━━━━━━━━━━━━━\u001b[0m\n"
      ]
     },
     "metadata": {},
     "output_type": "display_data"
    },
    {
     "data": {
      "text/html": [
       "<pre style=\"white-space:pre;overflow-x:auto;line-height:normal;font-family:Menlo,'DejaVu Sans Mono',consolas,'Courier New',monospace\">╭─────────────────────────────────────────────────────────────────────────────────────────────────────────────────╮\n",
       "│ Calling tool: 'web_search' with arguments: {'query': 'good villain masquerade party ideas'}                     │\n",
       "╰─────────────────────────────────────────────────────────────────────────────────────────────────────────────────╯\n",
       "</pre>\n"
      ],
      "text/plain": [
       "╭─────────────────────────────────────────────────────────────────────────────────────────────────────────────────╮\n",
       "│ Calling tool: 'web_search' with arguments: {'query': 'good villain masquerade party ideas'}                     │\n",
       "╰─────────────────────────────────────────────────────────────────────────────────────────────────────────────────╯\n"
      ]
     },
     "metadata": {},
     "output_type": "display_data"
    },
    {
     "data": {
      "text/html": [
       "<pre style=\"white-space:pre;overflow-x:auto;line-height:normal;font-family:Menlo,'DejaVu Sans Mono',consolas,'Courier New',monospace\">Observations: ## Search Results\n",
       "\n",
       "|<span style=\"color: #008080; text-decoration-color: #008080; font-weight: bold\">15</span> Creative Masquerade Party Ideas for Unforgettable Fun - This Makes \n",
       "That<span style=\"font-weight: bold\">](</span><span style=\"color: #0000ff; text-decoration-color: #0000ff; text-decoration: underline\">https://thismakesthat.com/masquerade-party/)</span>\n",
       "You'll get creative masquerade party ideas that will make your event unforgettable. Masks, masks, everywhere. The \n",
       "key to a great masquerade party is, you guessed it, the masks! Hand out plain masks and some art supplies at the \n",
       "door for guests to decorate to their heart's content. You never know, you might be hosting the next Picasso! Next \n",
       "up, the venue. Think about glamming up your space with <span style=\"color: #808000; text-decoration-color: #808000\">...</span>\n",
       "\n",
       "|<span style=\"color: #008080; text-decoration-color: #008080; font-weight: bold\">10</span> Unique Masquerade Party Ideas - \n",
       "Tableclothsfactory<span style=\"font-weight: bold\">](</span><span style=\"color: #0000ff; text-decoration-color: #0000ff; text-decoration: underline\">https://tableclothsfactory.com/blogs/home/10-unique-masquerade-party-ideas)</span>\n",
       "Unmask the mystery and embrace the elegance! A masquerade party isn't just about masks—it's about creating an \n",
       "atmosphere of intrigue, sophistication, and unforgettable moments. Whether a grand Venetian ball or an enchanted \n",
       "forest soirée, let's bring your vision to life! <span style=\"color: #808000; text-decoration-color: #808000\">...</span> <span style=\"color: #008080; text-decoration-color: #008080; font-weight: bold\">10</span> Unique Masquerade Party Ideas Feb <span style=\"color: #008080; text-decoration-color: #008080; font-weight: bold\">16</span>, <span style=\"color: #008080; text-decoration-color: #008080; font-weight: bold\">2025</span>\n",
       "\n",
       "|<span style=\"color: #008080; text-decoration-color: #008080; font-weight: bold\">10</span> Masquerade Party Ideas <span style=\"font-weight: bold\">(</span>with Masks<span style=\"font-weight: bold\">)</span> - \n",
       "FantasyCostumes.com<span style=\"font-weight: bold\">](</span><span style=\"color: #0000ff; text-decoration-color: #0000ff; text-decoration: underline\">https://www.fantasycostumes.com/blog/10-masquerade-party-ideas-with-masks/)</span>\n",
       "<span style=\"color: #008080; text-decoration-color: #008080; font-weight: bold\">10</span> Masquerade Party Ideas <span style=\"font-weight: bold\">(</span>with Masks<span style=\"font-weight: bold\">)</span> <span style=\"color: #008080; text-decoration-color: #008080; font-weight: bold\">10</span> Masquerade Party Ideas <span style=\"font-weight: bold\">(</span>with Masks<span style=\"font-weight: bold\">)</span> Posted by Fantasy Costumes Staff on \n",
       "14th Apr <span style=\"color: #008080; text-decoration-color: #008080; font-weight: bold\">2016</span>. <span style=\"color: #808000; text-decoration-color: #808000\">...</span> You may also end up with a few well dressed villains, but you can be sure they will stay in line\n",
       "with a room full of vigilantes. Disney Masquerade <span style=\"color: #800080; text-decoration-color: #800080\">/</span> Wedding.\n",
       "\n",
       "|<span style=\"color: #008080; text-decoration-color: #008080; font-weight: bold\">21</span> Masquerade Party Themes &amp; Ideas You'll Love - Fun Party Pop<span style=\"font-weight: bold\">](</span><span style=\"color: #0000ff; text-decoration-color: #0000ff; text-decoration: underline\">https://funpartypop.com/masquerade-party-themes/)</span>\n",
       "Classic Masquerade - Not to be obvious, but it would be kind of hard to have a list of masquerade ideas without \n",
       "listing a classic masquerade party idea. For this, you just host a ball-themed party and have your guests come in \n",
       "masks. <span style=\"color: #008080; text-decoration-color: #008080; font-weight: bold\">2</span>. Classy Ballroom Masquerade - Okay, for this, you will need a large open space with a dance floor. So if \n",
       "<span style=\"color: #808000; text-decoration-color: #808000\">...</span>\n",
       "\n",
       "|Masquerade Party Themes: Make Your Party One to Remember<span style=\"font-weight: bold\">](</span><span style=\"color: #0000ff; text-decoration-color: #0000ff; text-decoration: underline\">https://thepartytheme.com/masquerade-party-themes/)</span>\n",
       "Planning your masquerade party is only half the fun. Creating the guest list, a backdrop for the event, and the \n",
       "storyline is the other. So, get the creativity flowing and start the planning process. The sooner you begin, the \n",
       "better your party will be. Masquerade Party Themes. There are as many masquerade party themes as there are reasons \n",
       "to <span style=\"color: #808000; text-decoration-color: #808000\">...</span>\n",
       "\n",
       "|<span style=\"color: #008080; text-decoration-color: #008080; font-weight: bold\">23</span> Unique Masquerade Party Ideas for a Night of Mystery<span style=\"font-weight: bold\">](</span><span style=\"color: #0000ff; text-decoration-color: #0000ff; text-decoration: underline\">https://captionsgenius.com/masquerade-party-ideas/)</span>\n",
       "This image perfectly captures the essence of a masquerade party an immersive experience where guests can lose \n",
       "themselves in elegance, anonymity, and celebration. The coordinated yet unique mask designs showcase the \n",
       "extravagance of the theme, making the event feel theatrical and grand. #<span style=\"color: #008080; text-decoration-color: #008080; font-weight: bold\">13</span>. Masquerade Party Casual Dining - \n",
       "Elegant Pizza Serving\n",
       "\n",
       "|How to Host an Elegant Masquerade Ball Party in <span style=\"color: #008080; text-decoration-color: #008080; font-weight: bold\">2025</span> - \n",
       "Classpop<span style=\"font-weight: bold\">](</span><span style=\"color: #0000ff; text-decoration-color: #0000ff; text-decoration: underline\">https://www.classpop.com/magazine/masquerade-ball-party)</span>\n",
       "Superheroes and villains; Black and white; Roaring <span style=\"color: #008000; text-decoration-color: #008000\">'20s; Angels and demons; Red carpet Oscar'</span>s party; Choose Your \n",
       "Music. <span style=\"color: #808000; text-decoration-color: #808000\">...</span> masquerade ball party ideas list was designed to be a springboard to plan the perfect party by providing\n",
       "a variety of masquerade ball party ideas for adults, teens and kids. Your next bash — whether it be a <span style=\"color: #808000; text-decoration-color: #808000\">...</span>\n",
       "\n",
       "|Great Ideas for a Masquerade \n",
       "Party<span style=\"font-weight: bold\">](</span><span style=\"color: #0000ff; text-decoration-color: #0000ff; text-decoration: underline\">https://www.weddingandpartynetwork.com/blog/party-themes/masquerade-party-ideas/)</span>\n",
       "For a fun party activity, try out this murder mystery game where all the superheroes and villains have to come \n",
       "together to find out who the killer it. via GIPHY. <span style=\"color: #808000; text-decoration-color: #808000\">...</span> This is a helpful Masquerade party ideas blog for me. I know\n",
       "it is going to be beneficial for us all. Many thanks for a blog, so beneficial. Leave a Reply.\n",
       "\n",
       "|<span style=\"color: #008080; text-decoration-color: #008080; font-weight: bold\">2025</span> Masquerade Ball Party Ideas: Best Themes &amp; \n",
       "Inspiration<span style=\"font-weight: bold\">](</span><span style=\"color: #0000ff; text-decoration-color: #0000ff; text-decoration: underline\">https://www.masqueradestore.com/blogs/masquerade-store/masquerade-party-ideas-for-adults)</span>\n",
       "<span style=\"color: #008080; text-decoration-color: #008080; font-weight: bold\">3</span> Unique masquerade party ideas for adults #<span style=\"color: #008080; text-decoration-color: #008080; font-weight: bold\">1</span> Party Games. A masquerade is a great time to have a thrilling match \n",
       "such as a murder mystery, treasure hunt, guess the masked character, and so much more! #<span style=\"color: #008080; text-decoration-color: #008080; font-weight: bold\">2</span> Photo Op Booth. One great\n",
       "way to ensure you have enough photos to remember the night is by having curated photo op booths at the party.\n",
       "\n",
       "|Masquerade Party Ideas: Creative and Fun Inspirations<span style=\"font-weight: bold\">](</span><span style=\"color: #0000ff; text-decoration-color: #0000ff; text-decoration: underline\">https://partyvibesfun.com/masquerade-party-ideas/)</span>\n",
       "Masquerade Party Activity Ideas. Mask Making Station - Provide guests with supplies to create their own unique \n",
       "masks.; Costume Contest - Award prizes for the best costumes or most creative masks.; Photo Booth - Set up a themed\n",
       "photo booth with props like feather boas, top hats, and glittery accessories.; Dance Floor with Masquerade-Themed \n",
       "Music - Create a playlist of ballroom or <span style=\"color: #808000; text-decoration-color: #808000\">...</span>\n",
       "</pre>\n"
      ],
      "text/plain": [
       "Observations: ## Search Results\n",
       "\n",
       "|\u001b[1;36m15\u001b[0m Creative Masquerade Party Ideas for Unforgettable Fun - This Makes \n",
       "That\u001b[1m]\u001b[0m\u001b[1m(\u001b[0m\u001b[4;94mhttps://thismakesthat.com/masquerade-party/\u001b[0m\u001b[4;94m)\u001b[0m\n",
       "You'll get creative masquerade party ideas that will make your event unforgettable. Masks, masks, everywhere. The \n",
       "key to a great masquerade party is, you guessed it, the masks! Hand out plain masks and some art supplies at the \n",
       "door for guests to decorate to their heart's content. You never know, you might be hosting the next Picasso! Next \n",
       "up, the venue. Think about glamming up your space with \u001b[33m...\u001b[0m\n",
       "\n",
       "|\u001b[1;36m10\u001b[0m Unique Masquerade Party Ideas - \n",
       "Tableclothsfactory\u001b[1m]\u001b[0m\u001b[1m(\u001b[0m\u001b[4;94mhttps://tableclothsfactory.com/blogs/home/10-unique-masquerade-party-ideas\u001b[0m\u001b[4;94m)\u001b[0m\n",
       "Unmask the mystery and embrace the elegance! A masquerade party isn't just about masks—it's about creating an \n",
       "atmosphere of intrigue, sophistication, and unforgettable moments. Whether a grand Venetian ball or an enchanted \n",
       "forest soirée, let's bring your vision to life! \u001b[33m...\u001b[0m \u001b[1;36m10\u001b[0m Unique Masquerade Party Ideas Feb \u001b[1;36m16\u001b[0m, \u001b[1;36m2025\u001b[0m\n",
       "\n",
       "|\u001b[1;36m10\u001b[0m Masquerade Party Ideas \u001b[1m(\u001b[0mwith Masks\u001b[1m)\u001b[0m - \n",
       "FantasyCostumes.com\u001b[1m]\u001b[0m\u001b[1m(\u001b[0m\u001b[4;94mhttps://www.fantasycostumes.com/blog/10-masquerade-party-ideas-with-masks/\u001b[0m\u001b[4;94m)\u001b[0m\n",
       "\u001b[1;36m10\u001b[0m Masquerade Party Ideas \u001b[1m(\u001b[0mwith Masks\u001b[1m)\u001b[0m \u001b[1;36m10\u001b[0m Masquerade Party Ideas \u001b[1m(\u001b[0mwith Masks\u001b[1m)\u001b[0m Posted by Fantasy Costumes Staff on \n",
       "14th Apr \u001b[1;36m2016\u001b[0m. \u001b[33m...\u001b[0m You may also end up with a few well dressed villains, but you can be sure they will stay in line\n",
       "with a room full of vigilantes. Disney Masquerade \u001b[35m/\u001b[0m Wedding.\n",
       "\n",
       "|\u001b[1;36m21\u001b[0m Masquerade Party Themes & Ideas You'll Love - Fun Party Pop\u001b[1m]\u001b[0m\u001b[1m(\u001b[0m\u001b[4;94mhttps://funpartypop.com/masquerade-party-themes/\u001b[0m\u001b[4;94m)\u001b[0m\n",
       "Classic Masquerade - Not to be obvious, but it would be kind of hard to have a list of masquerade ideas without \n",
       "listing a classic masquerade party idea. For this, you just host a ball-themed party and have your guests come in \n",
       "masks. \u001b[1;36m2\u001b[0m. Classy Ballroom Masquerade - Okay, for this, you will need a large open space with a dance floor. So if \n",
       "\u001b[33m...\u001b[0m\n",
       "\n",
       "|Masquerade Party Themes: Make Your Party One to Remember\u001b[1m]\u001b[0m\u001b[1m(\u001b[0m\u001b[4;94mhttps://thepartytheme.com/masquerade-party-themes/\u001b[0m\u001b[4;94m)\u001b[0m\n",
       "Planning your masquerade party is only half the fun. Creating the guest list, a backdrop for the event, and the \n",
       "storyline is the other. So, get the creativity flowing and start the planning process. The sooner you begin, the \n",
       "better your party will be. Masquerade Party Themes. There are as many masquerade party themes as there are reasons \n",
       "to \u001b[33m...\u001b[0m\n",
       "\n",
       "|\u001b[1;36m23\u001b[0m Unique Masquerade Party Ideas for a Night of Mystery\u001b[1m]\u001b[0m\u001b[1m(\u001b[0m\u001b[4;94mhttps://captionsgenius.com/masquerade-party-ideas/\u001b[0m\u001b[4;94m)\u001b[0m\n",
       "This image perfectly captures the essence of a masquerade party an immersive experience where guests can lose \n",
       "themselves in elegance, anonymity, and celebration. The coordinated yet unique mask designs showcase the \n",
       "extravagance of the theme, making the event feel theatrical and grand. #\u001b[1;36m13\u001b[0m. Masquerade Party Casual Dining - \n",
       "Elegant Pizza Serving\n",
       "\n",
       "|How to Host an Elegant Masquerade Ball Party in \u001b[1;36m2025\u001b[0m - \n",
       "Classpop\u001b[1m]\u001b[0m\u001b[1m(\u001b[0m\u001b[4;94mhttps://www.classpop.com/magazine/masquerade-ball-party\u001b[0m\u001b[4;94m)\u001b[0m\n",
       "Superheroes and villains; Black and white; Roaring \u001b[32m'20s; Angels and demons; Red carpet Oscar'\u001b[0ms party; Choose Your \n",
       "Music. \u001b[33m...\u001b[0m masquerade ball party ideas list was designed to be a springboard to plan the perfect party by providing\n",
       "a variety of masquerade ball party ideas for adults, teens and kids. Your next bash — whether it be a \u001b[33m...\u001b[0m\n",
       "\n",
       "|Great Ideas for a Masquerade \n",
       "Party\u001b[1m]\u001b[0m\u001b[1m(\u001b[0m\u001b[4;94mhttps://www.weddingandpartynetwork.com/blog/party-themes/masquerade-party-ideas/\u001b[0m\u001b[4;94m)\u001b[0m\n",
       "For a fun party activity, try out this murder mystery game where all the superheroes and villains have to come \n",
       "together to find out who the killer it. via GIPHY. \u001b[33m...\u001b[0m This is a helpful Masquerade party ideas blog for me. I know\n",
       "it is going to be beneficial for us all. Many thanks for a blog, so beneficial. Leave a Reply.\n",
       "\n",
       "|\u001b[1;36m2025\u001b[0m Masquerade Ball Party Ideas: Best Themes & \n",
       "Inspiration\u001b[1m]\u001b[0m\u001b[1m(\u001b[0m\u001b[4;94mhttps://www.masqueradestore.com/blogs/masquerade-store/masquerade-party-ideas-for-adults\u001b[0m\u001b[4;94m)\u001b[0m\n",
       "\u001b[1;36m3\u001b[0m Unique masquerade party ideas for adults #\u001b[1;36m1\u001b[0m Party Games. A masquerade is a great time to have a thrilling match \n",
       "such as a murder mystery, treasure hunt, guess the masked character, and so much more! #\u001b[1;36m2\u001b[0m Photo Op Booth. One great\n",
       "way to ensure you have enough photos to remember the night is by having curated photo op booths at the party.\n",
       "\n",
       "|Masquerade Party Ideas: Creative and Fun Inspirations\u001b[1m]\u001b[0m\u001b[1m(\u001b[0m\u001b[4;94mhttps://partyvibesfun.com/masquerade-party-ideas/\u001b[0m\u001b[4;94m)\u001b[0m\n",
       "Masquerade Party Activity Ideas. Mask Making Station - Provide guests with supplies to create their own unique \n",
       "masks.; Costume Contest - Award prizes for the best costumes or most creative masks.; Photo Booth - Set up a themed\n",
       "photo booth with props like feather boas, top hats, and glittery accessories.; Dance Floor with Masquerade-Themed \n",
       "Music - Create a playlist of ballroom or \u001b[33m...\u001b[0m\n"
      ]
     },
     "metadata": {},
     "output_type": "display_data"
    },
    {
     "data": {
      "text/html": [
       "<pre style=\"white-space:pre;overflow-x:auto;line-height:normal;font-family:Menlo,'DejaVu Sans Mono',consolas,'Courier New',monospace\"><span style=\"color: #7f7f7f; text-decoration-color: #7f7f7f\">[Step 1: Duration 32.38 seconds| Input tokens: 1,117 | Output tokens: 29]</span>\n",
       "</pre>\n"
      ],
      "text/plain": [
       "\u001b[2m[Step 1: Duration 32.38 seconds| Input tokens: 1,117 | Output tokens: 29]\u001b[0m\n"
      ]
     },
     "metadata": {},
     "output_type": "display_data"
    },
    {
     "data": {
      "text/html": [
       "<pre style=\"white-space:pre;overflow-x:auto;line-height:normal;font-family:Menlo,'DejaVu Sans Mono',consolas,'Courier New',monospace\"><span style=\"color: #d4b702; text-decoration-color: #d4b702\">━━━━━━━━━━━━━━━━━━━━━━━━━━━━━━━━━━━━━━━━━━━━━━━━━━━━━ </span><span style=\"font-weight: bold\">Step </span><span style=\"color: #008080; text-decoration-color: #008080; font-weight: bold\">2</span><span style=\"color: #d4b702; text-decoration-color: #d4b702\"> ━━━━━━━━━━━━━━━━━━━━━━━━━━━━━━━━━━━━━━━━━━━━━━━━━━━━━━</span>\n",
       "</pre>\n"
      ],
      "text/plain": [
       "\u001b[38;2;212;183;2m━━━━━━━━━━━━━━━━━━━━━━━━━━━━━━━━━━━━━━━━━━━━━━━━━━━━━ \u001b[0m\u001b[1mStep \u001b[0m\u001b[1;36m2\u001b[0m\u001b[38;2;212;183;2m ━━━━━━━━━━━━━━━━━━━━━━━━━━━━━━━━━━━━━━━━━━━━━━━━━━━━━━\u001b[0m\n"
      ]
     },
     "metadata": {},
     "output_type": "display_data"
    },
    {
     "data": {
      "text/html": [
       "<pre style=\"white-space:pre;overflow-x:auto;line-height:normal;font-family:Menlo,'DejaVu Sans Mono',consolas,'Courier New',monospace\">╭─────────────────────────────────────────────────────────────────────────────────────────────────────────────────╮\n",
       "│ Calling tool: 'final_answer' with arguments: The best superhero party idea for a 'villain masquerade' theme     │\n",
       "│ would be to host an 'Epic Heroic Battle' themed party. Here are the steps you can follow:                       │\n",
       "│                                                                                                                 │\n",
       "│ 1. Decorate the venue with black and white decorations, as well as red carpet.                                  │\n",
       "│                                                                                                                 │\n",
       "│ 2. Hire superheroes and villains dressed in their iconic costumes.                                              │\n",
       "│                                                                                                                 │\n",
       "│ 3. Create a stage for the superhero vs villain battle with props like shields, swords, and hammers.             │\n",
       "│                                                                                                                 │\n",
       "│ 4. Have a photo booth where guests can take pictures with their superheroes or villains.                        │\n",
       "│                                                                                                                 │\n",
       "│ 5. Set up game stations for games like 'Guess Who's the Hero? ' or 'Survive the Superhero Apocalypse.'          │\n",
       "│                                                                                                                 │\n",
       "│ 6. Host a cake topper contest where guests can create a superhero or villain themed cake topper.                │\n",
       "╰─────────────────────────────────────────────────────────────────────────────────────────────────────────────────╯\n",
       "</pre>\n"
      ],
      "text/plain": [
       "╭─────────────────────────────────────────────────────────────────────────────────────────────────────────────────╮\n",
       "│ Calling tool: 'final_answer' with arguments: The best superhero party idea for a 'villain masquerade' theme     │\n",
       "│ would be to host an 'Epic Heroic Battle' themed party. Here are the steps you can follow:                       │\n",
       "│                                                                                                                 │\n",
       "│ 1. Decorate the venue with black and white decorations, as well as red carpet.                                  │\n",
       "│                                                                                                                 │\n",
       "│ 2. Hire superheroes and villains dressed in their iconic costumes.                                              │\n",
       "│                                                                                                                 │\n",
       "│ 3. Create a stage for the superhero vs villain battle with props like shields, swords, and hammers.             │\n",
       "│                                                                                                                 │\n",
       "│ 4. Have a photo booth where guests can take pictures with their superheroes or villains.                        │\n",
       "│                                                                                                                 │\n",
       "│ 5. Set up game stations for games like 'Guess Who's the Hero? ' or 'Survive the Superhero Apocalypse.'          │\n",
       "│                                                                                                                 │\n",
       "│ 6. Host a cake topper contest where guests can create a superhero or villain themed cake topper.                │\n",
       "╰─────────────────────────────────────────────────────────────────────────────────────────────────────────────────╯\n"
      ]
     },
     "metadata": {},
     "output_type": "display_data"
    },
    {
     "data": {
      "text/html": [
       "<pre style=\"white-space:pre;overflow-x:auto;line-height:normal;font-family:Menlo,'DejaVu Sans Mono',consolas,'Courier New',monospace\"><span style=\"color: #d4b702; text-decoration-color: #d4b702; font-weight: bold\">Final answer: The best superhero party idea for a 'villain masquerade' theme would be to host an 'Epic Heroic </span>\n",
       "<span style=\"color: #d4b702; text-decoration-color: #d4b702; font-weight: bold\">Battle' themed party. Here are the steps you can follow:</span>\n",
       "\n",
       "<span style=\"color: #d4b702; text-decoration-color: #d4b702; font-weight: bold\">1. Decorate the venue with black and white decorations, as well as red carpet.</span>\n",
       "\n",
       "<span style=\"color: #d4b702; text-decoration-color: #d4b702; font-weight: bold\">2. Hire superheroes and villains dressed in their iconic costumes.</span>\n",
       "\n",
       "<span style=\"color: #d4b702; text-decoration-color: #d4b702; font-weight: bold\">3. Create a stage for the superhero vs villain battle with props like shields, swords, and hammers.</span>\n",
       "\n",
       "<span style=\"color: #d4b702; text-decoration-color: #d4b702; font-weight: bold\">4. Have a photo booth where guests can take pictures with their superheroes or villains.</span>\n",
       "\n",
       "<span style=\"color: #d4b702; text-decoration-color: #d4b702; font-weight: bold\">5. Set up game stations for games like 'Guess Who's the Hero? ' or 'Survive the Superhero Apocalypse.'</span>\n",
       "\n",
       "<span style=\"color: #d4b702; text-decoration-color: #d4b702; font-weight: bold\">6. Host a cake topper contest where guests can create a superhero or villain themed cake topper.</span>\n",
       "</pre>\n"
      ],
      "text/plain": [
       "\u001b[1;38;2;212;183;2mFinal answer: The best superhero party idea for a 'villain masquerade' theme would be to host an 'Epic Heroic \u001b[0m\n",
       "\u001b[1;38;2;212;183;2mBattle' themed party. Here are the steps you can follow:\u001b[0m\n",
       "\n",
       "\u001b[1;38;2;212;183;2m1. Decorate the venue with black and white decorations, as well as red carpet.\u001b[0m\n",
       "\n",
       "\u001b[1;38;2;212;183;2m2. Hire superheroes and villains dressed in their iconic costumes.\u001b[0m\n",
       "\n",
       "\u001b[1;38;2;212;183;2m3. Create a stage for the superhero vs villain battle with props like shields, swords, and hammers.\u001b[0m\n",
       "\n",
       "\u001b[1;38;2;212;183;2m4. Have a photo booth where guests can take pictures with their superheroes or villains.\u001b[0m\n",
       "\n",
       "\u001b[1;38;2;212;183;2m5. Set up game stations for games like 'Guess Who's the Hero? ' or 'Survive the Superhero Apocalypse.'\u001b[0m\n",
       "\n",
       "\u001b[1;38;2;212;183;2m6. Host a cake topper contest where guests can create a superhero or villain themed cake topper.\u001b[0m\n"
      ]
     },
     "metadata": {},
     "output_type": "display_data"
    },
    {
     "data": {
      "text/html": [
       "<pre style=\"white-space:pre;overflow-x:auto;line-height:normal;font-family:Menlo,'DejaVu Sans Mono',consolas,'Courier New',monospace\"><span style=\"color: #7f7f7f; text-decoration-color: #7f7f7f\">[Step 2: Duration 61.52 seconds| Input tokens: 3,468 | Output tokens: 202]</span>\n",
       "</pre>\n"
      ],
      "text/plain": [
       "\u001b[2m[Step 2: Duration 61.52 seconds| Input tokens: 3,468 | Output tokens: 202]\u001b[0m\n"
      ]
     },
     "metadata": {},
     "output_type": "display_data"
    }
   ],
   "source": [
    "from smolagents import ToolCallingAgent, DuckDuckGoSearchTool\n",
    "\n",
    "agent = ToolCallingAgent(tools=[DuckDuckGoSearchTool()], model=model)\n",
    "\n",
    "# Run the agent to generate a party theme idea\n",
    "result = agent.run(\n",
    "    \"Search the internet and decide what would be a good superhero party idea for a 'villain masquerade' theme?\"\n",
    ")"
   ]
  },
  {
   "cell_type": "code",
   "execution_count": null,
   "id": "a83236cb",
   "metadata": {},
   "outputs": [],
   "source": [
    "from smolagents import load_tool, CodeAgent, InferenceClientModel\n",
    "\n",
    "image_generation_tool = load_tool(\n",
    "    \"m-ric/text-to-image\",\n",
    "    trust_remote_code=True\n",
    ")\n",
    "\n",
    "agent = CodeAgent(\n",
    "    tools=[image_generation_tool],\n",
    "    model=model\n",
    ")\n",
    "\n",
    "agent.run(\"Generate an image of a luxurious superhero-themed party at Wayne Manor with made-up superheros.\")"
   ]
  },
  {
   "cell_type": "code",
   "execution_count": 2,
   "id": "940ff444",
   "metadata": {},
   "outputs": [
    {
     "data": {
      "text/html": [
       "<pre style=\"white-space:pre;overflow-x:auto;line-height:normal;font-family:Menlo,'DejaVu Sans Mono',consolas,'Courier New',monospace\"><span style=\"color: #d4b702; text-decoration-color: #d4b702\">╭──────────────────────────────────────────────────── </span><span style=\"color: #d4b702; text-decoration-color: #d4b702; font-weight: bold\">New run</span><span style=\"color: #d4b702; text-decoration-color: #d4b702\"> ────────────────────────────────────────────────────╮</span>\n",
       "<span style=\"color: #d4b702; text-decoration-color: #d4b702\">│</span>                                                                                                                 <span style=\"color: #d4b702; text-decoration-color: #d4b702\">│</span>\n",
       "<span style=\"color: #d4b702; text-decoration-color: #d4b702\">│</span> <span style=\"font-weight: bold\">Search for luxury entertainment ideas for a superhero-themed event, such as live performances and interactive </span>  <span style=\"color: #d4b702; text-decoration-color: #d4b702\">│</span>\n",
       "<span style=\"color: #d4b702; text-decoration-color: #d4b702\">│</span> <span style=\"font-weight: bold\">experiences.</span>                                                                                                    <span style=\"color: #d4b702; text-decoration-color: #d4b702\">│</span>\n",
       "<span style=\"color: #d4b702; text-decoration-color: #d4b702\">│</span>                                                                                                                 <span style=\"color: #d4b702; text-decoration-color: #d4b702\">│</span>\n",
       "<span style=\"color: #d4b702; text-decoration-color: #d4b702\">╰─ LiteLLMModel - ollama_chat/qwen2.5-coder:3b ───────────────────────────────────────────────────────────────────╯</span>\n",
       "</pre>\n"
      ],
      "text/plain": [
       "\u001b[38;2;212;183;2m╭─\u001b[0m\u001b[38;2;212;183;2m───────────────────────────────────────────────────\u001b[0m\u001b[38;2;212;183;2m \u001b[0m\u001b[1;38;2;212;183;2mNew run\u001b[0m\u001b[38;2;212;183;2m \u001b[0m\u001b[38;2;212;183;2m───────────────────────────────────────────────────\u001b[0m\u001b[38;2;212;183;2m─╮\u001b[0m\n",
       "\u001b[38;2;212;183;2m│\u001b[0m                                                                                                                 \u001b[38;2;212;183;2m│\u001b[0m\n",
       "\u001b[38;2;212;183;2m│\u001b[0m \u001b[1mSearch for luxury entertainment ideas for a superhero-themed event, such as live performances and interactive \u001b[0m  \u001b[38;2;212;183;2m│\u001b[0m\n",
       "\u001b[38;2;212;183;2m│\u001b[0m \u001b[1mexperiences.\u001b[0m                                                                                                    \u001b[38;2;212;183;2m│\u001b[0m\n",
       "\u001b[38;2;212;183;2m│\u001b[0m                                                                                                                 \u001b[38;2;212;183;2m│\u001b[0m\n",
       "\u001b[38;2;212;183;2m╰─\u001b[0m\u001b[38;2;212;183;2m LiteLLMModel - ollama_chat/qwen2.5-coder:3b \u001b[0m\u001b[38;2;212;183;2m──────────────────────────────────────────────────────────────────\u001b[0m\u001b[38;2;212;183;2m─╯\u001b[0m\n"
      ]
     },
     "metadata": {},
     "output_type": "display_data"
    },
    {
     "data": {
      "text/html": [
       "<pre style=\"white-space:pre;overflow-x:auto;line-height:normal;font-family:Menlo,'DejaVu Sans Mono',consolas,'Courier New',monospace\"><span style=\"color: #d4b702; text-decoration-color: #d4b702\">━━━━━━━━━━━━━━━━━━━━━━━━━━━━━━━━━━━━━━━━━━━━━━━━━━━━━ </span><span style=\"font-weight: bold\">Step </span><span style=\"color: #008080; text-decoration-color: #008080; font-weight: bold\">1</span><span style=\"color: #d4b702; text-decoration-color: #d4b702\"> ━━━━━━━━━━━━━━━━━━━━━━━━━━━━━━━━━━━━━━━━━━━━━━━━━━━━━━</span>\n",
       "</pre>\n"
      ],
      "text/plain": [
       "\u001b[38;2;212;183;2m━━━━━━━━━━━━━━━━━━━━━━━━━━━━━━━━━━━━━━━━━━━━━━━━━━━━━ \u001b[0m\u001b[1mStep \u001b[0m\u001b[1;36m1\u001b[0m\u001b[38;2;212;183;2m ━━━━━━━━━━━━━━━━━━━━━━━━━━━━━━━━━━━━━━━━━━━━━━━━━━━━━━\u001b[0m\n"
      ]
     },
     "metadata": {},
     "output_type": "display_data"
    },
    {
     "data": {
      "text/html": [
       "<pre style=\"white-space:pre;overflow-x:auto;line-height:normal;font-family:Menlo,'DejaVu Sans Mono',consolas,'Courier New',monospace\">╭─────────────────────────────────────────────────────────────────────────────────────────────────────────────────╮\n",
       "│ Calling tool: 'duckduckgo_search' with arguments: {'query': 'luxury entertainment ideas for superhero-themed    │\n",
       "│ events'}                                                                                                        │\n",
       "╰─────────────────────────────────────────────────────────────────────────────────────────────────────────────────╯\n",
       "</pre>\n"
      ],
      "text/plain": [
       "╭─────────────────────────────────────────────────────────────────────────────────────────────────────────────────╮\n",
       "│ Calling tool: 'duckduckgo_search' with arguments: {'query': 'luxury entertainment ideas for superhero-themed    │\n",
       "│ events'}                                                                                                        │\n",
       "╰─────────────────────────────────────────────────────────────────────────────────────────────────────────────────╯\n"
      ]
     },
     "metadata": {},
     "output_type": "display_data"
    },
    {
     "data": {
      "text/html": [
       "<pre style=\"white-space:pre;overflow-x:auto;line-height:normal;font-family:Menlo,'DejaVu Sans Mono',consolas,'Courier New',monospace\">Observations: Unleash your inner hero with our ultimate guide to hosting an unforgettable superhero-themed party \n",
       "for adults! Explore creative costume ideas, vibrant decorations, and mouthwatering themed snacks and drinks. Engage\n",
       "your guests with fun activities like trivia, costume contests, and movie screenings. Follow our planning tips to \n",
       "create a cohesive, memorable experience that your friends will rave <span style=\"color: #808000; text-decoration-color: #808000\">...</span> These ideas will make you wish you were a \n",
       "kid again and it was your birthday or a special day. If you are willing to arrange your own superhero party, here \n",
       "are some great ideas for your themed party. Try some for your little superhero's next party! <span style=\"color: #008080; text-decoration-color: #008080; font-weight: bold\">24</span> Incredible \n",
       "Superhero Party Ideas! <span style=\"color: #008080; text-decoration-color: #008080; font-weight: bold\">1</span>. Condiments and beverages that really <span style=\"color: #008000; text-decoration-color: #008000\">\"POP!\"</span> <span style=\"color: #008080; text-decoration-color: #008080; font-weight: bold\">2</span>. Transport your guests to a magical Arabian\n",
       "oasis with this opulent and exotic high-end party theme. From sumptuous fabrics to ornate cushions and low-seating \n",
       "arrangements such as pouffes and ottomans, every detail will exude grandeur and elegance. Create a luxurious \n",
       "atmosphere with vibrant colours, intricate patterns, and lavish decor elements worthy of Middle Eastern royalty. \n",
       "Highlight favorite Avengers characters to create an exciting theme. Use themed games, decor, and snacks to bring \n",
       "the Marvel vibe to life. A little creativity goes a long way toward making your party unforgettable. Planning Your \n",
       "Avengers Party. Every superhero needs a solid plan, and throwing an Avengers party is no exception. Superhero \n",
       "Knowledge Bingo. via PracticalWhimsyCo/etsy.com. Finish the day of fun out strong and test their super bingo \n",
       "skills! Use this easy superhero printable and play a few rounds before the party ends. To really up the ante, you \n",
       "could add superhero-themed trivia to this bingo game and give out special prizes to the winners. Superhero Party \n",
       "<span style=\"color: #808000; text-decoration-color: #808000\">...</span>\n",
       "</pre>\n"
      ],
      "text/plain": [
       "Observations: Unleash your inner hero with our ultimate guide to hosting an unforgettable superhero-themed party \n",
       "for adults! Explore creative costume ideas, vibrant decorations, and mouthwatering themed snacks and drinks. Engage\n",
       "your guests with fun activities like trivia, costume contests, and movie screenings. Follow our planning tips to \n",
       "create a cohesive, memorable experience that your friends will rave \u001b[33m...\u001b[0m These ideas will make you wish you were a \n",
       "kid again and it was your birthday or a special day. If you are willing to arrange your own superhero party, here \n",
       "are some great ideas for your themed party. Try some for your little superhero's next party! \u001b[1;36m24\u001b[0m Incredible \n",
       "Superhero Party Ideas! \u001b[1;36m1\u001b[0m. Condiments and beverages that really \u001b[32m\"POP!\"\u001b[0m \u001b[1;36m2\u001b[0m. Transport your guests to a magical Arabian\n",
       "oasis with this opulent and exotic high-end party theme. From sumptuous fabrics to ornate cushions and low-seating \n",
       "arrangements such as pouffes and ottomans, every detail will exude grandeur and elegance. Create a luxurious \n",
       "atmosphere with vibrant colours, intricate patterns, and lavish decor elements worthy of Middle Eastern royalty. \n",
       "Highlight favorite Avengers characters to create an exciting theme. Use themed games, decor, and snacks to bring \n",
       "the Marvel vibe to life. A little creativity goes a long way toward making your party unforgettable. Planning Your \n",
       "Avengers Party. Every superhero needs a solid plan, and throwing an Avengers party is no exception. Superhero \n",
       "Knowledge Bingo. via PracticalWhimsyCo/etsy.com. Finish the day of fun out strong and test their super bingo \n",
       "skills! Use this easy superhero printable and play a few rounds before the party ends. To really up the ante, you \n",
       "could add superhero-themed trivia to this bingo game and give out special prizes to the winners. Superhero Party \n",
       "\u001b[33m...\u001b[0m\n"
      ]
     },
     "metadata": {},
     "output_type": "display_data"
    },
    {
     "data": {
      "text/html": [
       "<pre style=\"white-space:pre;overflow-x:auto;line-height:normal;font-family:Menlo,'DejaVu Sans Mono',consolas,'Courier New',monospace\"><span style=\"color: #7f7f7f; text-decoration-color: #7f7f7f\">[Step 1: Duration 33.29 seconds| Input tokens: 1,109 | Output tokens: 38]</span>\n",
       "</pre>\n"
      ],
      "text/plain": [
       "\u001b[2m[Step 1: Duration 33.29 seconds| Input tokens: 1,109 | Output tokens: 38]\u001b[0m\n"
      ]
     },
     "metadata": {},
     "output_type": "display_data"
    },
    {
     "data": {
      "text/html": [
       "<pre style=\"white-space:pre;overflow-x:auto;line-height:normal;font-family:Menlo,'DejaVu Sans Mono',consolas,'Courier New',monospace\"><span style=\"color: #d4b702; text-decoration-color: #d4b702\">━━━━━━━━━━━━━━━━━━━━━━━━━━━━━━━━━━━━━━━━━━━━━━━━━━━━━ </span><span style=\"font-weight: bold\">Step </span><span style=\"color: #008080; text-decoration-color: #008080; font-weight: bold\">2</span><span style=\"color: #d4b702; text-decoration-color: #d4b702\"> ━━━━━━━━━━━━━━━━━━━━━━━━━━━━━━━━━━━━━━━━━━━━━━━━━━━━━━</span>\n",
       "</pre>\n"
      ],
      "text/plain": [
       "\u001b[38;2;212;183;2m━━━━━━━━━━━━━━━━━━━━━━━━━━━━━━━━━━━━━━━━━━━━━━━━━━━━━ \u001b[0m\u001b[1mStep \u001b[0m\u001b[1;36m2\u001b[0m\u001b[38;2;212;183;2m ━━━━━━━━━━━━━━━━━━━━━━━━━━━━━━━━━━━━━━━━━━━━━━━━━━━━━━\u001b[0m\n"
      ]
     },
     "metadata": {},
     "output_type": "display_data"
    },
    {
     "data": {
      "text/html": [
       "<pre style=\"white-space:pre;overflow-x:auto;line-height:normal;font-family:Menlo,'DejaVu Sans Mono',consolas,'Courier New',monospace\">╭─────────────────────────────────────────────────────────────────────────────────────────────────────────────────╮\n",
       "│ Calling tool: 'final_answer' with arguments: Explore creative costume ideas, vibrant decorations, and           │\n",
       "│ mouthwatering themed snacks and drinks. Engage your guests with fun activities like trivia, costume contests,   │\n",
       "│ and movie screenings.                                                                                           │\n",
       "╰─────────────────────────────────────────────────────────────────────────────────────────────────────────────────╯\n",
       "</pre>\n"
      ],
      "text/plain": [
       "╭─────────────────────────────────────────────────────────────────────────────────────────────────────────────────╮\n",
       "│ Calling tool: 'final_answer' with arguments: Explore creative costume ideas, vibrant decorations, and           │\n",
       "│ mouthwatering themed snacks and drinks. Engage your guests with fun activities like trivia, costume contests,   │\n",
       "│ and movie screenings.                                                                                           │\n",
       "╰─────────────────────────────────────────────────────────────────────────────────────────────────────────────────╯\n"
      ]
     },
     "metadata": {},
     "output_type": "display_data"
    },
    {
     "data": {
      "text/html": [
       "<pre style=\"white-space:pre;overflow-x:auto;line-height:normal;font-family:Menlo,'DejaVu Sans Mono',consolas,'Courier New',monospace\"><span style=\"color: #d4b702; text-decoration-color: #d4b702; font-weight: bold\">Final answer: Explore creative costume ideas, vibrant decorations, and mouthwatering themed snacks and drinks. </span>\n",
       "<span style=\"color: #d4b702; text-decoration-color: #d4b702; font-weight: bold\">Engage your guests with fun activities like trivia, costume contests, and movie screenings.</span>\n",
       "</pre>\n"
      ],
      "text/plain": [
       "\u001b[1;38;2;212;183;2mFinal answer: Explore creative costume ideas, vibrant decorations, and mouthwatering themed snacks and drinks. \u001b[0m\n",
       "\u001b[1;38;2;212;183;2mEngage your guests with fun activities like trivia, costume contests, and movie screenings.\u001b[0m\n"
      ]
     },
     "metadata": {},
     "output_type": "display_data"
    },
    {
     "data": {
      "text/html": [
       "<pre style=\"white-space:pre;overflow-x:auto;line-height:normal;font-family:Menlo,'DejaVu Sans Mono',consolas,'Courier New',monospace\"><span style=\"color: #7f7f7f; text-decoration-color: #7f7f7f\">[Step 2: Duration 18.59 seconds| Input tokens: 2,685 | Output tokens: 90]</span>\n",
       "</pre>\n"
      ],
      "text/plain": [
       "\u001b[2m[Step 2: Duration 18.59 seconds| Input tokens: 2,685 | Output tokens: 90]\u001b[0m\n"
      ]
     },
     "metadata": {},
     "output_type": "display_data"
    },
    {
     "data": {
      "text/plain": [
       "'Explore creative costume ideas, vibrant decorations, and mouthwatering themed snacks and drinks. Engage your guests with fun activities like trivia, costume contests, and movie screenings.'"
      ]
     },
     "execution_count": 2,
     "metadata": {},
     "output_type": "execute_result"
    }
   ],
   "source": [
    "from langchain.agents import load_tools\n",
    "from langchain_community.tools import DuckDuckGoSearchRun\n",
    "from smolagents import ToolCallingAgent, InferenceClientModel, Tool\n",
    "\n",
    "# search_tool = Tool.from_langchain(load_tools([\"serpapi\"])[0])\n",
    "search_tool = Tool.from_langchain(DuckDuckGoSearchRun())\n",
    "\n",
    "agent = ToolCallingAgent(tools=[search_tool], model=model)\n",
    "\n",
    "agent.run(\"Search for luxury entertainment ideas for a superhero-themed event, such as live performances and interactive experiences.\")"
   ]
  },
  {
   "cell_type": "code",
   "execution_count": null,
   "id": "9495f8cd",
   "metadata": {},
   "outputs": [
    {
     "name": "stderr",
     "output_type": "stream",
     "text": [
      "Exception in thread Thread-5 (_run_loop):\n",
      "Traceback (most recent call last):\n",
      "  File \"c:\\Users\\IdeaPad\\anaconda3\\envs\\pytorch\\Lib\\site-packages\\mcp\\client\\stdio\\win32.py\", line 72, in create_windows_process\n",
      "    process = await anyio.open_process(\n",
      "              ^^^^^^^^^^^^^^^^^^^^^^^^^\n",
      "  File \"c:\\Users\\IdeaPad\\anaconda3\\envs\\pytorch\\Lib\\site-packages\\anyio\\_core\\_subprocesses.py\", line 190, in open_process\n",
      "    return await get_async_backend().open_process(\n",
      "           ^^^^^^^^^^^^^^^^^^^^^^^^^^^^^^^^^^^^^^^\n",
      "  File \"c:\\Users\\IdeaPad\\anaconda3\\envs\\pytorch\\Lib\\site-packages\\anyio\\_backends\\_asyncio.py\", line 2561, in open_process\n",
      "    process = await asyncio.create_subprocess_exec(\n",
      "              ^^^^^^^^^^^^^^^^^^^^^^^^^^^^^^^^^^^^^\n",
      "  File \"c:\\Users\\IdeaPad\\anaconda3\\envs\\pytorch\\Lib\\asyncio\\subprocess.py\", line 224, in create_subprocess_exec\n",
      "    transport, protocol = await loop.subprocess_exec(\n",
      "                          ^^^^^^^^^^^^^^^^^^^^^^^^^^^\n",
      "  File \"c:\\Users\\IdeaPad\\anaconda3\\envs\\pytorch\\Lib\\asyncio\\base_events.py\", line 1744, in subprocess_exec\n",
      "    transport = await self._make_subprocess_transport(\n",
      "                ^^^^^^^^^^^^^^^^^^^^^^^^^^^^^^^^^^^^^^\n",
      "  File \"c:\\Users\\IdeaPad\\anaconda3\\envs\\pytorch\\Lib\\asyncio\\windows_events.py\", line 400, in _make_subprocess_transport\n",
      "    transp = _WindowsSubprocessTransport(self, protocol, args, shell,\n",
      "             ^^^^^^^^^^^^^^^^^^^^^^^^^^^^^^^^^^^^^^^^^^^^^^^^^^^^^^^^\n",
      "  File \"c:\\Users\\IdeaPad\\anaconda3\\envs\\pytorch\\Lib\\asyncio\\base_subprocess.py\", line 36, in __init__\n",
      "    self._start(args=args, shell=shell, stdin=stdin, stdout=stdout,\n",
      "  File \"c:\\Users\\IdeaPad\\anaconda3\\envs\\pytorch\\Lib\\asyncio\\windows_events.py\", line 878, in _start\n",
      "    self._proc = windows_utils.Popen(\n",
      "                 ^^^^^^^^^^^^^^^^^^^^\n",
      "  File \"c:\\Users\\IdeaPad\\anaconda3\\envs\\pytorch\\Lib\\asyncio\\windows_utils.py\", line 153, in __init__\n",
      "    super().__init__(args, stdin=stdin_rfd, stdout=stdout_wfd,\n",
      "  File \"c:\\Users\\IdeaPad\\anaconda3\\envs\\pytorch\\Lib\\subprocess.py\", line 992, in __init__\n",
      "    errread, errwrite) = self._get_handles(stdin, stdout, stderr)\n",
      "                         ^^^^^^^^^^^^^^^^^^^^^^^^^^^^^^^^^^^^^^^^\n",
      "  File \"c:\\Users\\IdeaPad\\anaconda3\\envs\\pytorch\\Lib\\subprocess.py\", line 1406, in _get_handles\n",
      "    errwrite = msvcrt.get_osfhandle(stderr.fileno())\n",
      "                                    ^^^^^^^^^^^^^^^\n",
      "  File \"c:\\Users\\IdeaPad\\anaconda3\\envs\\pytorch\\Lib\\site-packages\\ipykernel\\iostream.py\", line 371, in fileno\n",
      "    raise io.UnsupportedOperation(msg)\n",
      "io.UnsupportedOperation: fileno\n",
      "\n",
      "During handling of the above exception, another exception occurred:\n",
      "\n",
      "Traceback (most recent call last):\n",
      "  File \"c:\\Users\\IdeaPad\\anaconda3\\envs\\pytorch\\Lib\\threading.py\", line 1073, in _bootstrap_inner\n",
      "    self.run()\n",
      "  File \"c:\\Users\\IdeaPad\\anaconda3\\envs\\pytorch\\Lib\\site-packages\\ipykernel\\ipkernel.py\", line 766, in run_closure\n",
      "    _threading_Thread_run(self)\n",
      "  File \"c:\\Users\\IdeaPad\\anaconda3\\envs\\pytorch\\Lib\\threading.py\", line 1010, in run\n",
      "    self._target(*self._args, **self._kwargs)\n",
      "  File \"c:\\Users\\IdeaPad\\anaconda3\\envs\\pytorch\\Lib\\site-packages\\mcpadapt\\core.py\", line 210, in _run_loop\n",
      "    self.loop.run_until_complete(self.task)\n",
      "  File \"c:\\Users\\IdeaPad\\anaconda3\\envs\\pytorch\\Lib\\asyncio\\base_events.py\", line 687, in run_until_complete\n",
      "    return future.result()\n",
      "           ^^^^^^^^^^^^^^^\n",
      "  File \"c:\\Users\\IdeaPad\\anaconda3\\envs\\pytorch\\Lib\\asyncio\\futures.py\", line 203, in result\n",
      "    raise self._exception.with_traceback(self._exception_tb)\n",
      "  File \"c:\\Users\\IdeaPad\\anaconda3\\envs\\pytorch\\Lib\\asyncio\\tasks.py\", line 314, in __step_run_and_handle_result\n",
      "    result = coro.send(None)\n",
      "             ^^^^^^^^^^^^^^^\n",
      "  File \"c:\\Users\\IdeaPad\\anaconda3\\envs\\pytorch\\Lib\\site-packages\\mcpadapt\\core.py\", line 201, in setup\n",
      "    await stack.enter_async_context(mcptools(params))\n",
      "  File \"c:\\Users\\IdeaPad\\anaconda3\\envs\\pytorch\\Lib\\contextlib.py\", line 659, in enter_async_context\n",
      "    result = await _enter(cm)\n",
      "             ^^^^^^^^^^^^^^^^\n",
      "  File \"c:\\Users\\IdeaPad\\anaconda3\\envs\\pytorch\\Lib\\contextlib.py\", line 210, in __aenter__\n",
      "    return await anext(self.gen)\n",
      "           ^^^^^^^^^^^^^^^^^^^^^\n",
      "  File \"c:\\Users\\IdeaPad\\anaconda3\\envs\\pytorch\\Lib\\site-packages\\mcpadapt\\core.py\", line 110, in mcptools\n",
      "    async with client as (read, write):\n",
      "  File \"c:\\Users\\IdeaPad\\anaconda3\\envs\\pytorch\\Lib\\contextlib.py\", line 210, in __aenter__\n",
      "    return await anext(self.gen)\n",
      "           ^^^^^^^^^^^^^^^^^^^^^\n",
      "  File \"c:\\Users\\IdeaPad\\anaconda3\\envs\\pytorch\\Lib\\site-packages\\mcp\\client\\stdio\\__init__.py\", line 114, in stdio_client\n",
      "    process = await _create_platform_compatible_process(\n",
      "              ^^^^^^^^^^^^^^^^^^^^^^^^^^^^^^^^^^^^^^^^^^\n",
      "  File \"c:\\Users\\IdeaPad\\anaconda3\\envs\\pytorch\\Lib\\site-packages\\mcp\\client\\stdio\\__init__.py\", line 214, in _create_platform_compatible_process\n",
      "    process = await create_windows_process(command, args, env, errlog, cwd)\n",
      "              ^^^^^^^^^^^^^^^^^^^^^^^^^^^^^^^^^^^^^^^^^^^^^^^^^^^^^^^^^^^^^\n",
      "  File \"c:\\Users\\IdeaPad\\anaconda3\\envs\\pytorch\\Lib\\site-packages\\mcp\\client\\stdio\\win32.py\", line 85, in create_windows_process\n",
      "    process = await anyio.open_process(\n",
      "              ^^^^^^^^^^^^^^^^^^^^^^^^^\n",
      "  File \"c:\\Users\\IdeaPad\\anaconda3\\envs\\pytorch\\Lib\\site-packages\\anyio\\_core\\_subprocesses.py\", line 190, in open_process\n",
      "    return await get_async_backend().open_process(\n",
      "           ^^^^^^^^^^^^^^^^^^^^^^^^^^^^^^^^^^^^^^^\n",
      "  File \"c:\\Users\\IdeaPad\\anaconda3\\envs\\pytorch\\Lib\\site-packages\\anyio\\_backends\\_asyncio.py\", line 2561, in open_process\n",
      "    process = await asyncio.create_subprocess_exec(\n",
      "              ^^^^^^^^^^^^^^^^^^^^^^^^^^^^^^^^^^^^^\n",
      "  File \"c:\\Users\\IdeaPad\\anaconda3\\envs\\pytorch\\Lib\\asyncio\\subprocess.py\", line 224, in create_subprocess_exec\n",
      "    transport, protocol = await loop.subprocess_exec(\n",
      "                          ^^^^^^^^^^^^^^^^^^^^^^^^^^^\n",
      "  File \"c:\\Users\\IdeaPad\\anaconda3\\envs\\pytorch\\Lib\\asyncio\\base_events.py\", line 1744, in subprocess_exec\n",
      "    transport = await self._make_subprocess_transport(\n",
      "                ^^^^^^^^^^^^^^^^^^^^^^^^^^^^^^^^^^^^^^\n",
      "  File \"c:\\Users\\IdeaPad\\anaconda3\\envs\\pytorch\\Lib\\asyncio\\windows_events.py\", line 400, in _make_subprocess_transport\n",
      "    transp = _WindowsSubprocessTransport(self, protocol, args, shell,\n",
      "             ^^^^^^^^^^^^^^^^^^^^^^^^^^^^^^^^^^^^^^^^^^^^^^^^^^^^^^^^\n",
      "  File \"c:\\Users\\IdeaPad\\anaconda3\\envs\\pytorch\\Lib\\asyncio\\base_subprocess.py\", line 36, in __init__\n",
      "    self._start(args=args, shell=shell, stdin=stdin, stdout=stdout,\n",
      "  File \"c:\\Users\\IdeaPad\\anaconda3\\envs\\pytorch\\Lib\\asyncio\\windows_events.py\", line 878, in _start\n",
      "    self._proc = windows_utils.Popen(\n",
      "                 ^^^^^^^^^^^^^^^^^^^^\n",
      "  File \"c:\\Users\\IdeaPad\\anaconda3\\envs\\pytorch\\Lib\\asyncio\\windows_utils.py\", line 153, in __init__\n",
      "    super().__init__(args, stdin=stdin_rfd, stdout=stdout_wfd,\n",
      "  File \"c:\\Users\\IdeaPad\\anaconda3\\envs\\pytorch\\Lib\\subprocess.py\", line 992, in __init__\n",
      "    errread, errwrite) = self._get_handles(stdin, stdout, stderr)\n",
      "                         ^^^^^^^^^^^^^^^^^^^^^^^^^^^^^^^^^^^^^^^^\n",
      "  File \"c:\\Users\\IdeaPad\\anaconda3\\envs\\pytorch\\Lib\\subprocess.py\", line 1406, in _get_handles\n",
      "    errwrite = msvcrt.get_osfhandle(stderr.fileno())\n",
      "                                    ^^^^^^^^^^^^^^^\n",
      "  File \"c:\\Users\\IdeaPad\\anaconda3\\envs\\pytorch\\Lib\\site-packages\\ipykernel\\iostream.py\", line 371, in fileno\n",
      "    raise io.UnsupportedOperation(msg)\n",
      "io.UnsupportedOperation: fileno\n"
     ]
    },
    {
     "ename": "TimeoutError",
     "evalue": "Couldn't connect to the MCP server after 30 seconds",
     "output_type": "error",
     "traceback": [
      "\u001b[1;31m---------------------------------------------------------------------------\u001b[0m",
      "\u001b[1;31mTimeoutError\u001b[0m                              Traceback (most recent call last)",
      "Cell \u001b[1;32mIn[4], line 18\u001b[0m\n\u001b[0;32m     10\u001b[0m     asyncio\u001b[38;5;241m.\u001b[39mset_event_loop_policy(asyncio\u001b[38;5;241m.\u001b[39mWindowsProactorEventLoopPolicy())\n\u001b[0;32m     12\u001b[0m server_parameters \u001b[38;5;241m=\u001b[39m StdioServerParameters(\n\u001b[0;32m     13\u001b[0m     command\u001b[38;5;241m=\u001b[39m\u001b[38;5;124m\"\u001b[39m\u001b[38;5;124muvx\u001b[39m\u001b[38;5;124m\"\u001b[39m,\n\u001b[0;32m     14\u001b[0m     args\u001b[38;5;241m=\u001b[39m[\u001b[38;5;124m\"\u001b[39m\u001b[38;5;124m--quiet\u001b[39m\u001b[38;5;124m\"\u001b[39m, \u001b[38;5;124m\"\u001b[39m\u001b[38;5;124mpubmedmcp@0.1.3\u001b[39m\u001b[38;5;124m\"\u001b[39m],\n\u001b[0;32m     15\u001b[0m     env\u001b[38;5;241m=\u001b[39m{\u001b[38;5;124m\"\u001b[39m\u001b[38;5;124mUV_PYTHON\u001b[39m\u001b[38;5;124m\"\u001b[39m: \u001b[38;5;124m\"\u001b[39m\u001b[38;5;124m3.12\u001b[39m\u001b[38;5;124m\"\u001b[39m, \u001b[38;5;241m*\u001b[39m\u001b[38;5;241m*\u001b[39mos\u001b[38;5;241m.\u001b[39menviron},\n\u001b[0;32m     16\u001b[0m )\n\u001b[1;32m---> 18\u001b[0m \u001b[38;5;28;43;01mwith\u001b[39;49;00m\u001b[43m \u001b[49m\u001b[43mToolCollection\u001b[49m\u001b[38;5;241;43m.\u001b[39;49m\u001b[43mfrom_mcp\u001b[49m\u001b[43m(\u001b[49m\u001b[43mserver_parameters\u001b[49m\u001b[43m,\u001b[49m\u001b[43m \u001b[49m\u001b[43mtrust_remote_code\u001b[49m\u001b[38;5;241;43m=\u001b[39;49m\u001b[38;5;28;43;01mTrue\u001b[39;49;00m\u001b[43m)\u001b[49m\u001b[43m \u001b[49m\u001b[38;5;28;43;01mas\u001b[39;49;00m\u001b[43m \u001b[49m\u001b[43mtool_collection\u001b[49m\u001b[43m:\u001b[49m\n\u001b[0;32m     19\u001b[0m \u001b[43m    \u001b[49m\u001b[43magent\u001b[49m\u001b[43m \u001b[49m\u001b[38;5;241;43m=\u001b[39;49m\u001b[43m \u001b[49m\u001b[43mCodeAgent\u001b[49m\u001b[43m(\u001b[49m\u001b[43mtools\u001b[49m\u001b[38;5;241;43m=\u001b[39;49m\u001b[43m[\u001b[49m\u001b[38;5;241;43m*\u001b[39;49m\u001b[43mtool_collection\u001b[49m\u001b[38;5;241;43m.\u001b[39;49m\u001b[43mtools\u001b[49m\u001b[43m]\u001b[49m\u001b[43m,\u001b[49m\u001b[43m \u001b[49m\u001b[43mmodel\u001b[49m\u001b[38;5;241;43m=\u001b[39;49m\u001b[43mmodel\u001b[49m\u001b[43m,\u001b[49m\u001b[43m \u001b[49m\u001b[43madd_base_tools\u001b[49m\u001b[38;5;241;43m=\u001b[39;49m\u001b[38;5;28;43;01mTrue\u001b[39;49;00m\u001b[43m)\u001b[49m\n\u001b[0;32m     20\u001b[0m \u001b[43m    \u001b[49m\u001b[43magent\u001b[49m\u001b[38;5;241;43m.\u001b[39;49m\u001b[43mrun\u001b[49m\u001b[43m(\u001b[49m\u001b[38;5;124;43m\"\u001b[39;49m\u001b[38;5;124;43mPlease find a remedy for hangover.\u001b[39;49m\u001b[38;5;124;43m\"\u001b[39;49m\u001b[43m)\u001b[49m\n",
      "File \u001b[1;32mc:\\Users\\IdeaPad\\anaconda3\\envs\\pytorch\\Lib\\contextlib.py:137\u001b[0m, in \u001b[0;36m_GeneratorContextManager.__enter__\u001b[1;34m(self)\u001b[0m\n\u001b[0;32m    135\u001b[0m \u001b[38;5;28;01mdel\u001b[39;00m \u001b[38;5;28mself\u001b[39m\u001b[38;5;241m.\u001b[39margs, \u001b[38;5;28mself\u001b[39m\u001b[38;5;241m.\u001b[39mkwds, \u001b[38;5;28mself\u001b[39m\u001b[38;5;241m.\u001b[39mfunc\n\u001b[0;32m    136\u001b[0m \u001b[38;5;28;01mtry\u001b[39;00m:\n\u001b[1;32m--> 137\u001b[0m     \u001b[38;5;28;01mreturn\u001b[39;00m \u001b[38;5;28;43mnext\u001b[39;49m\u001b[43m(\u001b[49m\u001b[38;5;28;43mself\u001b[39;49m\u001b[38;5;241;43m.\u001b[39;49m\u001b[43mgen\u001b[49m\u001b[43m)\u001b[49m\n\u001b[0;32m    138\u001b[0m \u001b[38;5;28;01mexcept\u001b[39;00m \u001b[38;5;167;01mStopIteration\u001b[39;00m:\n\u001b[0;32m    139\u001b[0m     \u001b[38;5;28;01mraise\u001b[39;00m \u001b[38;5;167;01mRuntimeError\u001b[39;00m(\u001b[38;5;124m\"\u001b[39m\u001b[38;5;124mgenerator didn\u001b[39m\u001b[38;5;124m'\u001b[39m\u001b[38;5;124mt yield\u001b[39m\u001b[38;5;124m\"\u001b[39m) \u001b[38;5;28;01mfrom\u001b[39;00m\u001b[38;5;250m \u001b[39m\u001b[38;5;28;01mNone\u001b[39;00m\n",
      "File \u001b[1;32mc:\\Users\\IdeaPad\\anaconda3\\envs\\pytorch\\Lib\\site-packages\\smolagents\\tools.py:907\u001b[0m, in \u001b[0;36mToolCollection.from_mcp\u001b[1;34m(cls, server_parameters, trust_remote_code)\u001b[0m\n\u001b[0;32m    902\u001b[0m \u001b[38;5;28;01mexcept\u001b[39;00m \u001b[38;5;167;01mImportError\u001b[39;00m:\n\u001b[0;32m    903\u001b[0m     \u001b[38;5;28;01mraise\u001b[39;00m \u001b[38;5;167;01mImportError\u001b[39;00m(\n\u001b[0;32m    904\u001b[0m \u001b[38;5;250m        \u001b[39m\u001b[38;5;124;03m\"\"\"Please install 'mcp' extra to use ToolCollection.from_mcp: `pip install \"smolagents[mcp]\"`.\"\"\"\u001b[39;00m\n\u001b[0;32m    905\u001b[0m     )\n\u001b[1;32m--> 907\u001b[0m \u001b[43m\u001b[49m\u001b[38;5;28;43;01mwith\u001b[39;49;00m\u001b[43m \u001b[49m\u001b[43mMCPAdapt\u001b[49m\u001b[43m(\u001b[49m\u001b[43mserver_parameters\u001b[49m\u001b[43m,\u001b[49m\u001b[43m \u001b[49m\u001b[43mSmolAgentsAdapter\u001b[49m\u001b[43m(\u001b[49m\u001b[43m)\u001b[49m\u001b[43m)\u001b[49m\u001b[43m \u001b[49m\u001b[38;5;28;43;01mas\u001b[39;49;00m\u001b[43m \u001b[49m\u001b[43mtools\u001b[49m\u001b[43m:\u001b[49m\n\u001b[0;32m    908\u001b[0m \u001b[43m    \u001b[49m\u001b[38;5;28;43;01myield\u001b[39;49;00m\u001b[43m \u001b[49m\u001b[38;5;28;43mcls\u001b[39;49m\u001b[43m(\u001b[49m\u001b[43mtools\u001b[49m\u001b[43m)\u001b[49m\n",
      "File \u001b[1;32mc:\\Users\\IdeaPad\\anaconda3\\envs\\pytorch\\Lib\\site-packages\\mcpadapt\\core.py:252\u001b[0m, in \u001b[0;36mMCPAdapt.__enter__\u001b[1;34m(self)\u001b[0m\n\u001b[0;32m    250\u001b[0m \u001b[38;5;66;03m# check connection to mcp server is ready\u001b[39;00m\n\u001b[0;32m    251\u001b[0m \u001b[38;5;28;01mif\u001b[39;00m \u001b[38;5;129;01mnot\u001b[39;00m \u001b[38;5;28mself\u001b[39m\u001b[38;5;241m.\u001b[39mready\u001b[38;5;241m.\u001b[39mwait(timeout\u001b[38;5;241m=\u001b[39m\u001b[38;5;28mself\u001b[39m\u001b[38;5;241m.\u001b[39mconnect_timeout):\n\u001b[1;32m--> 252\u001b[0m     \u001b[38;5;28;01mraise\u001b[39;00m \u001b[38;5;167;01mTimeoutError\u001b[39;00m(\n\u001b[0;32m    253\u001b[0m         \u001b[38;5;124mf\u001b[39m\u001b[38;5;124m\"\u001b[39m\u001b[38;5;124mCouldn\u001b[39m\u001b[38;5;124m'\u001b[39m\u001b[38;5;124mt connect to the MCP server after \u001b[39m\u001b[38;5;132;01m{\u001b[39;00m\u001b[38;5;28mself\u001b[39m\u001b[38;5;241m.\u001b[39mconnect_timeout\u001b[38;5;132;01m}\u001b[39;00m\u001b[38;5;124m seconds\u001b[39m\u001b[38;5;124m\"\u001b[39m\n\u001b[0;32m    254\u001b[0m     )\n\u001b[0;32m    256\u001b[0m \u001b[38;5;28;01mreturn\u001b[39;00m \u001b[38;5;28mself\u001b[39m\u001b[38;5;241m.\u001b[39mtools()\n",
      "\u001b[1;31mTimeoutError\u001b[0m: Couldn't connect to the MCP server after 30 seconds"
     ]
    }
   ],
   "source": [
    "import os\n",
    "import asyncio\n",
    "from smolagents import ToolCollection, CodeAgent\n",
    "from mcp import StdioServerParameters\n",
    "# import nest_asyncio\n",
    "# nest_asyncio.apply()\n",
    "\n",
    "# Set the Windows Proactor event loop policy\n",
    "if os.name == 'nt':  # Only do this on Windows\n",
    "    asyncio.set_event_loop_policy(asyncio.WindowsProactorEventLoopPolicy())\n",
    "\n",
    "server_parameters = StdioServerParameters(\n",
    "    command=\"uvx\",\n",
    "    args=[\"--quiet\", \"pubmedmcp@0.1.3\"],\n",
    "    env={\"UV_PYTHON\": \"3.12\", **os.environ},\n",
    ")\n",
    "\n",
    "with ToolCollection.from_mcp(server_parameters, trust_remote_code=True) as tool_collection:\n",
    "    agent = CodeAgent(tools=[*tool_collection.tools], model=model, add_base_tools=True)\n",
    "    agent.run(\"Please find a remedy for hangover.\")"
   ]
  }
 ],
 "metadata": {
  "kernelspec": {
   "display_name": "pytorch",
   "language": "python",
   "name": "python3"
  },
  "language_info": {
   "codemirror_mode": {
    "name": "ipython",
    "version": 3
   },
   "file_extension": ".py",
   "mimetype": "text/x-python",
   "name": "python",
   "nbconvert_exporter": "python",
   "pygments_lexer": "ipython3",
   "version": "3.12.3"
  }
 },
 "nbformat": 4,
 "nbformat_minor": 5
}
