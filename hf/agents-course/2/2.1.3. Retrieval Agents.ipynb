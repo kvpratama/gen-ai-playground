{
 "cells": [
  {
   "cell_type": "code",
   "execution_count": 1,
   "id": "64b1567a",
   "metadata": {},
   "outputs": [],
   "source": [
    "from smolagents import LiteLLMModel\n",
    "\n",
    "model = LiteLLMModel(\n",
    "        # model_id=\"ollama_chat/qwen2.5-coder:3b\",  # Or try other Ollama-supported \n",
    "        model_id=\"ollama_chat/gemma3:4b\",\n",
    "        api_base=\"http://127.0.0.1:11434\",  # Default Ollama local server\n",
    "        num_ctx=8192,\n",
    ")"
   ]
  },
  {
   "cell_type": "code",
   "execution_count": 2,
   "id": "04541272",
   "metadata": {},
   "outputs": [
    {
     "data": {
      "text/html": [
       "<pre style=\"white-space:pre;overflow-x:auto;line-height:normal;font-family:Menlo,'DejaVu Sans Mono',consolas,'Courier New',monospace\"><span style=\"color: #d4b702; text-decoration-color: #d4b702\">╭──────────────────────────────────────────────────── </span><span style=\"color: #d4b702; text-decoration-color: #d4b702; font-weight: bold\">New run</span><span style=\"color: #d4b702; text-decoration-color: #d4b702\"> ────────────────────────────────────────────────────╮</span>\n",
       "<span style=\"color: #d4b702; text-decoration-color: #d4b702\">│</span>                                                                                                                 <span style=\"color: #d4b702; text-decoration-color: #d4b702\">│</span>\n",
       "<span style=\"color: #d4b702; text-decoration-color: #d4b702\">│</span> <span style=\"font-weight: bold\">Search for luxury superhero-themed party ideas, including decorations, entertainment, and catering.</span>             <span style=\"color: #d4b702; text-decoration-color: #d4b702\">│</span>\n",
       "<span style=\"color: #d4b702; text-decoration-color: #d4b702\">│</span>                                                                                                                 <span style=\"color: #d4b702; text-decoration-color: #d4b702\">│</span>\n",
       "<span style=\"color: #d4b702; text-decoration-color: #d4b702\">╰─ LiteLLMModel - ollama_chat/qwen2.5-coder:3b ───────────────────────────────────────────────────────────────────╯</span>\n",
       "</pre>\n"
      ],
      "text/plain": [
       "\u001b[38;2;212;183;2m╭─\u001b[0m\u001b[38;2;212;183;2m───────────────────────────────────────────────────\u001b[0m\u001b[38;2;212;183;2m \u001b[0m\u001b[1;38;2;212;183;2mNew run\u001b[0m\u001b[38;2;212;183;2m \u001b[0m\u001b[38;2;212;183;2m───────────────────────────────────────────────────\u001b[0m\u001b[38;2;212;183;2m─╮\u001b[0m\n",
       "\u001b[38;2;212;183;2m│\u001b[0m                                                                                                                 \u001b[38;2;212;183;2m│\u001b[0m\n",
       "\u001b[38;2;212;183;2m│\u001b[0m \u001b[1mSearch for luxury superhero-themed party ideas, including decorations, entertainment, and catering.\u001b[0m             \u001b[38;2;212;183;2m│\u001b[0m\n",
       "\u001b[38;2;212;183;2m│\u001b[0m                                                                                                                 \u001b[38;2;212;183;2m│\u001b[0m\n",
       "\u001b[38;2;212;183;2m╰─\u001b[0m\u001b[38;2;212;183;2m LiteLLMModel - ollama_chat/qwen2.5-coder:3b \u001b[0m\u001b[38;2;212;183;2m──────────────────────────────────────────────────────────────────\u001b[0m\u001b[38;2;212;183;2m─╯\u001b[0m\n"
      ]
     },
     "metadata": {},
     "output_type": "display_data"
    },
    {
     "data": {
      "text/html": [
       "<pre style=\"white-space:pre;overflow-x:auto;line-height:normal;font-family:Menlo,'DejaVu Sans Mono',consolas,'Courier New',monospace\"><span style=\"color: #d4b702; text-decoration-color: #d4b702\">━━━━━━━━━━━━━━━━━━━━━━━━━━━━━━━━━━━━━━━━━━━━━━━━━━━━━ </span><span style=\"font-weight: bold\">Step </span><span style=\"color: #008080; text-decoration-color: #008080; font-weight: bold\">1</span><span style=\"color: #d4b702; text-decoration-color: #d4b702\"> ━━━━━━━━━━━━━━━━━━━━━━━━━━━━━━━━━━━━━━━━━━━━━━━━━━━━━━</span>\n",
       "</pre>\n"
      ],
      "text/plain": [
       "\u001b[38;2;212;183;2m━━━━━━━━━━━━━━━━━━━━━━━━━━━━━━━━━━━━━━━━━━━━━━━━━━━━━ \u001b[0m\u001b[1mStep \u001b[0m\u001b[1;36m1\u001b[0m\u001b[38;2;212;183;2m ━━━━━━━━━━━━━━━━━━━━━━━━━━━━━━━━━━━━━━━━━━━━━━━━━━━━━━\u001b[0m\n"
      ]
     },
     "metadata": {},
     "output_type": "display_data"
    },
    {
     "data": {
      "text/html": [
       "<pre style=\"white-space:pre;overflow-x:auto;line-height:normal;font-family:Menlo,'DejaVu Sans Mono',consolas,'Courier New',monospace\">╭─────────────────────────────────────────────────────────────────────────────────────────────────────────────────╮\n",
       "│ Calling tool: 'web_search' with arguments: {'query': 'luxury superhero-themed party ideas'}                     │\n",
       "╰─────────────────────────────────────────────────────────────────────────────────────────────────────────────────╯\n",
       "</pre>\n"
      ],
      "text/plain": [
       "╭─────────────────────────────────────────────────────────────────────────────────────────────────────────────────╮\n",
       "│ Calling tool: 'web_search' with arguments: {'query': 'luxury superhero-themed party ideas'}                     │\n",
       "╰─────────────────────────────────────────────────────────────────────────────────────────────────────────────────╯\n"
      ]
     },
     "metadata": {},
     "output_type": "display_data"
    },
    {
     "data": {
      "text/html": [
       "<pre style=\"white-space:pre;overflow-x:auto;line-height:normal;font-family:Menlo,'DejaVu Sans Mono',consolas,'Courier New',monospace\">Observations: ## Search Results\n",
       "\n",
       "|<span style=\"color: #008080; text-decoration-color: #008080; font-weight: bold\">24</span> Superhero Party Ideas that Will Make You Wish You Were a \n",
       "Kid<span style=\"font-weight: bold\">](</span><span style=\"color: #0000ff; text-decoration-color: #0000ff; text-decoration: underline\">https://howdoesshe.com/24-incredible-superhero-party-ideas-that-will-make-you-wish-you-were-a-kid-again/)</span>\n",
       "Let your superman show his own superpowers!Kids <span style=\"font-weight: bold\">(</span>and even adults<span style=\"font-weight: bold\">)</span> who love superheroes will fall in love with these\n",
       "incredible superhero theme party ideas that will bring out the kid in everyone! From decor ideas, party foods, and \n",
       "costume ideas to superhero-themed activities and superhero games, we have different ways to cover all of your party\n",
       "needs. These ideas will make you wish you were a <span style=\"color: #808000; text-decoration-color: #808000\">...</span>\n",
       "\n",
       "|Superhero Theme Party Ideas for Adults to Create an Unforgettable \n",
       "<span style=\"color: #808000; text-decoration-color: #808000\">...</span><span style=\"font-weight: bold\">](</span><span style=\"color: #0000ff; text-decoration-color: #0000ff; text-decoration: underline\">https://partyideaszone.com/superhero-theme-party-ideas-for-adults/)</span>\n",
       "Unleash your inner hero with our ultimate guide to hosting an unforgettable superhero-themed party for adults! \n",
       "Explore creative costume ideas, vibrant decorations, and mouthwatering themed snacks and drinks. Engage your guests\n",
       "with fun activities like trivia, costume contests, and movie screenings. Follow our planning tips to create a \n",
       "cohesive, memorable experience that your friends will rave <span style=\"color: #808000; text-decoration-color: #808000\">...</span>\n",
       "\n",
       "|<span style=\"color: #008080; text-decoration-color: #008080; font-weight: bold\">900</span>+ Superhero Party Ideas in <span style=\"color: #008080; text-decoration-color: #008080; font-weight: bold\">2025</span> - Pinterest<span style=\"font-weight: bold\">](</span><span style=\"color: #0000ff; text-decoration-color: #0000ff; text-decoration: underline\">https://www.pinterest.com/catchmyparty/superhero-party-ideas/)</span>\n",
       "Apr <span style=\"color: #008080; text-decoration-color: #008080; font-weight: bold\">19</span>, <span style=\"color: #008080; text-decoration-color: #008080; font-weight: bold\">2025</span> - Superhero party ideas for birthdays -- Superhero cakes, decorations, party foods and favors. See \n",
       "more party ideas at CatchMyParty.com. See more ideas about superhero party, superhero birthday party, party.\n",
       "\n",
       "|<span style=\"color: #008080; text-decoration-color: #008080; font-weight: bold\">30</span>+ Superhero Party Ideas - Canva<span style=\"font-weight: bold\">](</span><span style=\"color: #0000ff; text-decoration-color: #0000ff; text-decoration: underline\">https://www.canva.com/ideas/superhero-party-ideas/)</span>\n",
       "Browse a wide range of superhero party ideas and inspiration, from photos and templates in a stunning selection of \n",
       "styles and colours. <span style=\"color: #808000; text-decoration-color: #808000\">...</span> all these ingenious concepts and more are in our special selection of superhero-themed \n",
       "designs and photos. Have a quick browse and find some excellent ideas for your party! Yellow Blue Red Superhero \n",
       "Pattern <span style=\"color: #808000; text-decoration-color: #808000\">...</span>\n",
       "\n",
       "|<span style=\"color: #008080; text-decoration-color: #008080; font-weight: bold\">25</span> Superhero Party Ideas For All Ages<span style=\"font-weight: bold\">](</span><span style=\"color: #0000ff; text-decoration-color: #0000ff; text-decoration: underline\">https://playideas.com/25-superhero-party-ideas/)</span>\n",
       "These super cool superhero theme party ideas are so much fun and perfect for all ages! Boy, girl, teen, or adult, \n",
       "it doesn't matter. They are perfect for your next superhero-themed food and party! We have found some amazingly \n",
       "fantastic party ideas from treats, decor, crafts to souvenirs for different sorts of superheroes, from Batman, \n",
       "Super <span style=\"color: #808000; text-decoration-color: #808000\">...</span>\n",
       "\n",
       "|<span style=\"color: #008080; text-decoration-color: #008080; font-weight: bold\">33</span> Superhero Party Games for Adults - Fun Party Pop<span style=\"font-weight: bold\">](</span><span style=\"color: #0000ff; text-decoration-color: #0000ff; text-decoration: underline\">https://funpartypop.com/superhero-party-games-adults/)</span>\n",
       "Super Hero Theme Song Challenge - Go onto youtube and type in different theme songs, then play the first <span style=\"color: #008080; text-decoration-color: #008080; font-weight: bold\">3</span> seconds \n",
       "for the players to see who can match it up with its superhero first. <span style=\"color: #008080; text-decoration-color: #008080; font-weight: bold\">17</span>. Sheild Frisbee - Use Cap's shield as a \n",
       "frisbee…he does this all the time. <span style=\"color: #008080; text-decoration-color: #008080; font-weight: bold\">18</span>. Connect <span style=\"color: #008080; text-decoration-color: #008080; font-weight: bold\">4</span> Spiderman Edition. <span style=\"color: #008080; text-decoration-color: #008080; font-weight: bold\">19</span>. Guess in <span style=\"color: #008080; text-decoration-color: #008080; font-weight: bold\">10</span>. <span style=\"color: #008080; text-decoration-color: #008080; font-weight: bold\">20</span>.\n",
       "\n",
       "|By a Pro: Superhero Party Ideas by a Professional<span style=\"font-weight: bold\">](</span><span style=\"color: #0000ff; text-decoration-color: #0000ff; text-decoration: underline\">https://party-ideas-by-a-pro.com/party-themes/superhero-party/)</span>\n",
       "Patriotic 4th of July recipes can easily be repurposed as Captain America themed Superhero party food, such as \n",
       "these recipes for Red, White, and Blue Chocolate Dipped Strawberries <span style=\"font-weight: bold\">(</span>below left, by Nicole at Baking Bites<span style=\"font-weight: bold\">)</span> or \n",
       "Jell-O cut into star shapes <span style=\"font-weight: bold\">(</span>below right, by Ali from Gimme Some Oven<span style=\"font-weight: bold\">)</span>.\n",
       "\n",
       "|The Best Superhero Party Ideas For An Epic Party - Smart Party \n",
       "Planning<span style=\"font-weight: bold\">](</span><span style=\"color: #0000ff; text-decoration-color: #0000ff; text-decoration: underline\">https://smartpartyplanning.com/superhero-party-ideas/)</span>\n",
       "Awesome superhero party ideas that will have your kids showing off their superhero powers in no time at all. With \n",
       "ideas for decorations, food and party games you will easily win the status of superhero mom. These ideas can be \n",
       "achieved on a budget with a bit of DIY. The kids are going to love them. Related articles: <span style=\"color: #008080; text-decoration-color: #008080; font-weight: bold\">5</span> Awesome Batman Party \n",
       "Ideas\n",
       "\n",
       "|Best Superhero Party Theme Ideas - Captain \n",
       "Fantastic<span style=\"font-weight: bold\">](</span><span style=\"color: #0000ff; text-decoration-color: #0000ff; text-decoration: underline\">https://captain-fantastic.co.uk/blog/best-superhero-party-theme-ideas/)</span>\n",
       "Superhero Party Theme Ideas Superhero Costume Extravaganza: Dress as Your Favorite Hero. Gear up for the ultimate \n",
       "adventure at the Superhero Costume Extravaganza - a pinnacle in the realm of excitement. Dive into the magic as you\n",
       "and your guests transform into beloved heroes, unleashing a world of imagination. Whether you don the cape of a <span style=\"color: #808000; text-decoration-color: #808000\">...</span>\n",
       "\n",
       "|Superhero-Themed Party Ideas &amp; Decorations | \n",
       "CORKCICLE.<span style=\"font-weight: bold\">](</span><span style=\"color: #0000ff; text-decoration-color: #0000ff; text-decoration: underline\">https://corkcicle.com/blogs/lifestyle/marvel-themed-party-ideas)</span>\n",
       "Superhero-themed parties have become a beloved trend, offering an exciting way to celebrate special occasions. The \n",
       "thrill of donning capes and masks, the vibrant decorations, and the heroic atmosphere make these parties a hit \n",
       "among kids and adults alike. In this guide, we'll explore Marvel superhero party ideas, ensuring your celebration \n",
       "is as epic as the comics and movies themselves <span style=\"color: #808000; text-decoration-color: #808000\">...</span>\n",
       "</pre>\n"
      ],
      "text/plain": [
       "Observations: ## Search Results\n",
       "\n",
       "|\u001b[1;36m24\u001b[0m Superhero Party Ideas that Will Make You Wish You Were a \n",
       "Kid\u001b[1m]\u001b[0m\u001b[1m(\u001b[0m\u001b[4;94mhttps://howdoesshe.com/24-incredible-superhero-party-ideas-that-will-make-you-wish-you-were-a-kid-again/\u001b[0m\u001b[4;94m)\u001b[0m\n",
       "Let your superman show his own superpowers!Kids \u001b[1m(\u001b[0mand even adults\u001b[1m)\u001b[0m who love superheroes will fall in love with these\n",
       "incredible superhero theme party ideas that will bring out the kid in everyone! From decor ideas, party foods, and \n",
       "costume ideas to superhero-themed activities and superhero games, we have different ways to cover all of your party\n",
       "needs. These ideas will make you wish you were a \u001b[33m...\u001b[0m\n",
       "\n",
       "|Superhero Theme Party Ideas for Adults to Create an Unforgettable \n",
       "\u001b[33m...\u001b[0m\u001b[1m]\u001b[0m\u001b[1m(\u001b[0m\u001b[4;94mhttps://partyideaszone.com/superhero-theme-party-ideas-for-adults/\u001b[0m\u001b[4;94m)\u001b[0m\n",
       "Unleash your inner hero with our ultimate guide to hosting an unforgettable superhero-themed party for adults! \n",
       "Explore creative costume ideas, vibrant decorations, and mouthwatering themed snacks and drinks. Engage your guests\n",
       "with fun activities like trivia, costume contests, and movie screenings. Follow our planning tips to create a \n",
       "cohesive, memorable experience that your friends will rave \u001b[33m...\u001b[0m\n",
       "\n",
       "|\u001b[1;36m900\u001b[0m+ Superhero Party Ideas in \u001b[1;36m2025\u001b[0m - Pinterest\u001b[1m]\u001b[0m\u001b[1m(\u001b[0m\u001b[4;94mhttps://www.pinterest.com/catchmyparty/superhero-party-ideas/\u001b[0m\u001b[4;94m)\u001b[0m\n",
       "Apr \u001b[1;36m19\u001b[0m, \u001b[1;36m2025\u001b[0m - Superhero party ideas for birthdays -- Superhero cakes, decorations, party foods and favors. See \n",
       "more party ideas at CatchMyParty.com. See more ideas about superhero party, superhero birthday party, party.\n",
       "\n",
       "|\u001b[1;36m30\u001b[0m+ Superhero Party Ideas - Canva\u001b[1m]\u001b[0m\u001b[1m(\u001b[0m\u001b[4;94mhttps://www.canva.com/ideas/superhero-party-ideas/\u001b[0m\u001b[4;94m)\u001b[0m\n",
       "Browse a wide range of superhero party ideas and inspiration, from photos and templates in a stunning selection of \n",
       "styles and colours. \u001b[33m...\u001b[0m all these ingenious concepts and more are in our special selection of superhero-themed \n",
       "designs and photos. Have a quick browse and find some excellent ideas for your party! Yellow Blue Red Superhero \n",
       "Pattern \u001b[33m...\u001b[0m\n",
       "\n",
       "|\u001b[1;36m25\u001b[0m Superhero Party Ideas For All Ages\u001b[1m]\u001b[0m\u001b[1m(\u001b[0m\u001b[4;94mhttps://playideas.com/25-superhero-party-ideas/\u001b[0m\u001b[4;94m)\u001b[0m\n",
       "These super cool superhero theme party ideas are so much fun and perfect for all ages! Boy, girl, teen, or adult, \n",
       "it doesn't matter. They are perfect for your next superhero-themed food and party! We have found some amazingly \n",
       "fantastic party ideas from treats, decor, crafts to souvenirs for different sorts of superheroes, from Batman, \n",
       "Super \u001b[33m...\u001b[0m\n",
       "\n",
       "|\u001b[1;36m33\u001b[0m Superhero Party Games for Adults - Fun Party Pop\u001b[1m]\u001b[0m\u001b[1m(\u001b[0m\u001b[4;94mhttps://funpartypop.com/superhero-party-games-adults/\u001b[0m\u001b[4;94m)\u001b[0m\n",
       "Super Hero Theme Song Challenge - Go onto youtube and type in different theme songs, then play the first \u001b[1;36m3\u001b[0m seconds \n",
       "for the players to see who can match it up with its superhero first. \u001b[1;36m17\u001b[0m. Sheild Frisbee - Use Cap's shield as a \n",
       "frisbee…he does this all the time. \u001b[1;36m18\u001b[0m. Connect \u001b[1;36m4\u001b[0m Spiderman Edition. \u001b[1;36m19\u001b[0m. Guess in \u001b[1;36m10\u001b[0m. \u001b[1;36m20\u001b[0m.\n",
       "\n",
       "|By a Pro: Superhero Party Ideas by a Professional\u001b[1m]\u001b[0m\u001b[1m(\u001b[0m\u001b[4;94mhttps://party-ideas-by-a-pro.com/party-themes/superhero-party/\u001b[0m\u001b[4;94m)\u001b[0m\n",
       "Patriotic 4th of July recipes can easily be repurposed as Captain America themed Superhero party food, such as \n",
       "these recipes for Red, White, and Blue Chocolate Dipped Strawberries \u001b[1m(\u001b[0mbelow left, by Nicole at Baking Bites\u001b[1m)\u001b[0m or \n",
       "Jell-O cut into star shapes \u001b[1m(\u001b[0mbelow right, by Ali from Gimme Some Oven\u001b[1m)\u001b[0m.\n",
       "\n",
       "|The Best Superhero Party Ideas For An Epic Party - Smart Party \n",
       "Planning\u001b[1m]\u001b[0m\u001b[1m(\u001b[0m\u001b[4;94mhttps://smartpartyplanning.com/superhero-party-ideas/\u001b[0m\u001b[4;94m)\u001b[0m\n",
       "Awesome superhero party ideas that will have your kids showing off their superhero powers in no time at all. With \n",
       "ideas for decorations, food and party games you will easily win the status of superhero mom. These ideas can be \n",
       "achieved on a budget with a bit of DIY. The kids are going to love them. Related articles: \u001b[1;36m5\u001b[0m Awesome Batman Party \n",
       "Ideas\n",
       "\n",
       "|Best Superhero Party Theme Ideas - Captain \n",
       "Fantastic\u001b[1m]\u001b[0m\u001b[1m(\u001b[0m\u001b[4;94mhttps://captain-fantastic.co.uk/blog/best-superhero-party-theme-ideas/\u001b[0m\u001b[4;94m)\u001b[0m\n",
       "Superhero Party Theme Ideas Superhero Costume Extravaganza: Dress as Your Favorite Hero. Gear up for the ultimate \n",
       "adventure at the Superhero Costume Extravaganza - a pinnacle in the realm of excitement. Dive into the magic as you\n",
       "and your guests transform into beloved heroes, unleashing a world of imagination. Whether you don the cape of a \u001b[33m...\u001b[0m\n",
       "\n",
       "|Superhero-Themed Party Ideas & Decorations | \n",
       "CORKCICLE.\u001b[1m]\u001b[0m\u001b[1m(\u001b[0m\u001b[4;94mhttps://corkcicle.com/blogs/lifestyle/marvel-themed-party-ideas\u001b[0m\u001b[4;94m)\u001b[0m\n",
       "Superhero-themed parties have become a beloved trend, offering an exciting way to celebrate special occasions. The \n",
       "thrill of donning capes and masks, the vibrant decorations, and the heroic atmosphere make these parties a hit \n",
       "among kids and adults alike. In this guide, we'll explore Marvel superhero party ideas, ensuring your celebration \n",
       "is as epic as the comics and movies themselves \u001b[33m...\u001b[0m\n"
      ]
     },
     "metadata": {},
     "output_type": "display_data"
    },
    {
     "data": {
      "text/html": [
       "<pre style=\"white-space:pre;overflow-x:auto;line-height:normal;font-family:Menlo,'DejaVu Sans Mono',consolas,'Courier New',monospace\"><span style=\"color: #7f7f7f; text-decoration-color: #7f7f7f\">[Step 1: Duration 34.23 seconds| Input tokens: 1,108 | Output tokens: 30]</span>\n",
       "</pre>\n"
      ],
      "text/plain": [
       "\u001b[2m[Step 1: Duration 34.23 seconds| Input tokens: 1,108 | Output tokens: 30]\u001b[0m\n"
      ]
     },
     "metadata": {},
     "output_type": "display_data"
    },
    {
     "data": {
      "text/html": [
       "<pre style=\"white-space:pre;overflow-x:auto;line-height:normal;font-family:Menlo,'DejaVu Sans Mono',consolas,'Courier New',monospace\"><span style=\"color: #d4b702; text-decoration-color: #d4b702\">━━━━━━━━━━━━━━━━━━━━━━━━━━━━━━━━━━━━━━━━━━━━━━━━━━━━━ </span><span style=\"font-weight: bold\">Step </span><span style=\"color: #008080; text-decoration-color: #008080; font-weight: bold\">2</span><span style=\"color: #d4b702; text-decoration-color: #d4b702\"> ━━━━━━━━━━━━━━━━━━━━━━━━━━━━━━━━━━━━━━━━━━━━━━━━━━━━━━</span>\n",
       "</pre>\n"
      ],
      "text/plain": [
       "\u001b[38;2;212;183;2m━━━━━━━━━━━━━━━━━━━━━━━━━━━━━━━━━━━━━━━━━━━━━━━━━━━━━ \u001b[0m\u001b[1mStep \u001b[0m\u001b[1;36m2\u001b[0m\u001b[38;2;212;183;2m ━━━━━━━━━━━━━━━━━━━━━━━━━━━━━━━━━━━━━━━━━━━━━━━━━━━━━━\u001b[0m\n"
      ]
     },
     "metadata": {},
     "output_type": "display_data"
    },
    {
     "data": {
      "text/html": [
       "<pre style=\"white-space:pre;overflow-x:auto;line-height:normal;font-family:Menlo,'DejaVu Sans Mono',consolas,'Courier New',monospace\">╭─────────────────────────────────────────────────────────────────────────────────────────────────────────────────╮\n",
       "│ Calling tool: 'final_answer' with arguments: {'answer': [\"# Search Results\\n\\n[24 Superhero Party Ideas that    │\n",
       "│ Will Make You Wish You Were a                                                                                   │\n",
       "│ Kid](https://howdoesshe.com/24-incredible-superhero-party-ideas-that-will-make-you-wish-you-were-a-kid-again/)\\ │\n",
       "│ nLet your superman show his own superpowers!Kids (and even adults) who love superheroes will fall in love with  │\n",
       "│ these incredible superhero theme party ideas that will bring out the kid in everyone! From decor ideas, party   │\n",
       "│ foods, and costume ideas to superhero-themed activities and superhero games, we have different ways to cover    │\n",
       "│ all of your party needs. These ideas will make you wish you were ...\\n\\n[Superhero Theme Party Ideas for Adults │\n",
       "│ to Create an Unforgettable ...](https://partyideaszone.com/superhero-theme-party-ideas-for-adults/)\\nUnleash    │\n",
       "│ your inner hero with our ultimate guide to hosting an unforgettable superhero-themed party for adults! Explore  │\n",
       "│ creative costume ideas, vibrant decorations, and mouthwatering themed snacks and drinks. Engage your guests     │\n",
       "│ with fun activities like trivia, costume contests, and movie screenings. Follow our planning tips to create a   │\n",
       "│ cohesive, memorable experience that your friends will rave ...\\n\\n[900+ Superhero Party Ideas in 2025 -         │\n",
       "│ Pinterest](https://www.pinterest.com/catchmyparty/superhero-party-ideas/)\\nApr 19, 2025 - Superhero party ideas │\n",
       "│ for birthdays -- Superhero cakes, decorations, party foods and favors. See more party ideas at                  │\n",
       "│ CatchMyParty.com. See more ideas about superhero party, superhero birthday party, party.\\n\\n[30+ Superhero      │\n",
       "│ Party Ideas - Canva](https://www.canva.com/ideas/superhero-party-ideas/)\\nBrowse a wide range of superhero      │\n",
       "│ party ideas and inspiration, from photos and templates in a stunning selection of styles and colours. ... all   │\n",
       "│ these ingenious concepts and more are in our special selection of superhero-themed designs and photos. Have a   │\n",
       "│ quick browse and find some excellent ideas for your party! Yellow Blue Red Superhero Pattern ...\\n\\n[25         │\n",
       "│ Superhero Party Ideas For All Ages](https://playideas.com/25-superhero-party-ideas/)\\nThese super cool          │\n",
       "│ superhero theme party ideas are so much fun and perfect for all ages! Boy, girl, teen, or adult, it doesn't     │\n",
       "│ matter. They are perfect for your next superhero-themed food and party! We have found some amazingly fantastic  │\n",
       "│ party ideas from treats, decor, crafts to souvenirs for different sorts of superheroes, from Batman, Super      │\n",
       "│ ...\\n\\n[33 Superhero Party Games for Adults - Fun Party                                                         │\n",
       "│ Pop](https://funpartypop.com/superhero-party-games-adults/)\\nSuper Hero Theme Song Challenge - Go onto youtube  │\n",
       "│ and type in different theme songs, then play the first 3 seconds for the players to see who can match it up     │\n",
       "│ with its superhero first. 17. Sheild Frisbee - Use Cap's shield as a frisbee…he does this all the time. 18.     │\n",
       "│ Connect 4 Spiderman Edition. 19. Guess in 10. 20.\\n\\n[By a Pro: Superhero Party Ideas by a                      │\n",
       "│ Professional](https://party-ideas-by-a-pro.com/party-themes/superhero-party/)\\nPatriotic 4th of July recipes    │\n",
       "│ can easily be repurposed as Captain America themed Superhero party food, such as these recipes for Red, White,  │\n",
       "│ and Blue Chocolate Dipped Strawberries (below left, by Nicole at Baking Bites) or Jell-O cut into star shapes   │\n",
       "│ (below right, by Ali from Gimme Some Oven).\\n\\n[The Best Superhero Party Ideas For An Epic Party - Smart Party  │\n",
       "│ Planning](https://smartpartyplanning.com/superhero-party-ideas/)\\nAwesome superhero party ideas that will have  │\n",
       "│ your kids showing off their superhero powers in no time at all. With ideas for decorations, food and party      │\n",
       "│ games you will easily win the status of superhero mom. These ideas can be achieved on a budget with a bit of    │\n",
       "│ DIY. The kids are going to love them. Related articles: 5 Awesome Batman Party Ideas\\n\\n[Best Superhero Party   │\n",
       "│ Theme Ideas - Captain                                                                                           │\n",
       "│ Fantastic](https://captain-fantastic.co.uk/blog/best-superhero-party-theme-ideas/)\\nSuperhero Party Theme Ideas │\n",
       "│ Superhero Costume Extravaganza: Dress as Your Favorite Hero. Gear up for the ultimate adventure at the          │\n",
       "│ Superhero Costume Extravaganza - a pinnacle in the realm of excitement. Dive into the magic as you and your     │\n",
       "│ guests transform into beloved heroes, unleashing a world of imagination. Whether you don the cape of a ...\"]}   │\n",
       "╰─────────────────────────────────────────────────────────────────────────────────────────────────────────────────╯\n",
       "</pre>\n"
      ],
      "text/plain": [
       "╭─────────────────────────────────────────────────────────────────────────────────────────────────────────────────╮\n",
       "│ Calling tool: 'final_answer' with arguments: {'answer': [\"# Search Results\\n\\n[24 Superhero Party Ideas that    │\n",
       "│ Will Make You Wish You Were a                                                                                   │\n",
       "│ Kid](https://howdoesshe.com/24-incredible-superhero-party-ideas-that-will-make-you-wish-you-were-a-kid-again/)\\ │\n",
       "│ nLet your superman show his own superpowers!Kids (and even adults) who love superheroes will fall in love with  │\n",
       "│ these incredible superhero theme party ideas that will bring out the kid in everyone! From decor ideas, party   │\n",
       "│ foods, and costume ideas to superhero-themed activities and superhero games, we have different ways to cover    │\n",
       "│ all of your party needs. These ideas will make you wish you were ...\\n\\n[Superhero Theme Party Ideas for Adults │\n",
       "│ to Create an Unforgettable ...](https://partyideaszone.com/superhero-theme-party-ideas-for-adults/)\\nUnleash    │\n",
       "│ your inner hero with our ultimate guide to hosting an unforgettable superhero-themed party for adults! Explore  │\n",
       "│ creative costume ideas, vibrant decorations, and mouthwatering themed snacks and drinks. Engage your guests     │\n",
       "│ with fun activities like trivia, costume contests, and movie screenings. Follow our planning tips to create a   │\n",
       "│ cohesive, memorable experience that your friends will rave ...\\n\\n[900+ Superhero Party Ideas in 2025 -         │\n",
       "│ Pinterest](https://www.pinterest.com/catchmyparty/superhero-party-ideas/)\\nApr 19, 2025 - Superhero party ideas │\n",
       "│ for birthdays -- Superhero cakes, decorations, party foods and favors. See more party ideas at                  │\n",
       "│ CatchMyParty.com. See more ideas about superhero party, superhero birthday party, party.\\n\\n[30+ Superhero      │\n",
       "│ Party Ideas - Canva](https://www.canva.com/ideas/superhero-party-ideas/)\\nBrowse a wide range of superhero      │\n",
       "│ party ideas and inspiration, from photos and templates in a stunning selection of styles and colours. ... all   │\n",
       "│ these ingenious concepts and more are in our special selection of superhero-themed designs and photos. Have a   │\n",
       "│ quick browse and find some excellent ideas for your party! Yellow Blue Red Superhero Pattern ...\\n\\n[25         │\n",
       "│ Superhero Party Ideas For All Ages](https://playideas.com/25-superhero-party-ideas/)\\nThese super cool          │\n",
       "│ superhero theme party ideas are so much fun and perfect for all ages! Boy, girl, teen, or adult, it doesn't     │\n",
       "│ matter. They are perfect for your next superhero-themed food and party! We have found some amazingly fantastic  │\n",
       "│ party ideas from treats, decor, crafts to souvenirs for different sorts of superheroes, from Batman, Super      │\n",
       "│ ...\\n\\n[33 Superhero Party Games for Adults - Fun Party                                                         │\n",
       "│ Pop](https://funpartypop.com/superhero-party-games-adults/)\\nSuper Hero Theme Song Challenge - Go onto youtube  │\n",
       "│ and type in different theme songs, then play the first 3 seconds for the players to see who can match it up     │\n",
       "│ with its superhero first. 17. Sheild Frisbee - Use Cap's shield as a frisbee…he does this all the time. 18.     │\n",
       "│ Connect 4 Spiderman Edition. 19. Guess in 10. 20.\\n\\n[By a Pro: Superhero Party Ideas by a                      │\n",
       "│ Professional](https://party-ideas-by-a-pro.com/party-themes/superhero-party/)\\nPatriotic 4th of July recipes    │\n",
       "│ can easily be repurposed as Captain America themed Superhero party food, such as these recipes for Red, White,  │\n",
       "│ and Blue Chocolate Dipped Strawberries (below left, by Nicole at Baking Bites) or Jell-O cut into star shapes   │\n",
       "│ (below right, by Ali from Gimme Some Oven).\\n\\n[The Best Superhero Party Ideas For An Epic Party - Smart Party  │\n",
       "│ Planning](https://smartpartyplanning.com/superhero-party-ideas/)\\nAwesome superhero party ideas that will have  │\n",
       "│ your kids showing off their superhero powers in no time at all. With ideas for decorations, food and party      │\n",
       "│ games you will easily win the status of superhero mom. These ideas can be achieved on a budget with a bit of    │\n",
       "│ DIY. The kids are going to love them. Related articles: 5 Awesome Batman Party Ideas\\n\\n[Best Superhero Party   │\n",
       "│ Theme Ideas - Captain                                                                                           │\n",
       "│ Fantastic](https://captain-fantastic.co.uk/blog/best-superhero-party-theme-ideas/)\\nSuperhero Party Theme Ideas │\n",
       "│ Superhero Costume Extravaganza: Dress as Your Favorite Hero. Gear up for the ultimate adventure at the          │\n",
       "│ Superhero Costume Extravaganza - a pinnacle in the realm of excitement. Dive into the magic as you and your     │\n",
       "│ guests transform into beloved heroes, unleashing a world of imagination. Whether you don the cape of a ...\"]}   │\n",
       "╰─────────────────────────────────────────────────────────────────────────────────────────────────────────────────╯\n"
      ]
     },
     "metadata": {},
     "output_type": "display_data"
    },
    {
     "data": {
      "text/html": [
       "<pre style=\"white-space:pre;overflow-x:auto;line-height:normal;font-family:Menlo,'DejaVu Sans Mono',consolas,'Courier New',monospace\"><span style=\"color: #d4b702; text-decoration-color: #d4b702; font-weight: bold\">Final answer: [\"# Search Results\\n\\n[24 Superhero Party Ideas that Will Make You Wish You Were a </span>\n",
       "<span style=\"color: #d4b702; text-decoration-color: #d4b702; font-weight: bold\">Kid](https://howdoesshe.com/24-incredible-superhero-party-ideas-that-will-make-you-wish-you-were-a-kid-again/)\\nLet</span>\n",
       "<span style=\"color: #d4b702; text-decoration-color: #d4b702; font-weight: bold\">your superman show his own superpowers!Kids (and even adults) who love superheroes will fall in love with these </span>\n",
       "<span style=\"color: #d4b702; text-decoration-color: #d4b702; font-weight: bold\">incredible superhero theme party ideas that will bring out the kid in everyone! From decor ideas, party foods, and </span>\n",
       "<span style=\"color: #d4b702; text-decoration-color: #d4b702; font-weight: bold\">costume ideas to superhero-themed activities and superhero games, we have different ways to cover all of your party</span>\n",
       "<span style=\"color: #d4b702; text-decoration-color: #d4b702; font-weight: bold\">needs. These ideas will make you wish you were ...\\n\\n[Superhero Theme Party Ideas for Adults to Create an </span>\n",
       "<span style=\"color: #d4b702; text-decoration-color: #d4b702; font-weight: bold\">Unforgettable ...](https://partyideaszone.com/superhero-theme-party-ideas-for-adults/)\\nUnleash your inner hero </span>\n",
       "<span style=\"color: #d4b702; text-decoration-color: #d4b702; font-weight: bold\">with our ultimate guide to hosting an unforgettable superhero-themed party for adults! Explore creative costume </span>\n",
       "<span style=\"color: #d4b702; text-decoration-color: #d4b702; font-weight: bold\">ideas, vibrant decorations, and mouthwatering themed snacks and drinks. Engage your guests with fun activities like</span>\n",
       "<span style=\"color: #d4b702; text-decoration-color: #d4b702; font-weight: bold\">trivia, costume contests, and movie screenings. Follow our planning tips to create a cohesive, memorable experience</span>\n",
       "<span style=\"color: #d4b702; text-decoration-color: #d4b702; font-weight: bold\">that your friends will rave ...\\n\\n[900+ Superhero Party Ideas in 2025 - </span>\n",
       "<span style=\"color: #d4b702; text-decoration-color: #d4b702; font-weight: bold\">Pinterest](https://www.pinterest.com/catchmyparty/superhero-party-ideas/)\\nApr 19, 2025 - Superhero party ideas for</span>\n",
       "<span style=\"color: #d4b702; text-decoration-color: #d4b702; font-weight: bold\">birthdays -- Superhero cakes, decorations, party foods and favors. See more party ideas at CatchMyParty.com. See </span>\n",
       "<span style=\"color: #d4b702; text-decoration-color: #d4b702; font-weight: bold\">more ideas about superhero party, superhero birthday party, party.\\n\\n[30+ Superhero Party Ideas - </span>\n",
       "<span style=\"color: #d4b702; text-decoration-color: #d4b702; font-weight: bold\">Canva](https://www.canva.com/ideas/superhero-party-ideas/)\\nBrowse a wide range of superhero party ideas and </span>\n",
       "<span style=\"color: #d4b702; text-decoration-color: #d4b702; font-weight: bold\">inspiration, from photos and templates in a stunning selection of styles and colours. ... all these ingenious </span>\n",
       "<span style=\"color: #d4b702; text-decoration-color: #d4b702; font-weight: bold\">concepts and more are in our special selection of superhero-themed designs and photos. Have a quick browse and find</span>\n",
       "<span style=\"color: #d4b702; text-decoration-color: #d4b702; font-weight: bold\">some excellent ideas for your party! Yellow Blue Red Superhero Pattern ...\\n\\n[25 Superhero Party Ideas For All </span>\n",
       "<span style=\"color: #d4b702; text-decoration-color: #d4b702; font-weight: bold\">Ages](https://playideas.com/25-superhero-party-ideas/)\\nThese super cool superhero theme party ideas are so much </span>\n",
       "<span style=\"color: #d4b702; text-decoration-color: #d4b702; font-weight: bold\">fun and perfect for all ages! Boy, girl, teen, or adult, it doesn't matter. They are perfect for your next </span>\n",
       "<span style=\"color: #d4b702; text-decoration-color: #d4b702; font-weight: bold\">superhero-themed food and party! We have found some amazingly fantastic party ideas from treats, decor, crafts to </span>\n",
       "<span style=\"color: #d4b702; text-decoration-color: #d4b702; font-weight: bold\">souvenirs for different sorts of superheroes, from Batman, Super ...\\n\\n[33 Superhero Party Games for Adults - Fun </span>\n",
       "<span style=\"color: #d4b702; text-decoration-color: #d4b702; font-weight: bold\">Party Pop](https://funpartypop.com/superhero-party-games-adults/)\\nSuper Hero Theme Song Challenge - Go onto </span>\n",
       "<span style=\"color: #d4b702; text-decoration-color: #d4b702; font-weight: bold\">youtube and type in different theme songs, then play the first 3 seconds for the players to see who can match it up</span>\n",
       "<span style=\"color: #d4b702; text-decoration-color: #d4b702; font-weight: bold\">with its superhero first. 17. Sheild Frisbee - Use Cap's shield as a frisbee…he does this all the time. 18. Connect</span>\n",
       "<span style=\"color: #d4b702; text-decoration-color: #d4b702; font-weight: bold\">4 Spiderman Edition. 19. Guess in 10. 20.\\n\\n[By a Pro: Superhero Party Ideas by a </span>\n",
       "<span style=\"color: #d4b702; text-decoration-color: #d4b702; font-weight: bold\">Professional](https://party-ideas-by-a-pro.com/party-themes/superhero-party/)\\nPatriotic 4th of July recipes can </span>\n",
       "<span style=\"color: #d4b702; text-decoration-color: #d4b702; font-weight: bold\">easily be repurposed as Captain America themed Superhero party food, such as these recipes for Red, White, and Blue</span>\n",
       "<span style=\"color: #d4b702; text-decoration-color: #d4b702; font-weight: bold\">Chocolate Dipped Strawberries (below left, by Nicole at Baking Bites) or Jell-O cut into star shapes (below right, </span>\n",
       "<span style=\"color: #d4b702; text-decoration-color: #d4b702; font-weight: bold\">by Ali from Gimme Some Oven).\\n\\n[The Best Superhero Party Ideas For An Epic Party - Smart Party </span>\n",
       "<span style=\"color: #d4b702; text-decoration-color: #d4b702; font-weight: bold\">Planning](https://smartpartyplanning.com/superhero-party-ideas/)\\nAwesome superhero party ideas that will have your</span>\n",
       "<span style=\"color: #d4b702; text-decoration-color: #d4b702; font-weight: bold\">kids showing off their superhero powers in no time at all. With ideas for decorations, food and party games you </span>\n",
       "<span style=\"color: #d4b702; text-decoration-color: #d4b702; font-weight: bold\">will easily win the status of superhero mom. These ideas can be achieved on a budget with a bit of DIY. The kids </span>\n",
       "<span style=\"color: #d4b702; text-decoration-color: #d4b702; font-weight: bold\">are going to love them. Related articles: 5 Awesome Batman Party Ideas\\n\\n[Best Superhero Party Theme Ideas - </span>\n",
       "<span style=\"color: #d4b702; text-decoration-color: #d4b702; font-weight: bold\">Captain Fantastic](https://captain-fantastic.co.uk/blog/best-superhero-party-theme-ideas/)\\nSuperhero Party Theme </span>\n",
       "<span style=\"color: #d4b702; text-decoration-color: #d4b702; font-weight: bold\">Ideas Superhero Costume Extravaganza: Dress as Your Favorite Hero. Gear up for the ultimate adventure at the </span>\n",
       "<span style=\"color: #d4b702; text-decoration-color: #d4b702; font-weight: bold\">Superhero Costume Extravaganza - a pinnacle in the realm of excitement. Dive into the magic as you and your guests </span>\n",
       "<span style=\"color: #d4b702; text-decoration-color: #d4b702; font-weight: bold\">transform into beloved heroes, unleashing a world of imagination. Whether you don the cape of a ...\"]</span>\n",
       "</pre>\n"
      ],
      "text/plain": [
       "\u001b[1;38;2;212;183;2mFinal answer: [\"# Search Results\\n\\n[24 Superhero Party Ideas that Will Make You Wish You Were a \u001b[0m\n",
       "\u001b[1;38;2;212;183;2mKid](https://howdoesshe.com/24-incredible-superhero-party-ideas-that-will-make-you-wish-you-were-a-kid-again/)\\nLet\u001b[0m\n",
       "\u001b[1;38;2;212;183;2myour superman show his own superpowers!Kids (and even adults) who love superheroes will fall in love with these \u001b[0m\n",
       "\u001b[1;38;2;212;183;2mincredible superhero theme party ideas that will bring out the kid in everyone! From decor ideas, party foods, and \u001b[0m\n",
       "\u001b[1;38;2;212;183;2mcostume ideas to superhero-themed activities and superhero games, we have different ways to cover all of your party\u001b[0m\n",
       "\u001b[1;38;2;212;183;2mneeds. These ideas will make you wish you were ...\\n\\n[Superhero Theme Party Ideas for Adults to Create an \u001b[0m\n",
       "\u001b[1;38;2;212;183;2mUnforgettable ...](https://partyideaszone.com/superhero-theme-party-ideas-for-adults/)\\nUnleash your inner hero \u001b[0m\n",
       "\u001b[1;38;2;212;183;2mwith our ultimate guide to hosting an unforgettable superhero-themed party for adults! Explore creative costume \u001b[0m\n",
       "\u001b[1;38;2;212;183;2mideas, vibrant decorations, and mouthwatering themed snacks and drinks. Engage your guests with fun activities like\u001b[0m\n",
       "\u001b[1;38;2;212;183;2mtrivia, costume contests, and movie screenings. Follow our planning tips to create a cohesive, memorable experience\u001b[0m\n",
       "\u001b[1;38;2;212;183;2mthat your friends will rave ...\\n\\n[900+ Superhero Party Ideas in 2025 - \u001b[0m\n",
       "\u001b[1;38;2;212;183;2mPinterest](https://www.pinterest.com/catchmyparty/superhero-party-ideas/)\\nApr 19, 2025 - Superhero party ideas for\u001b[0m\n",
       "\u001b[1;38;2;212;183;2mbirthdays -- Superhero cakes, decorations, party foods and favors. See more party ideas at CatchMyParty.com. See \u001b[0m\n",
       "\u001b[1;38;2;212;183;2mmore ideas about superhero party, superhero birthday party, party.\\n\\n[30+ Superhero Party Ideas - \u001b[0m\n",
       "\u001b[1;38;2;212;183;2mCanva](https://www.canva.com/ideas/superhero-party-ideas/)\\nBrowse a wide range of superhero party ideas and \u001b[0m\n",
       "\u001b[1;38;2;212;183;2minspiration, from photos and templates in a stunning selection of styles and colours. ... all these ingenious \u001b[0m\n",
       "\u001b[1;38;2;212;183;2mconcepts and more are in our special selection of superhero-themed designs and photos. Have a quick browse and find\u001b[0m\n",
       "\u001b[1;38;2;212;183;2msome excellent ideas for your party! Yellow Blue Red Superhero Pattern ...\\n\\n[25 Superhero Party Ideas For All \u001b[0m\n",
       "\u001b[1;38;2;212;183;2mAges](https://playideas.com/25-superhero-party-ideas/)\\nThese super cool superhero theme party ideas are so much \u001b[0m\n",
       "\u001b[1;38;2;212;183;2mfun and perfect for all ages! Boy, girl, teen, or adult, it doesn't matter. They are perfect for your next \u001b[0m\n",
       "\u001b[1;38;2;212;183;2msuperhero-themed food and party! We have found some amazingly fantastic party ideas from treats, decor, crafts to \u001b[0m\n",
       "\u001b[1;38;2;212;183;2msouvenirs for different sorts of superheroes, from Batman, Super ...\\n\\n[33 Superhero Party Games for Adults - Fun \u001b[0m\n",
       "\u001b[1;38;2;212;183;2mParty Pop](https://funpartypop.com/superhero-party-games-adults/)\\nSuper Hero Theme Song Challenge - Go onto \u001b[0m\n",
       "\u001b[1;38;2;212;183;2myoutube and type in different theme songs, then play the first 3 seconds for the players to see who can match it up\u001b[0m\n",
       "\u001b[1;38;2;212;183;2mwith its superhero first. 17. Sheild Frisbee - Use Cap's shield as a frisbee…he does this all the time. 18. Connect\u001b[0m\n",
       "\u001b[1;38;2;212;183;2m4 Spiderman Edition. 19. Guess in 10. 20.\\n\\n[By a Pro: Superhero Party Ideas by a \u001b[0m\n",
       "\u001b[1;38;2;212;183;2mProfessional](https://party-ideas-by-a-pro.com/party-themes/superhero-party/)\\nPatriotic 4th of July recipes can \u001b[0m\n",
       "\u001b[1;38;2;212;183;2measily be repurposed as Captain America themed Superhero party food, such as these recipes for Red, White, and Blue\u001b[0m\n",
       "\u001b[1;38;2;212;183;2mChocolate Dipped Strawberries (below left, by Nicole at Baking Bites) or Jell-O cut into star shapes (below right, \u001b[0m\n",
       "\u001b[1;38;2;212;183;2mby Ali from Gimme Some Oven).\\n\\n[The Best Superhero Party Ideas For An Epic Party - Smart Party \u001b[0m\n",
       "\u001b[1;38;2;212;183;2mPlanning](https://smartpartyplanning.com/superhero-party-ideas/)\\nAwesome superhero party ideas that will have your\u001b[0m\n",
       "\u001b[1;38;2;212;183;2mkids showing off their superhero powers in no time at all. With ideas for decorations, food and party games you \u001b[0m\n",
       "\u001b[1;38;2;212;183;2mwill easily win the status of superhero mom. These ideas can be achieved on a budget with a bit of DIY. The kids \u001b[0m\n",
       "\u001b[1;38;2;212;183;2mare going to love them. Related articles: 5 Awesome Batman Party Ideas\\n\\n[Best Superhero Party Theme Ideas - \u001b[0m\n",
       "\u001b[1;38;2;212;183;2mCaptain Fantastic](https://captain-fantastic.co.uk/blog/best-superhero-party-theme-ideas/)\\nSuperhero Party Theme \u001b[0m\n",
       "\u001b[1;38;2;212;183;2mIdeas Superhero Costume Extravaganza: Dress as Your Favorite Hero. Gear up for the ultimate adventure at the \u001b[0m\n",
       "\u001b[1;38;2;212;183;2mSuperhero Costume Extravaganza - a pinnacle in the realm of excitement. Dive into the magic as you and your guests \u001b[0m\n",
       "\u001b[1;38;2;212;183;2mtransform into beloved heroes, unleashing a world of imagination. Whether you don the cape of a ...\"]\u001b[0m\n"
      ]
     },
     "metadata": {},
     "output_type": "display_data"
    },
    {
     "data": {
      "text/html": [
       "<pre style=\"white-space:pre;overflow-x:auto;line-height:normal;font-family:Menlo,'DejaVu Sans Mono',consolas,'Courier New',monospace\"><span style=\"color: #7f7f7f; text-decoration-color: #7f7f7f\">[Step 2: Duration 131.14 seconds| Input tokens: 3,371 | Output tokens: 1,031]</span>\n",
       "</pre>\n"
      ],
      "text/plain": [
       "\u001b[2m[Step 2: Duration 131.14 seconds| Input tokens: 3,371 | Output tokens: 1,031]\u001b[0m\n"
      ]
     },
     "metadata": {},
     "output_type": "display_data"
    },
    {
     "name": "stdout",
     "output_type": "stream",
     "text": [
      "[\"# Search Results\\n\\n[24 Superhero Party Ideas that Will Make You Wish You Were a Kid](https://howdoesshe.com/24-incredible-superhero-party-ideas-that-will-make-you-wish-you-were-a-kid-again/)\\nLet your superman show his own superpowers!Kids (and even adults) who love superheroes will fall in love with these incredible superhero theme party ideas that will bring out the kid in everyone! From decor ideas, party foods, and costume ideas to superhero-themed activities and superhero games, we have different ways to cover all of your party needs. These ideas will make you wish you were ...\\n\\n[Superhero Theme Party Ideas for Adults to Create an Unforgettable ...](https://partyideaszone.com/superhero-theme-party-ideas-for-adults/)\\nUnleash your inner hero with our ultimate guide to hosting an unforgettable superhero-themed party for adults! Explore creative costume ideas, vibrant decorations, and mouthwatering themed snacks and drinks. Engage your guests with fun activities like trivia, costume contests, and movie screenings. Follow our planning tips to create a cohesive, memorable experience that your friends will rave ...\\n\\n[900+ Superhero Party Ideas in 2025 - Pinterest](https://www.pinterest.com/catchmyparty/superhero-party-ideas/)\\nApr 19, 2025 - Superhero party ideas for birthdays -- Superhero cakes, decorations, party foods and favors. See more party ideas at CatchMyParty.com. See more ideas about superhero party, superhero birthday party, party.\\n\\n[30+ Superhero Party Ideas - Canva](https://www.canva.com/ideas/superhero-party-ideas/)\\nBrowse a wide range of superhero party ideas and inspiration, from photos and templates in a stunning selection of styles and colours. ... all these ingenious concepts and more are in our special selection of superhero-themed designs and photos. Have a quick browse and find some excellent ideas for your party! Yellow Blue Red Superhero Pattern ...\\n\\n[25 Superhero Party Ideas For All Ages](https://playideas.com/25-superhero-party-ideas/)\\nThese super cool superhero theme party ideas are so much fun and perfect for all ages! Boy, girl, teen, or adult, it doesn't matter. They are perfect for your next superhero-themed food and party! We have found some amazingly fantastic party ideas from treats, decor, crafts to souvenirs for different sorts of superheroes, from Batman, Super ...\\n\\n[33 Superhero Party Games for Adults - Fun Party Pop](https://funpartypop.com/superhero-party-games-adults/)\\nSuper Hero Theme Song Challenge - Go onto youtube and type in different theme songs, then play the first 3 seconds for the players to see who can match it up with its superhero first. 17. Sheild Frisbee - Use Cap's shield as a frisbee…he does this all the time. 18. Connect 4 Spiderman Edition. 19. Guess in 10. 20.\\n\\n[By a Pro: Superhero Party Ideas by a Professional](https://party-ideas-by-a-pro.com/party-themes/superhero-party/)\\nPatriotic 4th of July recipes can easily be repurposed as Captain America themed Superhero party food, such as these recipes for Red, White, and Blue Chocolate Dipped Strawberries (below left, by Nicole at Baking Bites) or Jell-O cut into star shapes (below right, by Ali from Gimme Some Oven).\\n\\n[The Best Superhero Party Ideas For An Epic Party - Smart Party Planning](https://smartpartyplanning.com/superhero-party-ideas/)\\nAwesome superhero party ideas that will have your kids showing off their superhero powers in no time at all. With ideas for decorations, food and party games you will easily win the status of superhero mom. These ideas can be achieved on a budget with a bit of DIY. The kids are going to love them. Related articles: 5 Awesome Batman Party Ideas\\n\\n[Best Superhero Party Theme Ideas - Captain Fantastic](https://captain-fantastic.co.uk/blog/best-superhero-party-theme-ideas/)\\nSuperhero Party Theme Ideas Superhero Costume Extravaganza: Dress as Your Favorite Hero. Gear up for the ultimate adventure at the Superhero Costume Extravaganza - a pinnacle in the realm of excitement. Dive into the magic as you and your guests transform into beloved heroes, unleashing a world of imagination. Whether you don the cape of a ...\"]\n"
     ]
    }
   ],
   "source": [
    "from smolagents import CodeAgent, ToolCallingAgent, DuckDuckGoSearchTool\n",
    "\n",
    "# Initialize the search tool\n",
    "search_tool = DuckDuckGoSearchTool()\n",
    "\n",
    "# agent = CodeAgent(\n",
    "agent = ToolCallingAgent(\n",
    "    model=model,\n",
    "    tools=[search_tool],\n",
    ")\n",
    "\n",
    "# Example usage\n",
    "response = agent.run(\n",
    "    \"Search for luxury superhero-themed party ideas, including decorations, entertainment, and catering.\"\n",
    ")\n",
    "print(response)"
   ]
  },
  {
   "cell_type": "code",
   "execution_count": 2,
   "id": "b8df19c8",
   "metadata": {},
   "outputs": [
    {
     "data": {
      "text/html": [
       "<pre style=\"white-space:pre;overflow-x:auto;line-height:normal;font-family:Menlo,'DejaVu Sans Mono',consolas,'Courier New',monospace\"><span style=\"color: #d4b702; text-decoration-color: #d4b702\">╭──────────────────────────────────────────────────── </span><span style=\"color: #d4b702; text-decoration-color: #d4b702; font-weight: bold\">New run</span><span style=\"color: #d4b702; text-decoration-color: #d4b702\"> ────────────────────────────────────────────────────╮</span>\n",
       "<span style=\"color: #d4b702; text-decoration-color: #d4b702\">│</span>                                                                                                                 <span style=\"color: #d4b702; text-decoration-color: #d4b702\">│</span>\n",
       "<span style=\"color: #d4b702; text-decoration-color: #d4b702\">│</span> <span style=\"font-weight: bold\">Find ideas for a luxury superhero-themed party, including entertainment, catering, and decoration options.</span>      <span style=\"color: #d4b702; text-decoration-color: #d4b702\">│</span>\n",
       "<span style=\"color: #d4b702; text-decoration-color: #d4b702\">│</span>                                                                                                                 <span style=\"color: #d4b702; text-decoration-color: #d4b702\">│</span>\n",
       "<span style=\"color: #d4b702; text-decoration-color: #d4b702\">╰─ LiteLLMModel - ollama_chat/gemma3:4b ──────────────────────────────────────────────────────────────────────────╯</span>\n",
       "</pre>\n"
      ],
      "text/plain": [
       "\u001b[38;2;212;183;2m╭─\u001b[0m\u001b[38;2;212;183;2m───────────────────────────────────────────────────\u001b[0m\u001b[38;2;212;183;2m \u001b[0m\u001b[1;38;2;212;183;2mNew run\u001b[0m\u001b[38;2;212;183;2m \u001b[0m\u001b[38;2;212;183;2m───────────────────────────────────────────────────\u001b[0m\u001b[38;2;212;183;2m─╮\u001b[0m\n",
       "\u001b[38;2;212;183;2m│\u001b[0m                                                                                                                 \u001b[38;2;212;183;2m│\u001b[0m\n",
       "\u001b[38;2;212;183;2m│\u001b[0m \u001b[1mFind ideas for a luxury superhero-themed party, including entertainment, catering, and decoration options.\u001b[0m      \u001b[38;2;212;183;2m│\u001b[0m\n",
       "\u001b[38;2;212;183;2m│\u001b[0m                                                                                                                 \u001b[38;2;212;183;2m│\u001b[0m\n",
       "\u001b[38;2;212;183;2m╰─\u001b[0m\u001b[38;2;212;183;2m LiteLLMModel - ollama_chat/gemma3:4b \u001b[0m\u001b[38;2;212;183;2m─────────────────────────────────────────────────────────────────────────\u001b[0m\u001b[38;2;212;183;2m─╯\u001b[0m\n"
      ]
     },
     "metadata": {},
     "output_type": "display_data"
    },
    {
     "data": {
      "text/html": [
       "<pre style=\"white-space:pre;overflow-x:auto;line-height:normal;font-family:Menlo,'DejaVu Sans Mono',consolas,'Courier New',monospace\"><span style=\"color: #d4b702; text-decoration-color: #d4b702\">━━━━━━━━━━━━━━━━━━━━━━━━━━━━━━━━━━━━━━━━━━━━━━━━━━━━━ </span><span style=\"font-weight: bold\">Step </span><span style=\"color: #008080; text-decoration-color: #008080; font-weight: bold\">1</span><span style=\"color: #d4b702; text-decoration-color: #d4b702\"> ━━━━━━━━━━━━━━━━━━━━━━━━━━━━━━━━━━━━━━━━━━━━━━━━━━━━━━</span>\n",
       "</pre>\n"
      ],
      "text/plain": [
       "\u001b[38;2;212;183;2m━━━━━━━━━━━━━━━━━━━━━━━━━━━━━━━━━━━━━━━━━━━━━━━━━━━━━ \u001b[0m\u001b[1mStep \u001b[0m\u001b[1;36m1\u001b[0m\u001b[38;2;212;183;2m ━━━━━━━━━━━━━━━━━━━━━━━━━━━━━━━━━━━━━━━━━━━━━━━━━━━━━━\u001b[0m\n"
      ]
     },
     "metadata": {},
     "output_type": "display_data"
    },
    {
     "data": {
      "text/html": [
       "<pre style=\"white-space:pre;overflow-x:auto;line-height:normal;font-family:Menlo,'DejaVu Sans Mono',consolas,'Courier New',monospace\"> ─ <span style=\"font-weight: bold\">Executing parsed code:</span> ──────────────────────────────────────────────────────────────────────────────────────── \n",
       "  <span style=\"color: #f8f8f2; text-decoration-color: #f8f8f2; background-color: #272822\">ideas </span><span style=\"color: #ff4689; text-decoration-color: #ff4689; background-color: #272822\">=</span><span style=\"color: #f8f8f2; text-decoration-color: #f8f8f2; background-color: #272822\"> party_planning_retriever(query</span><span style=\"color: #ff4689; text-decoration-color: #ff4689; background-color: #272822\">=</span><span style=\"color: #e6db74; text-decoration-color: #e6db74; background-color: #272822\">\"luxury superhero party ideas\"</span><span style=\"color: #f8f8f2; text-decoration-color: #f8f8f2; background-color: #272822\">)</span><span style=\"background-color: #272822\">                                         </span>  \n",
       "  <span style=\"color: #f8f8f2; text-decoration-color: #f8f8f2; background-color: #272822\">print(ideas)</span><span style=\"background-color: #272822\">                                                                                                   </span>  \n",
       " ───────────────────────────────────────────────────────────────────────────────────────────────────────────────── \n",
       "</pre>\n"
      ],
      "text/plain": [
       " ─ \u001b[1mExecuting parsed code:\u001b[0m ──────────────────────────────────────────────────────────────────────────────────────── \n",
       "  \u001b[38;2;248;248;242;48;2;39;40;34mideas\u001b[0m\u001b[38;2;248;248;242;48;2;39;40;34m \u001b[0m\u001b[38;2;255;70;137;48;2;39;40;34m=\u001b[0m\u001b[38;2;248;248;242;48;2;39;40;34m \u001b[0m\u001b[38;2;248;248;242;48;2;39;40;34mparty_planning_retriever\u001b[0m\u001b[38;2;248;248;242;48;2;39;40;34m(\u001b[0m\u001b[38;2;248;248;242;48;2;39;40;34mquery\u001b[0m\u001b[38;2;255;70;137;48;2;39;40;34m=\u001b[0m\u001b[38;2;230;219;116;48;2;39;40;34m\"\u001b[0m\u001b[38;2;230;219;116;48;2;39;40;34mluxury superhero party ideas\u001b[0m\u001b[38;2;230;219;116;48;2;39;40;34m\"\u001b[0m\u001b[38;2;248;248;242;48;2;39;40;34m)\u001b[0m\u001b[48;2;39;40;34m                                         \u001b[0m  \n",
       "  \u001b[38;2;248;248;242;48;2;39;40;34mprint\u001b[0m\u001b[38;2;248;248;242;48;2;39;40;34m(\u001b[0m\u001b[38;2;248;248;242;48;2;39;40;34mideas\u001b[0m\u001b[38;2;248;248;242;48;2;39;40;34m)\u001b[0m\u001b[48;2;39;40;34m                                                                                                   \u001b[0m  \n",
       " ───────────────────────────────────────────────────────────────────────────────────────────────────────────────── \n"
      ]
     },
     "metadata": {},
     "output_type": "display_data"
    },
    {
     "data": {
      "text/html": [
       "<pre style=\"white-space:pre;overflow-x:auto;line-height:normal;font-family:Menlo,'DejaVu Sans Mono',consolas,'Courier New',monospace\"><span style=\"font-weight: bold\">Execution logs:</span>\n",
       "\n",
       "Retrieved ideas:\n",
       "\n",
       "\n",
       "===== Idea 0 =====\n",
       "A superhero-themed masquerade ball with luxury decor, including gold accents and velvet curtains.\n",
       "\n",
       "===== Idea 1 =====\n",
       "Decorate with iconic superhero logos and projections of Gotham and other superhero cities around the venue.\n",
       "\n",
       "===== Idea 2 =====\n",
       "Interactive experiences with VR where guests can engage in superhero simulations or compete in themed games.\n",
       "\n",
       "===== Idea 3 =====\n",
       "For catering, serve dishes named after superheroes, like 'The Hulk's Green Smoothie' and 'Iron Man's Power Steak.'\n",
       "\n",
       "===== Idea 4 =====\n",
       "Hire a professional DJ who can play themed music for superheroes like Batman and Wonder Woman.\n",
       "\n",
       "Out: None\n",
       "</pre>\n"
      ],
      "text/plain": [
       "\u001b[1mExecution logs:\u001b[0m\n",
       "\n",
       "Retrieved ideas:\n",
       "\n",
       "\n",
       "===== Idea 0 =====\n",
       "A superhero-themed masquerade ball with luxury decor, including gold accents and velvet curtains.\n",
       "\n",
       "===== Idea 1 =====\n",
       "Decorate with iconic superhero logos and projections of Gotham and other superhero cities around the venue.\n",
       "\n",
       "===== Idea 2 =====\n",
       "Interactive experiences with VR where guests can engage in superhero simulations or compete in themed games.\n",
       "\n",
       "===== Idea 3 =====\n",
       "For catering, serve dishes named after superheroes, like 'The Hulk's Green Smoothie' and 'Iron Man's Power Steak.'\n",
       "\n",
       "===== Idea 4 =====\n",
       "Hire a professional DJ who can play themed music for superheroes like Batman and Wonder Woman.\n",
       "\n",
       "Out: None\n"
      ]
     },
     "metadata": {},
     "output_type": "display_data"
    },
    {
     "data": {
      "text/html": [
       "<pre style=\"white-space:pre;overflow-x:auto;line-height:normal;font-family:Menlo,'DejaVu Sans Mono',consolas,'Courier New',monospace\"><span style=\"color: #7f7f7f; text-decoration-color: #7f7f7f\">[Step 1: Duration 88.01 seconds| Input tokens: 2,261 | Output tokens: 81]</span>\n",
       "</pre>\n"
      ],
      "text/plain": [
       "\u001b[2m[Step 1: Duration 88.01 seconds| Input tokens: 2,261 | Output tokens: 81]\u001b[0m\n"
      ]
     },
     "metadata": {},
     "output_type": "display_data"
    },
    {
     "data": {
      "text/html": [
       "<pre style=\"white-space:pre;overflow-x:auto;line-height:normal;font-family:Menlo,'DejaVu Sans Mono',consolas,'Courier New',monospace\"><span style=\"color: #d4b702; text-decoration-color: #d4b702\">━━━━━━━━━━━━━━━━━━━━━━━━━━━━━━━━━━━━━━━━━━━━━━━━━━━━━ </span><span style=\"font-weight: bold\">Step </span><span style=\"color: #008080; text-decoration-color: #008080; font-weight: bold\">2</span><span style=\"color: #d4b702; text-decoration-color: #d4b702\"> ━━━━━━━━━━━━━━━━━━━━━━━━━━━━━━━━━━━━━━━━━━━━━━━━━━━━━━</span>\n",
       "</pre>\n"
      ],
      "text/plain": [
       "\u001b[38;2;212;183;2m━━━━━━━━━━━━━━━━━━━━━━━━━━━━━━━━━━━━━━━━━━━━━━━━━━━━━ \u001b[0m\u001b[1mStep \u001b[0m\u001b[1;36m2\u001b[0m\u001b[38;2;212;183;2m ━━━━━━━━━━━━━━━━━━━━━━━━━━━━━━━━━━━━━━━━━━━━━━━━━━━━━━\u001b[0m\n"
      ]
     },
     "metadata": {},
     "output_type": "display_data"
    },
    {
     "data": {
      "text/html": [
       "<pre style=\"white-space:pre;overflow-x:auto;line-height:normal;font-family:Menlo,'DejaVu Sans Mono',consolas,'Courier New',monospace\"> ─ <span style=\"font-weight: bold\">Executing parsed code:</span> ──────────────────────────────────────────────────────────────────────────────────────── \n",
       "  <span style=\"color: #f8f8f2; text-decoration-color: #f8f8f2; background-color: #272822\">print(</span><span style=\"color: #e6db74; text-decoration-color: #e6db74; background-color: #272822\">\"Luxury Superhero Party Ideas:\"</span><span style=\"color: #f8f8f2; text-decoration-color: #f8f8f2; background-color: #272822\">)</span><span style=\"background-color: #272822\">                                                                         </span>  \n",
       "  <span style=\"color: #f8f8f2; text-decoration-color: #f8f8f2; background-color: #272822\">print(</span><span style=\"color: #e6db74; text-decoration-color: #e6db74; background-color: #272822\">\"- Decorate with iconic superhero logos and projections of Gotham and other superhero cities around the </span><span style=\"background-color: #272822\"> </span>  \n",
       "  <span style=\"color: #e6db74; text-decoration-color: #e6db74; background-color: #272822\">venue.\"</span><span style=\"color: #f8f8f2; text-decoration-color: #f8f8f2; background-color: #272822\">)</span><span style=\"background-color: #272822\">                                                                                                       </span>  \n",
       "  <span style=\"color: #f8f8f2; text-decoration-color: #f8f8f2; background-color: #272822\">print(</span><span style=\"color: #e6db74; text-decoration-color: #e6db74; background-color: #272822\">\"- Hire a professional DJ who can play themed music for superheroes like Batman and Wonder Woman.\"</span><span style=\"color: #f8f8f2; text-decoration-color: #f8f8f2; background-color: #272822\">)</span><span style=\"background-color: #272822\">      </span>  \n",
       "  <span style=\"color: #f8f8f2; text-decoration-color: #f8f8f2; background-color: #272822\">print(</span><span style=\"color: #e6db74; text-decoration-color: #e6db74; background-color: #272822\">\"- For catering, serve dishes named after superheroes, like 'The Hulk's Green Smoothie' and 'Iron Man's </span><span style=\"background-color: #272822\"> </span>  \n",
       "  <span style=\"color: #e6db74; text-decoration-color: #e6db74; background-color: #272822\">Power Steak.'\"</span><span style=\"color: #f8f8f2; text-decoration-color: #f8f8f2; background-color: #272822\">)</span><span style=\"background-color: #272822\">                                                                                                </span>  \n",
       " ───────────────────────────────────────────────────────────────────────────────────────────────────────────────── \n",
       "</pre>\n"
      ],
      "text/plain": [
       " ─ \u001b[1mExecuting parsed code:\u001b[0m ──────────────────────────────────────────────────────────────────────────────────────── \n",
       "  \u001b[38;2;248;248;242;48;2;39;40;34mprint\u001b[0m\u001b[38;2;248;248;242;48;2;39;40;34m(\u001b[0m\u001b[38;2;230;219;116;48;2;39;40;34m\"\u001b[0m\u001b[38;2;230;219;116;48;2;39;40;34mLuxury Superhero Party Ideas:\u001b[0m\u001b[38;2;230;219;116;48;2;39;40;34m\"\u001b[0m\u001b[38;2;248;248;242;48;2;39;40;34m)\u001b[0m\u001b[48;2;39;40;34m                                                                         \u001b[0m  \n",
       "  \u001b[38;2;248;248;242;48;2;39;40;34mprint\u001b[0m\u001b[38;2;248;248;242;48;2;39;40;34m(\u001b[0m\u001b[38;2;230;219;116;48;2;39;40;34m\"\u001b[0m\u001b[38;2;230;219;116;48;2;39;40;34m- Decorate with iconic superhero logos and projections of Gotham and other superhero cities around the \u001b[0m\u001b[48;2;39;40;34m \u001b[0m  \n",
       "  \u001b[38;2;230;219;116;48;2;39;40;34mvenue.\u001b[0m\u001b[38;2;230;219;116;48;2;39;40;34m\"\u001b[0m\u001b[38;2;248;248;242;48;2;39;40;34m)\u001b[0m\u001b[48;2;39;40;34m                                                                                                       \u001b[0m  \n",
       "  \u001b[38;2;248;248;242;48;2;39;40;34mprint\u001b[0m\u001b[38;2;248;248;242;48;2;39;40;34m(\u001b[0m\u001b[38;2;230;219;116;48;2;39;40;34m\"\u001b[0m\u001b[38;2;230;219;116;48;2;39;40;34m- Hire a professional DJ who can play themed music for superheroes like Batman and Wonder Woman.\u001b[0m\u001b[38;2;230;219;116;48;2;39;40;34m\"\u001b[0m\u001b[38;2;248;248;242;48;2;39;40;34m)\u001b[0m\u001b[48;2;39;40;34m      \u001b[0m  \n",
       "  \u001b[38;2;248;248;242;48;2;39;40;34mprint\u001b[0m\u001b[38;2;248;248;242;48;2;39;40;34m(\u001b[0m\u001b[38;2;230;219;116;48;2;39;40;34m\"\u001b[0m\u001b[38;2;230;219;116;48;2;39;40;34m- For catering, serve dishes named after superheroes, like \u001b[0m\u001b[38;2;230;219;116;48;2;39;40;34m'\u001b[0m\u001b[38;2;230;219;116;48;2;39;40;34mThe Hulk\u001b[0m\u001b[38;2;230;219;116;48;2;39;40;34m'\u001b[0m\u001b[38;2;230;219;116;48;2;39;40;34ms Green Smoothie\u001b[0m\u001b[38;2;230;219;116;48;2;39;40;34m'\u001b[0m\u001b[38;2;230;219;116;48;2;39;40;34m and \u001b[0m\u001b[38;2;230;219;116;48;2;39;40;34m'\u001b[0m\u001b[38;2;230;219;116;48;2;39;40;34mIron Man\u001b[0m\u001b[38;2;230;219;116;48;2;39;40;34m'\u001b[0m\u001b[38;2;230;219;116;48;2;39;40;34ms \u001b[0m\u001b[48;2;39;40;34m \u001b[0m  \n",
       "  \u001b[38;2;230;219;116;48;2;39;40;34mPower Steak.\u001b[0m\u001b[38;2;230;219;116;48;2;39;40;34m'\u001b[0m\u001b[38;2;230;219;116;48;2;39;40;34m\"\u001b[0m\u001b[38;2;248;248;242;48;2;39;40;34m)\u001b[0m\u001b[48;2;39;40;34m                                                                                                \u001b[0m  \n",
       " ───────────────────────────────────────────────────────────────────────────────────────────────────────────────── \n"
      ]
     },
     "metadata": {},
     "output_type": "display_data"
    },
    {
     "data": {
      "text/html": [
       "<pre style=\"white-space:pre;overflow-x:auto;line-height:normal;font-family:Menlo,'DejaVu Sans Mono',consolas,'Courier New',monospace\"><span style=\"font-weight: bold\">Execution logs:</span>\n",
       "Luxury Superhero Party Ideas:\n",
       "- Decorate with iconic superhero logos and projections of Gotham and other superhero cities around the venue.\n",
       "- Hire a professional DJ who can play themed music for superheroes like Batman and Wonder Woman.\n",
       "- For catering, serve dishes named after superheroes, like 'The Hulk's Green Smoothie' and 'Iron Man's Power \n",
       "Steak.'\n",
       "\n",
       "Out: None\n",
       "</pre>\n"
      ],
      "text/plain": [
       "\u001b[1mExecution logs:\u001b[0m\n",
       "Luxury Superhero Party Ideas:\n",
       "- Decorate with iconic superhero logos and projections of Gotham and other superhero cities around the venue.\n",
       "- Hire a professional DJ who can play themed music for superheroes like Batman and Wonder Woman.\n",
       "- For catering, serve dishes named after superheroes, like 'The Hulk's Green Smoothie' and 'Iron Man's Power \n",
       "Steak.'\n",
       "\n",
       "Out: None\n"
      ]
     },
     "metadata": {},
     "output_type": "display_data"
    },
    {
     "data": {
      "text/html": [
       "<pre style=\"white-space:pre;overflow-x:auto;line-height:normal;font-family:Menlo,'DejaVu Sans Mono',consolas,'Courier New',monospace\"><span style=\"color: #7f7f7f; text-decoration-color: #7f7f7f\">[Step 2: Duration 104.61 seconds| Input tokens: 4,823 | Output tokens: 209]</span>\n",
       "</pre>\n"
      ],
      "text/plain": [
       "\u001b[2m[Step 2: Duration 104.61 seconds| Input tokens: 4,823 | Output tokens: 209]\u001b[0m\n"
      ]
     },
     "metadata": {},
     "output_type": "display_data"
    },
    {
     "data": {
      "text/html": [
       "<pre style=\"white-space:pre;overflow-x:auto;line-height:normal;font-family:Menlo,'DejaVu Sans Mono',consolas,'Courier New',monospace\"><span style=\"color: #d4b702; text-decoration-color: #d4b702\">━━━━━━━━━━━━━━━━━━━━━━━━━━━━━━━━━━━━━━━━━━━━━━━━━━━━━ </span><span style=\"font-weight: bold\">Step </span><span style=\"color: #008080; text-decoration-color: #008080; font-weight: bold\">3</span><span style=\"color: #d4b702; text-decoration-color: #d4b702\"> ━━━━━━━━━━━━━━━━━━━━━━━━━━━━━━━━━━━━━━━━━━━━━━━━━━━━━━</span>\n",
       "</pre>\n"
      ],
      "text/plain": [
       "\u001b[38;2;212;183;2m━━━━━━━━━━━━━━━━━━━━━━━━━━━━━━━━━━━━━━━━━━━━━━━━━━━━━ \u001b[0m\u001b[1mStep \u001b[0m\u001b[1;36m3\u001b[0m\u001b[38;2;212;183;2m ━━━━━━━━━━━━━━━━━━━━━━━━━━━━━━━━━━━━━━━━━━━━━━━━━━━━━━\u001b[0m\n"
      ]
     },
     "metadata": {},
     "output_type": "display_data"
    },
    {
     "data": {
      "text/html": [
       "<pre style=\"white-space:pre;overflow-x:auto;line-height:normal;font-family:Menlo,'DejaVu Sans Mono',consolas,'Courier New',monospace\"> ─ <span style=\"font-weight: bold\">Executing parsed code:</span> ──────────────────────────────────────────────────────────────────────────────────────── \n",
       "  <span style=\"color: #f8f8f2; text-decoration-color: #f8f8f2; background-color: #272822\">final_answer(</span><span style=\"color: #e6db74; text-decoration-color: #e6db74; background-color: #272822\">\"Here are some luxury ideas for a superhero-themed party: Decorate with iconic superhero logos and</span>  \n",
       "  <span style=\"color: #e6db74; text-decoration-color: #e6db74; background-color: #272822\">projections of Gotham and other superhero cities around the venue. Hire a professional DJ who can play themed </span><span style=\"background-color: #272822\"> </span>  \n",
       "  <span style=\"color: #e6db74; text-decoration-color: #e6db74; background-color: #272822\">music for superheroes like Batman and Wonder Woman. For catering, serve dishes named after superheroes, like </span><span style=\"background-color: #272822\">  </span>  \n",
       "  <span style=\"color: #e6db74; text-decoration-color: #e6db74; background-color: #272822\">‘The Hulk’s Green Smoothie’ and ‘Iron Man’s Power Steak.’\"</span><span style=\"color: #f8f8f2; text-decoration-color: #f8f8f2; background-color: #272822\">)</span><span style=\"background-color: #272822\">                                                    </span>  \n",
       " ───────────────────────────────────────────────────────────────────────────────────────────────────────────────── \n",
       "</pre>\n"
      ],
      "text/plain": [
       " ─ \u001b[1mExecuting parsed code:\u001b[0m ──────────────────────────────────────────────────────────────────────────────────────── \n",
       "  \u001b[38;2;248;248;242;48;2;39;40;34mfinal_answer\u001b[0m\u001b[38;2;248;248;242;48;2;39;40;34m(\u001b[0m\u001b[38;2;230;219;116;48;2;39;40;34m\"\u001b[0m\u001b[38;2;230;219;116;48;2;39;40;34mHere are some luxury ideas for a superhero-themed party: Decorate with iconic superhero logos and\u001b[0m  \n",
       "  \u001b[38;2;230;219;116;48;2;39;40;34mprojections of Gotham and other superhero cities around the venue. Hire a professional DJ who can play themed \u001b[0m\u001b[48;2;39;40;34m \u001b[0m  \n",
       "  \u001b[38;2;230;219;116;48;2;39;40;34mmusic for superheroes like Batman and Wonder Woman. For catering, serve dishes named after superheroes, like \u001b[0m\u001b[48;2;39;40;34m  \u001b[0m  \n",
       "  \u001b[38;2;230;219;116;48;2;39;40;34m‘The Hulk’s Green Smoothie’ and ‘Iron Man’s Power Steak.’\u001b[0m\u001b[38;2;230;219;116;48;2;39;40;34m\"\u001b[0m\u001b[38;2;248;248;242;48;2;39;40;34m)\u001b[0m\u001b[48;2;39;40;34m                                                    \u001b[0m  \n",
       " ───────────────────────────────────────────────────────────────────────────────────────────────────────────────── \n"
      ]
     },
     "metadata": {},
     "output_type": "display_data"
    },
    {
     "data": {
      "text/html": [
       "<pre style=\"white-space:pre;overflow-x:auto;line-height:normal;font-family:Menlo,'DejaVu Sans Mono',consolas,'Courier New',monospace\"><span style=\"color: #d4b702; text-decoration-color: #d4b702; font-weight: bold\">Out - Final answer: Here are some luxury ideas for a superhero-themed party: Decorate with iconic superhero logos </span>\n",
       "<span style=\"color: #d4b702; text-decoration-color: #d4b702; font-weight: bold\">and projections of Gotham and other superhero cities around the venue. Hire a professional DJ who can play themed </span>\n",
       "<span style=\"color: #d4b702; text-decoration-color: #d4b702; font-weight: bold\">music for superheroes like Batman and Wonder Woman. For catering, serve dishes named after superheroes, like ‘The </span>\n",
       "<span style=\"color: #d4b702; text-decoration-color: #d4b702; font-weight: bold\">Hulk’s Green Smoothie’ and ‘Iron Man’s Power Steak.’</span>\n",
       "</pre>\n"
      ],
      "text/plain": [
       "\u001b[1;38;2;212;183;2mOut - Final answer: Here are some luxury ideas for a superhero-themed party: Decorate with iconic superhero logos \u001b[0m\n",
       "\u001b[1;38;2;212;183;2mand projections of Gotham and other superhero cities around the venue. Hire a professional DJ who can play themed \u001b[0m\n",
       "\u001b[1;38;2;212;183;2mmusic for superheroes like Batman and Wonder Woman. For catering, serve dishes named after superheroes, like ‘The \u001b[0m\n",
       "\u001b[1;38;2;212;183;2mHulk’s Green Smoothie’ and ‘Iron Man’s Power Steak.’\u001b[0m\n"
      ]
     },
     "metadata": {},
     "output_type": "display_data"
    },
    {
     "data": {
      "text/html": [
       "<pre style=\"white-space:pre;overflow-x:auto;line-height:normal;font-family:Menlo,'DejaVu Sans Mono',consolas,'Courier New',monospace\"><span style=\"color: #7f7f7f; text-decoration-color: #7f7f7f\">[Step 3: Duration 114.85 seconds| Input tokens: 7,731 | Output tokens: 328]</span>\n",
       "</pre>\n"
      ],
      "text/plain": [
       "\u001b[2m[Step 3: Duration 114.85 seconds| Input tokens: 7,731 | Output tokens: 328]\u001b[0m\n"
      ]
     },
     "metadata": {},
     "output_type": "display_data"
    },
    {
     "name": "stdout",
     "output_type": "stream",
     "text": [
      "Here are some luxury ideas for a superhero-themed party: Decorate with iconic superhero logos and projections of Gotham and other superhero cities around the venue. Hire a professional DJ who can play themed music for superheroes like Batman and Wonder Woman. For catering, serve dishes named after superheroes, like ‘The Hulk’s Green Smoothie’ and ‘Iron Man’s Power Steak.’\n"
     ]
    }
   ],
   "source": [
    "from langchain.docstore.document import Document\n",
    "from langchain.text_splitter import RecursiveCharacterTextSplitter\n",
    "from smolagents import Tool\n",
    "from langchain_community.retrievers import BM25Retriever\n",
    "from smolagents import CodeAgent, InferenceClientModel\n",
    "\n",
    "class PartyPlanningRetrieverTool(Tool):\n",
    "    name = \"party_planning_retriever\"\n",
    "    description = \"Uses semantic search to retrieve relevant party planning ideas for Alfred’s superhero-themed party at Wayne Manor.\"\n",
    "    inputs = {\n",
    "        \"query\": {\n",
    "            \"type\": \"string\",\n",
    "            \"description\": \"The query to perform. This should be a query related to party planning or superhero themes.\",\n",
    "        }\n",
    "    }\n",
    "    output_type = \"string\"\n",
    "\n",
    "    def __init__(self, docs, **kwargs):\n",
    "        super().__init__(**kwargs)\n",
    "        self.retriever = BM25Retriever.from_documents(\n",
    "            docs, k=5  # Retrieve the top 5 documents\n",
    "        )\n",
    "\n",
    "    def forward(self, query: str) -> str:\n",
    "        assert isinstance(query, str), \"Your search query must be a string\"\n",
    "\n",
    "        docs = self.retriever.invoke(\n",
    "            query,\n",
    "        )\n",
    "        return \"\\nRetrieved ideas:\\n\" + \"\".join(\n",
    "            [\n",
    "                f\"\\n\\n===== Idea {str(i)} =====\\n\" + doc.page_content\n",
    "                for i, doc in enumerate(docs)\n",
    "            ]\n",
    "        )\n",
    "\n",
    "# Simulate a knowledge base about party planning\n",
    "party_ideas = [\n",
    "    {\"text\": \"A superhero-themed masquerade ball with luxury decor, including gold accents and velvet curtains.\", \"source\": \"Party Ideas 1\"},\n",
    "    {\"text\": \"Hire a professional DJ who can play themed music for superheroes like Batman and Wonder Woman.\", \"source\": \"Entertainment Ideas\"},\n",
    "    {\"text\": \"For catering, serve dishes named after superheroes, like 'The Hulk's Green Smoothie' and 'Iron Man's Power Steak.'\", \"source\": \"Catering Ideas\"},\n",
    "    {\"text\": \"Decorate with iconic superhero logos and projections of Gotham and other superhero cities around the venue.\", \"source\": \"Decoration Ideas\"},\n",
    "    {\"text\": \"Interactive experiences with VR where guests can engage in superhero simulations or compete in themed games.\", \"source\": \"Entertainment Ideas\"}\n",
    "]\n",
    "\n",
    "source_docs = [\n",
    "    Document(page_content=doc[\"text\"], metadata={\"source\": doc[\"source\"]})\n",
    "    for doc in party_ideas\n",
    "]\n",
    "\n",
    "# Split the documents into smaller chunks for more efficient search\n",
    "text_splitter = RecursiveCharacterTextSplitter(\n",
    "    chunk_size=500,\n",
    "    chunk_overlap=50,\n",
    "    add_start_index=True,\n",
    "    strip_whitespace=True,\n",
    "    separators=[\"\\n\\n\", \"\\n\", \".\", \" \", \"\"],\n",
    ")\n",
    "docs_processed = text_splitter.split_documents(source_docs)\n",
    "\n",
    "# Create the retriever tool\n",
    "party_planning_retriever = PartyPlanningRetrieverTool(docs_processed)\n",
    "\n",
    "# Initialize the agent\n",
    "agent = CodeAgent(tools=[party_planning_retriever], model=model)\n",
    "\n",
    "# Example usage\n",
    "response = agent.run(\n",
    "    \"Find ideas for a luxury superhero-themed party, including entertainment, catering, and decoration options.\"\n",
    ")\n",
    "\n",
    "print(response)"
   ]
  },
  {
   "cell_type": "code",
   "execution_count": null,
   "id": "9ef39b46",
   "metadata": {},
   "outputs": [],
   "source": []
  }
 ],
 "metadata": {
  "kernelspec": {
   "display_name": "pytorch",
   "language": "python",
   "name": "python3"
  },
  "language_info": {
   "codemirror_mode": {
    "name": "ipython",
    "version": 3
   },
   "file_extension": ".py",
   "mimetype": "text/x-python",
   "name": "python",
   "nbconvert_exporter": "python",
   "pygments_lexer": "ipython3",
   "version": "3.12.3"
  }
 },
 "nbformat": 4,
 "nbformat_minor": 5
}
