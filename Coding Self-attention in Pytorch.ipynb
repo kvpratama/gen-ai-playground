{
 "cells": [
  {
   "cell_type": "code",
   "execution_count": 1,
   "metadata": {},
   "outputs": [],
   "source": [
    "import torch\n",
    "import torch.nn as nn"
   ]
  },
  {
   "cell_type": "code",
   "execution_count": null,
   "metadata": {},
   "outputs": [],
   "source": [
    "class SelfAttention(nn.Module):\n",
    "    def __init__(self, d_model=2, row_dim=0, col_dim=1):\n",
    "        super().__init__()\n",
    "        self.d_model = d_model # the size of the embedding dimension\n",
    "        self.row_dim = row_dim\n",
    "        self.col_dim = col_dim\n",
    "        \n",
    "        self.w_query = nn.Linear(d_model, d_model, bias=False)\n",
    "        self.w_key = nn.Linear(d_model, d_model, bias=False)\n",
    "        self.w_value = nn.Linear(d_model, d_model, bias=False)\n",
    "        self.softmax = nn.Softmax(dim=-1)\n",
    "\n",
    "    def forward(self, x):\n",
    "        query = self.w_query(x)\n",
    "        key = self.w_key(x)\n",
    "        value = self.w_value(x)\n",
    "        print(query.shape, key.shape, value.shape)\n",
    "        print(key.transpose(0, 1).shape)\n",
    "\n",
    "        sims = torch.matmul(query, key.transpose(0, 1))\n",
    "        print(\"sims\", sims)\n",
    "\n",
    "        scaled_sims = sims / (self.d_model ** 0.5)\n",
    "        print(\"scaled_sims\", scaled_sims)\n",
    "\n",
    "        attn_weights = self.softmax(torch.matmul(query, key.transpose(0, 1)) / (key.size(self.col_dim) ** 0.5))\n",
    "        attn_output = torch.matmul(attn_weights, value)\n",
    "        return attn_output"
   ]
  },
  {
   "cell_type": "code",
   "execution_count": 15,
   "metadata": {},
   "outputs": [
    {
     "name": "stdout",
     "output_type": "stream",
     "text": [
      "SelfAttention(\n",
      "  (w_query): Linear(in_features=2, out_features=2, bias=False)\n",
      "  (w_key): Linear(in_features=2, out_features=2, bias=False)\n",
      "  (w_value): Linear(in_features=2, out_features=2, bias=False)\n",
      "  (softmax): Softmax(dim=-1)\n",
      ")\n",
      "torch.Size([3, 2]) torch.Size([3, 2]) torch.Size([3, 2])\n",
      "torch.Size([2, 3])\n",
      "sims tensor([[-0.0990,  0.0648, -0.6523],\n",
      "        [-0.4022,  0.4078, -3.0024],\n",
      "        [ 0.4842, -0.6683,  4.0461]], grad_fn=<MmBackward0>)\n",
      "scaled_sims tensor([[-0.0700,  0.0458, -0.4612],\n",
      "        [-0.2844,  0.2883, -2.1230],\n",
      "        [ 0.3424, -0.4725,  2.8610]], grad_fn=<DivBackward0>)\n"
     ]
    },
    {
     "data": {
      "text/plain": [
       "tensor([[1.0100, 1.0641],\n",
       "        [0.2040, 0.7057],\n",
       "        [3.4989, 2.2427]], grad_fn=<MmBackward0>)"
      ]
     },
     "execution_count": 15,
     "metadata": {},
     "output_type": "execute_result"
    }
   ],
   "source": [
    "## create a matrix of token encodings...\n",
    "encodings_matrix = torch.tensor([[1.16, 0.23],\n",
    "                                 [0.57, 1.36],\n",
    "                                 [4.41, -2.16]])\n",
    "\n",
    "## set the seed for the random number generator\n",
    "torch.manual_seed(42)\n",
    "\n",
    "selfAttention = SelfAttention(d_model=2, row_dim=0, col_dim=1)\n",
    "print(selfAttention)\n",
    "\n",
    "## calculate basic attention for the token encodings\n",
    "selfAttention(encodings_matrix)"
   ]
  },
  {
   "cell_type": "code",
   "execution_count": 19,
   "metadata": {},
   "outputs": [
    {
     "name": "stdout",
     "output_type": "stream",
     "text": [
      "tensor([[ 0.5406, -0.1657],\n",
      "        [ 0.5869,  0.6496]], grad_fn=<TransposeBackward0>)\n",
      "tensor([[-0.1549, -0.3443],\n",
      "        [ 0.1427,  0.4153]], grad_fn=<TransposeBackward0>)\n",
      "tensor([[ 0.6233,  0.6146],\n",
      "        [-0.5188,  0.1323]], grad_fn=<TransposeBackward0>)\n",
      "tensor([[ 0.7621, -0.0428],\n",
      "        [ 1.1063,  0.7890],\n",
      "        [ 1.1164, -2.1336]], grad_fn=<MmBackward0>) tensor([[-0.1469, -0.3038],\n",
      "        [ 0.1057,  0.3685],\n",
      "        [-0.9914, -2.4152]], grad_fn=<MmBackward0>) tensor([[ 0.6038,  0.7434],\n",
      "        [-0.3502,  0.5303],\n",
      "        [ 3.8695,  2.4246]], grad_fn=<MmBackward0>)\n",
      "tensor([[-0.0990,  0.0648, -0.6523],\n",
      "        [-0.4022,  0.4078, -3.0024],\n",
      "        [ 0.4842, -0.6683,  4.0461]], grad_fn=<MmBackward0>)\n",
      "tensor([[-0.0700,  0.0458, -0.4612],\n",
      "        [-0.2844,  0.2883, -2.1230],\n",
      "        [ 0.3424, -0.4725,  2.8610]], grad_fn=<DivBackward0>)\n",
      "tensor([[0.3573, 0.4011, 0.2416],\n",
      "        [0.3410, 0.6047, 0.0542],\n",
      "        [0.0722, 0.0320, 0.8959]], grad_fn=<SoftmaxBackward0>)\n",
      "tensor([[1.0100, 1.0641],\n",
      "        [0.2040, 0.7057],\n",
      "        [3.4989, 2.2427]], grad_fn=<MmBackward0>)\n"
     ]
    }
   ],
   "source": [
    "## print out the weight matrix that creates the queries\n",
    "print(selfAttention.w_query.weight.transpose(0, 1))\n",
    "\n",
    "## print out the weight matrix that creates the queries\n",
    "print(selfAttention.w_key.weight.transpose(0, 1))\n",
    "\n",
    "## print out the weight matrix that creates the queries\n",
    "print(selfAttention.w_value.weight.transpose(0, 1))\n",
    "\n",
    "## calculate the queries\n",
    "q = selfAttention.w_query(encodings_matrix)\n",
    "k = selfAttention.w_key(encodings_matrix)\n",
    "v = selfAttention.w_value(encodings_matrix)\n",
    "print(q, k, v)\n",
    "\n",
    "sims = torch.matmul(q, k.transpose(0, 1))\n",
    "scaled_sims = sims / selfAttention.w_key.weight.size(1) ** 0.5\n",
    "attn_weight = torch.softmax(scaled_sims, dim=-1)\n",
    "attn_output = torch.matmul(attn_weight, v)\n",
    "\n",
    "print(sims)\n",
    "print(scaled_sims)\n",
    "print(attn_weight)\n",
    "print(attn_output)\n"
   ]
  }
 ],
 "metadata": {
  "kernelspec": {
   "display_name": "pytorch",
   "language": "python",
   "name": "python3"
  },
  "language_info": {
   "codemirror_mode": {
    "name": "ipython",
    "version": 3
   },
   "file_extension": ".py",
   "mimetype": "text/x-python",
   "name": "python",
   "nbconvert_exporter": "python",
   "pygments_lexer": "ipython3",
   "version": "3.12.8"
  }
 },
 "nbformat": 4,
 "nbformat_minor": 2
}
