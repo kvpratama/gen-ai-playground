{
 "cells": [
  {
   "cell_type": "markdown",
   "metadata": {},
   "source": [
    "# Langchain-Transformers-Python\n",
    "\n",
    "A tutorial about how to use Hugging Face and LangChain [TechWithTim](https://github.com/techwithtim/Langchain-Transformers-Python)"
   ]
  },
  {
   "cell_type": "code",
   "execution_count": 1,
   "metadata": {},
   "outputs": [
    {
     "name": "stderr",
     "output_type": "stream",
     "text": [
      "c:\\Users\\IdeaPad\\anaconda3\\envs\\pytorch\\Lib\\site-packages\\tqdm\\auto.py:21: TqdmWarning: IProgress not found. Please update jupyter and ipywidgets. See https://ipywidgets.readthedocs.io/en/stable/user_install.html\n",
      "  from .autonotebook import tqdm as notebook_tqdm\n",
      "c:\\Users\\IdeaPad\\anaconda3\\envs\\pytorch\\Lib\\site-packages\\torchvision\\io\\image.py:14: UserWarning: Failed to load image Python extension: 'Could not find module 'C:\\Users\\IdeaPad\\anaconda3\\envs\\pytorch\\Lib\\site-packages\\torchvision\\image.pyd' (or one of its dependencies). Try using the full path with constructor syntax.'If you don't plan on using image functionality from `torchvision.io`, you can ignore this warning. Otherwise, there might be something wrong with your environment. Did you have `libjpeg` or `libpng` installed before building `torchvision` from source?\n",
      "  warn(\n"
     ]
    }
   ],
   "source": [
    "from transformers import pipeline\n",
    "from langchain_huggingface import HuggingFacePipeline\n",
    "from langchain.prompts import PromptTemplate\n",
    "from transformers.utils.logging import set_verbosity_error\n",
    "set_verbosity_error()"
   ]
  },
  {
   "cell_type": "code",
   "execution_count": 2,
   "metadata": {},
   "outputs": [
    {
     "name": "stdout",
     "output_type": "stream",
     "text": [
      "WARNING:tensorflow:From c:\\Users\\IdeaPad\\anaconda3\\envs\\pytorch\\Lib\\site-packages\\tf_keras\\src\\losses.py:2976: The name tf.losses.sparse_softmax_cross_entropy is deprecated. Please use tf.compat.v1.losses.sparse_softmax_cross_entropy instead.\n",
      "\n"
     ]
    }
   ],
   "source": [
    "# Load Hugging Face Summarization Pipeline\n",
    "model = pipeline(\"summarization\", model=\"facebook/bart-large-cnn\", device=0)"
   ]
  },
  {
   "cell_type": "code",
   "execution_count": 3,
   "metadata": {},
   "outputs": [],
   "source": [
    "# Wrap it inside LangChain\n",
    "llm = HuggingFacePipeline(pipeline=model)"
   ]
  },
  {
   "cell_type": "code",
   "execution_count": 4,
   "metadata": {},
   "outputs": [],
   "source": [
    "# Create the prompt template for summarization\n",
    "template = PromptTemplate.from_template(\n",
    "    \"Summarize the following text in a way a {age} year old would understand:\\n\\n{text}\"\n",
    ")"
   ]
  },
  {
   "cell_type": "code",
   "execution_count": 5,
   "metadata": {},
   "outputs": [],
   "source": [
    "summarizer_chain = template | llm"
   ]
  },
  {
   "cell_type": "code",
   "execution_count": null,
   "metadata": {},
   "outputs": [],
   "source": [
    "text_to_summarize = \"\"\"\n",
    "Are you an author looking for innovative ways to bring your book to life and engage with your audience? Imagine transforming the stories, insights, or wisdom from your book into an interactive AI chat experience. Picture your readers having real-time conversations with your book, diving deeper into its themes, asking questions, and even receiving personalized advice or storytelling.\n",
    "\n",
    "You’re probably thinking, “Intriguing, but won’t this require a team of developers and a heap of extra budget?” Let’s find out!\n",
    "\n",
    "What is a \"chat to book\" AI?\n",
    "Before we crack onto the step-by-step process, what exactly is an AI-powered chatbot of your book and why should you create one?\n",
    "\n",
    "With Coachvox AI you can create an AI chatbot based on the content of your book. If fact, we have several creators that have used their books (both fiction and non-fiction) to create an AI. Our tool turns your book into AI training data, which means when your audience interacts with your AI, it uses the content of your book to inform the responses.\n",
    "\n",
    "There are several uses for an AI based on your book. Firstly, it’s a great way to add personalised value and information to your readers. Second, it’s a highly effective way of promoting your book through press or social media. By directing your audience, both readers and prospective readers, to your AI, you’re going to collect valuable email addresses and audience insights.\n",
    "\"\"\"\n",
    "age = \"5\""
   ]
  },
  {
   "cell_type": "code",
   "execution_count": 7,
   "metadata": {},
   "outputs": [],
   "source": [
    "# Execute the summarization chain\n",
    "summary = summarizer_chain.invoke({\"text\": text_to_summarize, \"age\": age})"
   ]
  },
  {
   "cell_type": "code",
   "execution_count": 8,
   "metadata": {},
   "outputs": [
    {
     "name": "stdout",
     "output_type": "stream",
     "text": [
      "\n",
      "🔹 **Generated Summary:**\n",
      "With Coachvox AI you can create an AI chatbot based on the content of your book. This is a great way to add personalised value and information to your readers. By directing your audience, both readers and prospective readers, to your AI, you’re going to collect valuable email addresses.\n"
     ]
    }
   ],
   "source": [
    "print(\"\\n🔹 **Generated Summary:**\")\n",
    "print(summary)"
   ]
  },
  {
   "cell_type": "markdown",
   "metadata": {},
   "source": [
    "## Add Refinement and QA Pipeline"
   ]
  },
  {
   "cell_type": "code",
   "execution_count": 2,
   "metadata": {},
   "outputs": [
    {
     "name": "stdout",
     "output_type": "stream",
     "text": [
      "WARNING:tensorflow:From c:\\Users\\IdeaPad\\anaconda3\\envs\\pytorch\\Lib\\site-packages\\tf_keras\\src\\losses.py:2976: The name tf.losses.sparse_softmax_cross_entropy is deprecated. Please use tf.compat.v1.losses.sparse_softmax_cross_entropy instead.\n",
      "\n"
     ]
    }
   ],
   "source": [
    "summarization_pipeline = pipeline(\"summarization\", model=\"facebook/bart-large-cnn\", device=\"cpu\")\n",
    "summarizer = HuggingFacePipeline(pipeline=summarization_pipeline)\n",
    "\n",
    "refinement_pipeline = pipeline(\"summarization\", model=\"facebook/bart-large\", device=\"cpu\")\n",
    "refiner = HuggingFacePipeline(pipeline=refinement_pipeline)\n",
    "\n",
    "qa_pipeline = pipeline(\"question-answering\", model=\"deepset/roberta-base-squad2\", device=\"cpu\")"
   ]
  },
  {
   "cell_type": "code",
   "execution_count": 3,
   "metadata": {},
   "outputs": [],
   "source": [
    "summary_template = PromptTemplate.from_template(\"Summarize the following text in a {length} way:\\n\\n{text}\")\n",
    "\n",
    "summarization_chain = summary_template | summarizer | refiner"
   ]
  },
  {
   "cell_type": "code",
   "execution_count": 3,
   "metadata": {},
   "outputs": [],
   "source": [
    "text_to_summarize = \"\"\"\n",
    "Are you an author searching for fresh, innovative ways to breathe new life into your book and forge a deeper connection with your audience? Imagine taking the stories, insights, or timeless wisdom woven into the pages of your book and transforming them into a dynamic, interactive AI chat experience. Picture your readers engaging in real-time conversations with the essence of your book—exploring its themes in greater depth, posing questions that spark meaningful dialogue, and even receiving tailored advice or immersive storytelling that feels uniquely personal to them.\n",
    "\n",
    "You might be thinking, “This sounds incredibly intriguing, but doesn’t it demand a team of skilled developers, a steep learning curve, or a significant financial investment?” Not necessarily—let’s dive in and explore how this can be more accessible than you might assume!\n",
    "\n",
    "What is a \"Chat to Book\" AI?\n",
    "Before we launch into a detailed step-by-step process, let’s clarify what an AI-powered chatbot of your book actually entails and why it’s worth considering for your creative journey.\n",
    "\n",
    "With a tool like Coachvox AI, you can craft an AI chatbot that’s built directly from the content of your book. In fact, we’ve already seen a variety of creators—spanning both fiction and non-fiction genres—successfully harness their manuscripts to bring such AIs to life. The magic lies in how Coachvox AI converts your book into a rich source of training data. Once your chatbot is up and running, it draws exclusively from your book’s material to generate responses, ensuring that every interaction stays true to your voice, ideas, and narrative.\n",
    "\n",
    "Why Create an AI Chatbot for Your Book?\n",
    "The possibilities for an AI based on your book are as diverse as they are exciting. First and foremost, it’s an exceptional way to deliver personalized value and deeper insights to your readers. Imagine a fan of your novel asking about a character’s motivations or a reader of your self-help book seeking advice tailored to their situation—your AI can respond with answers rooted in your work, enhancing their experience and connection to your writing.\n",
    "\n",
    "In short, a \"chat to book\" AI isn’t just a gimmick—it’s a bridge between your book and your readers, amplifying engagement, extending your reach, and opening doors to new creative and marketing opportunities. Ready to see how it works? Let’s take a closer look!\n",
    "\n",
    "Why Readers Would Love This Feature\n",
    "Readers would be drawn to an AI chatbot based on your book because it offers a unique, interactive, and personalized extension of their reading experience. Here’s why they’d love it:\n",
    "\n",
    "Enhanced Connection to the Author: Readers often crave a closer relationship with the creators they admire. Chatting with an AI that embodies your voice and ideas bridges that gap, making them feel like they’re conversing with you or your characters directly. This fosters loyalty and emotional investment in your work.\n",
    "Fun and Novelty: Let’s face it—an AI chatbot is a cool, cutting-edge feature! It adds an element of playfulness and discovery, appealing to tech-savvy readers or those who love innovative storytelling. It’s a memorable talking point they’ll share with friends, amplifying your book’s buzz.\n",
    "Ongoing Value: Unlike a book that might sit on a shelf after one read, the chatbot keeps the content alive. Readers can return to it repeatedly, asking new questions as their circumstances or curiosity evolve, making your book a living resource or story they can revisit.\n",
    "Why This Won’t Discourage Readers from Buying Your Book\n",
    "You might worry that a chatbot could give away too much, letting users glean the “main idea” without ever purchasing your book. However, here’s why it’s unlikely to replace the need to buy—and may even drive sales:\n",
    "\n",
    "Teaser, Not a Substitute: The chatbot offers a taste of your book’s content, not the full experience. It’s like a movie trailer—it hints at the depth, themes, and value but doesn’t deliver the complete narrative or structure. Readers get snippets or answers tied to their questions, but the richness of your prose, the full arc of your story, or the detailed arguments in your non-fiction work remain exclusive to the book itself.\n",
    "\"\"\"\n",
    "length = \"long\""
   ]
  },
  {
   "cell_type": "code",
   "execution_count": 9,
   "metadata": {},
   "outputs": [
    {
     "name": "stdout",
     "output_type": "stream",
     "text": [
      "\n",
      "🔹 **Generated Summary:**\n",
      "A \"chat to book\" AI is a bridge between your book and your readers, amplifying engagement, extending your reach, and opening doors to new creative and marketing opportunities. With a tool like Coachvox AI, you can craft an AI chatbot that’s built directly from the content of your book.\n"
     ]
    }
   ],
   "source": [
    "summary = summarization_chain.invoke({\"text\": text_to_summarize, \"length\": length})\n",
    "\n",
    "print(\"\\n🔹 **Generated Summary:**\")\n",
    "print(summary)"
   ]
  },
  {
   "cell_type": "code",
   "execution_count": 10,
   "metadata": {},
   "outputs": [
    {
     "name": "stdout",
     "output_type": "stream",
     "text": [
      "\n",
      "🔹 **Answer:**\n",
      "a bridge between your book and your readers\n"
     ]
    }
   ],
   "source": [
    "question = \"Why do I need this?\"\n",
    "\n",
    "qa_result = qa_pipeline(question=question, context=summary)\n",
    "\n",
    "print(\"\\n🔹 **Answer:**\")\n",
    "print(qa_result[\"answer\"])"
   ]
  },
  {
   "cell_type": "code",
   "execution_count": 11,
   "metadata": {},
   "outputs": [
    {
     "name": "stdout",
     "output_type": "stream",
     "text": [
      "\n",
      "🔹 **Answer:**\n",
      "chat to book\" AI is a bridge between your book and your readers\n"
     ]
    }
   ],
   "source": [
    "question = \"What problem does it address?\"\n",
    "\n",
    "qa_result = qa_pipeline(question=question, context=summary)\n",
    "\n",
    "print(\"\\n🔹 **Answer:**\")\n",
    "print(qa_result[\"answer\"])"
   ]
  },
  {
   "cell_type": "code",
   "execution_count": 15,
   "metadata": {},
   "outputs": [
    {
     "name": "stdout",
     "output_type": "stream",
     "text": [
      "\n",
      "🔹 **Answer:**\n",
      "unique, interactive, and personalized extension of their reading experience\n"
     ]
    }
   ],
   "source": [
    "question = \"What value does it bring to me?\"\n",
    "\n",
    "qa_result = qa_pipeline(question=question, context=text_to_summarize)\n",
    "\n",
    "print(\"\\n🔹 **Answer:**\")\n",
    "print(qa_result[\"answer\"])"
   ]
  },
  {
   "cell_type": "code",
   "execution_count": 16,
   "metadata": {},
   "outputs": [
    {
     "name": "stdout",
     "output_type": "stream",
     "text": [
      "\n",
      "🔹 **Answer:**\n",
      "Coachvox AI\n"
     ]
    }
   ],
   "source": [
    "question = \"How does creating an AI chatbot help with book promotion beyond traditional press or social media methods?\"\n",
    "\n",
    "qa_result = qa_pipeline(question=question, context=text_to_summarize)\n",
    "\n",
    "print(\"\\n🔹 **Answer:**\")\n",
    "print(qa_result[\"answer\"])"
   ]
  },
  {
   "cell_type": "markdown",
   "metadata": {},
   "source": [
    "## Use Google Gemini"
   ]
  },
  {
   "cell_type": "code",
   "execution_count": 12,
   "metadata": {},
   "outputs": [],
   "source": [
    "import os\n",
    "from langchain_google_genai import ChatGoogleGenerativeAI\n",
    "\n",
    "os.environ[\"GOOGLE_API_KEY\"] = os.environ[\"GEMINI_API_KEY\"]\n",
    "\n",
    "gemini_summarizer = ChatGoogleGenerativeAI(\n",
    "    model=\"gemini-2.0-flash-lite\",\n",
    "    temperature=0,\n",
    "    max_tokens=None,\n",
    "    timeout=None,\n",
    "    max_retries=2,\n",
    ")\n",
    "\n",
    "gemini_refiner = ChatGoogleGenerativeAI(\n",
    "    model=\"gemini-2.0-flash-lite\",\n",
    "    temperature=0,\n",
    "    max_tokens=None,\n",
    "    timeout=None,\n",
    "    max_retries=2,\n",
    ")\n",
    "\n",
    "gemini_qa = ChatGoogleGenerativeAI(\n",
    "    model=\"gemini-2.0-flash\",\n",
    "    temperature=0,\n",
    "    max_tokens=None,\n",
    "    timeout=None,\n",
    "    max_retries=2,\n",
    ")"
   ]
  },
  {
   "cell_type": "code",
   "execution_count": 5,
   "metadata": {},
   "outputs": [],
   "source": [
    "from langchain.prompts import PromptTemplate\n",
    "\n",
    "summary_prompt = PromptTemplate.from_template(\"Summarize the following text in a {length} way:\\n\\n{text}\")\n",
    "\n",
    "refiner_prompt = PromptTemplate.from_template(\"Given a {summary} refine the text for 5 year old\")"
   ]
  },
  {
   "cell_type": "code",
   "execution_count": 8,
   "metadata": {},
   "outputs": [],
   "source": [
    "summarization_chain = summary_prompt | gemini_summarizer | (lambda response: {\"summary\": response.content}) | refiner_prompt | gemini_refiner"
   ]
  },
  {
   "cell_type": "code",
   "execution_count": 9,
   "metadata": {},
   "outputs": [
    {
     "name": "stdout",
     "output_type": "stream",
     "text": [
      "Okay, imagine your favorite book could TALK to you! \n",
      "\n",
      "This is about making a special robot friend, like a super smart parrot, that knows EVERYTHING in your book. We can use a tool like Coachvox AI to do this.\n",
      "\n",
      "The robot friend would be like the book itself! It would know all the stories, all the characters, and all the cool ideas. You could ask it questions like:\n",
      "\n",
      "*   \"Why did the little bear go into the woods?\"\n",
      "*   \"What's the best thing to do when you're feeling sad?\"\n",
      "\n",
      "And the robot friend would answer you, using the words from the book! It's like having a secret chat with the author or the characters!\n",
      "\n",
      "This is super fun because:\n",
      "\n",
      "*   You get to talk to the book!\n",
      "*   It's like a game!\n",
      "*   You can learn even MORE about the story!\n",
      "\n",
      "Some people might worry that the robot friend will replace the book. But it won't! It's like a little taste of the book, a sneak peek! You'll still want to read the whole book to get all the amazing stories and pictures. The robot friend just makes you want to read the book even MORE! It's like a super cool helper that makes reading even more fun!\n"
     ]
    }
   ],
   "source": [
    "summary = summarization_chain.invoke({\"text\": text_to_summarize, \"length\": length})\n",
    "print(summary.content)"
   ]
  },
  {
   "cell_type": "code",
   "execution_count": 10,
   "metadata": {},
   "outputs": [],
   "source": [
    "from langchain_core.prompts import ChatPromptTemplate\n",
    "\n",
    "chat_template_string = [\n",
    "    (\"system\", \"Answer user question using this summary: {summary}. Make sure your answer is concise. Decline politely when user ask something that is not related to the given summary.\"),\n",
    "    (\"human\", \"{question}\"),\n",
    "]\n",
    "chat_prompt_template = ChatPromptTemplate(chat_template_string)\n"
   ]
  },
  {
   "cell_type": "code",
   "execution_count": 14,
   "metadata": {},
   "outputs": [
    {
     "name": "stdout",
     "output_type": "stream",
     "text": [
      "Why do I need this?\n",
      "It makes reading more fun! You can talk to your favorite book, ask questions, and learn even more about the story in a new and exciting way. It's like having a super cool helper that makes you want to read the book even MORE!\n",
      "------------------------------------------\n",
      "What problem does it address?\n",
      "It addresses the problem of wanting to interact with a book in a more engaging and interactive way, like having a conversation with the characters or the author. It makes learning about the story more fun and encourages you to read the book even more.\n",
      "------------------------------------------\n",
      "What value does it bring to me?\n",
      "It lets you talk to your favorite book like a super-smart parrot! You can ask questions and get answers straight from the book's content, making reading more fun and helping you learn even more about the story. It's like having a secret chat with the author or characters!\n",
      "------------------------------------------\n",
      "Who is google?\n",
      "I can't answer that based on what I know. I can only talk about creating a robot friend that knows everything in a book.\n",
      "------------------------------------------\n",
      "How does creating an AI chatbot help with book promotion beyond traditional press or social media methods?\n",
      "I am sorry, but the provided summary does not contain information about book promotion. Therefore, I cannot answer your question.\n",
      "------------------------------------------\n",
      "How does creating an AI chatbot based on my book help making reading fun?\n",
      "It's like having a super cool helper that makes reading even more fun! You get to talk to the book, like a game, and learn even MORE about the story by asking your robot friend questions and getting answers straight from the book. It might even make you want to read the whole book even MORE!\n",
      "------------------------------------------\n"
     ]
    }
   ],
   "source": [
    "questions = [\"Why do I need this?\", \"What problem does it address?\", \"What value does it bring to me?\", \"Who is google?\", \"How does creating an AI chatbot help with book promotion beyond traditional press or social media methods?\", \"How does creating an AI chatbot based on my book help making reading fun?\"]\n",
    "for question in questions:\n",
    "    customer_messages = chat_prompt_template.invoke(\n",
    "                            {\n",
    "                                \"summary\": summary.content,\n",
    "                                \"question\": question,\n",
    "                            }\n",
    "                        )\n",
    "    print(question)\n",
    "    print(gemini_qa.invoke(customer_messages).content)\n",
    "    print(\"------------------------------------------\")"
   ]
  }
 ],
 "metadata": {
  "kernelspec": {
   "display_name": "pytorch",
   "language": "python",
   "name": "python3"
  },
  "language_info": {
   "codemirror_mode": {
    "name": "ipython",
    "version": 3
   },
   "file_extension": ".py",
   "mimetype": "text/x-python",
   "name": "python",
   "nbconvert_exporter": "python",
   "pygments_lexer": "ipython3",
   "version": "3.12.9"
  }
 },
 "nbformat": 4,
 "nbformat_minor": 2
}
