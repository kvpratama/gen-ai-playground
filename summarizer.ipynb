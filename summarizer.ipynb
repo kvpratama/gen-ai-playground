{
 "cells": [
  {
   "cell_type": "code",
   "execution_count": 14,
   "id": "8561cad1",
   "metadata": {},
   "outputs": [
    {
     "name": "stdout",
     "output_type": "stream",
     "text": [
      "ChatGoogleGenerativeAI model loaded successfully.\n"
     ]
    }
   ],
   "source": [
    "# app/services/summarizer.py\n",
    "import os\n",
    "from dotenv import load_dotenv\n",
    "from langchain_google_genai import ChatGoogleGenerativeAI\n",
    "from langchain.prompts import PromptTemplate\n",
    "from langchain.chains.llm import LLMChain\n",
    "from langchain.chains.combine_documents.stuff import StuffDocumentsChain\n",
    "from langchain.docstore.document import Document\n",
    "from langchain.chains.summarize import load_summarize_chain\n",
    "\n",
    "# Load environment variables (like GOOGLE_API_KEY)\n",
    "load_dotenv()\n",
    "\n",
    "# Initialize the Google Generative AI model\n",
    "# Make sure GOOGLE_API_KEY is set in your environment or .env file\n",
    "try:\n",
    "    llm = ChatGoogleGenerativeAI(model=\"gemini-2.0-flash-thinking-exp-01-21\", temperature=0.7)\n",
    "    print(\"ChatGoogleGenerativeAI model loaded successfully.\")\n",
    "except Exception as e:\n",
    "    print(f\"Error loading ChatGoogleGenerativeAI model: {e}\")\n",
    "    # Handle error appropriately - maybe raise or set llm to None\n",
    "    llm = None\n",
    "\n",
    "def summarize_transcript_google(transcript: str) -> str:\n",
    "    \"\"\"\n",
    "    Summarizes the provided transcript using Google Generative AI (Gemini Pro).\n",
    "    \"\"\"\n",
    "    if llm is None:\n",
    "        raise RuntimeError(\"Google Generative AI model failed to load.\")\n",
    "    if not transcript or not transcript.strip():\n",
    "        return \"Transcript was empty, nothing to summarize.\"\n",
    "\n",
    "    try:\n",
    "        print(f\"Starting summarization for transcript of length: {len(transcript)}\")\n",
    "\n",
    "        # Option 1: Simple summarization using a basic prompt (good for shorter texts)\n",
    "        # prompt_template = \"\"\"Write a concise summary of the following podcast transcript:\n",
    "\n",
    "        # \"{text}\"\n",
    "\n",
    "        # CONCISE SUMMARY:\"\"\"\n",
    "        # prompt = PromptTemplate.from_template(prompt_template)\n",
    "        # llm_chain = LLMChain(llm=llm, prompt=prompt)\n",
    "        # summary = await llm_chain.arun(text=transcript) # Use arun for async\n",
    "\n",
    "        # Option 2: Using LangChain's summarization chain (more robust for longer texts)\n",
    "        # It handles splitting text if needed (though 'stuff' doesn't split here)\n",
    "        # Create a Document object for the chain\n",
    "        # docs = [Document(page_content=transcript)]\n",
    "\n",
    "        # Define prompt for the 'stuff' chain\n",
    "        prompt_template = \"\"\"Write a concise summary of the following podcast transcript:\n",
    "\n",
    "        \"{text}\"\n",
    "\n",
    "        CONCISE SUMMARY:\"\"\"\n",
    "        prompt = PromptTemplate.from_template(prompt_template)\n",
    "        summarization_chain = prompt | llm\n",
    "        summary = summarization_chain.invoke({\"text\": transcript,})\n",
    "        # Load the summarization chain (using 'stuff' method for simplicity here)\n",
    "        # Other methods like 'map_reduce' or 'refine' are better for very long texts\n",
    "        # that exceed the model's context window.\n",
    "        # chain = load_summarize_chain(llm, chain_type=\"stuff\", prompt=prompt, verbose=False) # Set verbose=True for debugging\n",
    "\n",
    "        # Run the chain asynchronously\n",
    "        # summary_result = await chain.arun(docs) # Use arun for async with chains\n",
    "\n",
    "        print(\"Summarization complete.\")\n",
    "        return summary.content\n",
    "\n",
    "    except Exception as e:\n",
    "        print(f\"Error during summarization: {e}\")\n",
    "        # Re-raise a more specific error or return an error message\n",
    "        raise RuntimeError(f\"Summarization failed: {e}\") from e\n",
    "\n",
    "# Example Usage (optional, for testing)\n",
    "# import asyncio\n",
    "# if __name__ == \"__main__\":\n",
    "#     async def main():\n",
    "#         test_transcript = \"This is a test transcript. It talks about various things. We need to summarize this content effectively. Podcasts often cover many topics, so a good summary is helpful. This is just placeholder text to test the summarization function.\"\n",
    "#         try:\n",
    "#             summary = await summarize_transcript_google(test_transcript)\n",
    "#             print(\"\\n--- Summary ---\")\n",
    "#             print(summary)\n",
    "#             print(\"---------------\\n\")\n",
    "#         except Exception as e:\n",
    "#             print(f\"An error occurred: {e}\")\n",
    "#     asyncio.run(main())\n",
    "\n"
   ]
  },
  {
   "cell_type": "code",
   "execution_count": 3,
   "id": "218c5b41",
   "metadata": {},
   "outputs": [
    {
     "name": "stdout",
     "output_type": "stream",
     "text": [
      "model='models/gemini-2.0-flash-thinking-exp-01-21' google_api_key=SecretStr('**********') client=<google.ai.generativelanguage_v1beta.services.generative_service.client.GenerativeServiceClient object at 0x0000027A739BE7B0> default_metadata=()\n"
     ]
    }
   ],
   "source": [
    "print(llm)"
   ]
  },
  {
   "cell_type": "code",
   "execution_count": 6,
   "id": "73038e60",
   "metadata": {},
   "outputs": [
    {
     "data": {
      "text/plain": [
       "AIMessage(content='Hello there to you too!  How can I help you today? 😊', additional_kwargs={}, response_metadata={'prompt_feedback': {'block_reason': 0, 'safety_ratings': []}, 'finish_reason': 'STOP', 'safety_ratings': []}, id='run-fb2fc5a9-18b9-4726-983b-8795f0f2216d-0', usage_metadata={'input_tokens': 4, 'output_tokens': 15, 'total_tokens': 19, 'input_token_details': {'cache_read': 0}})"
      ]
     },
     "execution_count": 6,
     "metadata": {},
     "output_type": "execute_result"
    }
   ],
   "source": [
    "llm.invoke(\"hello there!\")"
   ]
  },
  {
   "cell_type": "code",
   "execution_count": 15,
   "id": "f4ab64b6",
   "metadata": {},
   "outputs": [
    {
     "name": "stdout",
     "output_type": "stream",
     "text": [
      "Starting summarization for transcript of length: 9598\n",
      "Summarization complete.\n"
     ]
    }
   ],
   "source": [
    "summary = summarize_transcript_google(\"mismatchment, hellish post-war planning, low quality immigration, and now this disastrous equal pay claim. It's a tragedy. And I suppose finally then, for all the attention on the tariffs, and rightly so, of course, they're an important economic event. There is an enormous amount that we could do here in the UK to get our economic house in order. Yeah, precisely. That's actually one of the good things that Kisarna said in speech about the death of globalization. I don't agree that globalization is dead. He is right to say that actually domestic economic performance is a thing that matters. Global capital is flaky. People that have billions to spend on new businesses or invested in new ideas will go where it's most welcome. At the moment, Britain is sending up sides everywhere, which says we're closed to a business. We need to change those signs around to say, open, we need to look at how we make this country more productive and we'll get to the world's stage. And that happens with domestic economic reform, not worrying about tariffs. It's a good thing. We're not retaliating so far. I really hope we don't. We don't need to go down the European Union's protectionist route. But we do need to work out how to make this country more open to investment. And that means ending net zero, great anti-regulation of energy, stopping the import rights bill, finding ways to cut the corporate tax and then afford a flat ship. It's a lot easier to do business and innovate than you could. Absolutely. Okay, well, Freda Possad, thank you very much for coming on this capped deck. Thank you very much, Laurie. Now, normally, left-wing MPs are more likely to be found sitting in a just-op oil protest than campaigning for an airport. Yeah, recently, a group of 20 predominantly labour MPs has been doing just that. But this wasn't for a fifth runway he threw. It wasn't in a term's history. It was in Mirpur, Pakistan. So why are MPs elected in Britain campaigning for airports in foreign countries? Well, to discuss that, I'm very pleased to be joined by Sam Bidwell, who is Director of Research at the Adam Smith Institute and a writer for publications, including The Critic. Welcome to the Skeptic Sam. Thanks so much for having me. Yeah, good to have you here. Okay, so there's a campaign by 20 MPs for an airport in Mirpur, Pakistan. Now, Sam, what does this say about where we're at as a society? And in particular, that phrase is often used about Britain, which is that we're an integration miracle. Yes, that's quite right. We'll look, we should be shocked, but we shouldn't be surprised. This is the latest in a long string of decisions, political decisions that have been made because of the fact that Britain is becoming an increasingly fractured and multicultural society. So for a bit of context on the Mirpur region and why these MPs were pushing for an airport there, the majority of Britain's Pakistani population draws its origins back to Mirpur in northern Pakistan in the Kashmir region. There are also some reasons for that, but the primary one is that the construction of a dam in that part of the world, many, many years ago, displaced a large proportion of the population who then chose to come to Britain to work often in the north of England in the textiles industry. So a majority of British Pakistanis of which there are almost two million today, it draws their heritage back to Mirpur and therefore, of course, a lot of them travel back to Mirpur on a regular basis. In fact, there are shops in Mirpur which take the British power, such as the level of churn between the two populations. And as we know, there is a problem in the British Pakistani community of people going out to Mirpur to find wives, to bring them back to Britain, often they are related to these wives. And that's one way that the community has kept itself in silo, kept itself isolated from the rest of the population, et cetera, et cetera. And so in constituencies where a large proportion of the population is Mipuri Pakistani, we've seen a lot of pressure on local MPs to make it easier to return to Mirpur for all sorts of reasons. Social, you know, all of them have businesses that are in both countries, but also there's that particular marriage angle to it. You know, as the letter put together by those labour MPs said, it's about a three hour drive from the nearest airport in Pakistan to Mirpur. And so this is about a group of constituents lobbying for their own interests. The problem, of course, is that those interests sit squarely in opposition to our national interests. They've got nothing to do with Britain. Whether or not there's an airport in Mirpur has nothing to do with ordinary British people. It's got nothing to do with the constituents of those MPs who have not got that kind of ancestral link to Mirpur. And of course, it's a great, you know, it's kind of ridiculous that so many of those MPs, eight of the 20 have voted against expansion of Heathrow Airport whilst also pushing the Prime Minister of Pakistan to open a new one in Mirpur. This is a symptom of a bigger problem, which is that when a society has groups within it that have very divergent interests, very divergent outlooks, you know, they engage with the world in a completely different way to the general, to the majority of British people. You get these kind of strange lobbying causes. I mean, we saw one of those MPs who signed the letter Tahir Ali previously back in, I think it was in January, pushed the Prime Minister to introduce laws, which would criminalize criticism of the Quran or the Prophet Muhammad. Again, let's be very clear about this. The voters of Birmingham haven't suddenly taken a kind of what have its turn. What's happened is that the demographics of Birmingham have changed, the people in that city have changed. And so of course, then the priorities have changed. And in some ways, you know, I've seen a lot of criticism of this particular Mirpur Airport, decision I've seen a lot of criticism of other such decisions or campaigns on behalf of that community. A lot of criticism is directed at the MPs. And the problem is, of course, in large parts of the country, if you want to get elected, you've got a panda to these interests. There's no two ways about it. Let's be very real about this. The incentive for a politician is to get reelected wherever they are. We see this, you know, if you're in the southwest, you're going to campaign on farmers' interests. If you're in, you know, a poor part of the country, you might campaign for more investment. We've seen MPs be very, very successful because they've been able to get money back to their constituency. The problem is is that when the dividing lines are religious, their ethnic, their racial, A, that has huge dividing effects on society, and B, it takes time and resources away from things which matter to this country, and directs it towards things going on in far off places to which people here have a kind of cultural or ancestral link. And of course, one measure of the fact that this is actually organic electoral demand is that many of these MPs are not even of Pakistani heritage. I mean, you have white MPs like, you know, the Labour MP for Waldenstere Stella Creasy, who I imagine would not otherwise have been very interested in an airport in Mirpur, but nevertheless, she feels she has to campaign on this. And I mean, that is absolutely extraordinary, isn't it? Yeah, and let's put it into its broader context. So last July, four MPs were elected independent MPs. In heavily Muslim seats, not predominantly Muslim, I should note, but heavily Muslim. They campaigned on the Gaza issue, but also they sent out a broader appeal to Muslim voters. In a number of other seats in West Streetings, Elf North, in Shabbar, in my mood, in Birmingham, Lady Wood, in Jess Phillips, to seek Birmingham, Yardley. We had those candidates get very, very close to it. And so what Labour MPs in heavily Muslim constituencies are now grappling with is a new reality in which that traditionally safe constituency of Muslim voters is now divided between support for Labour, support for either independence or in some seats, the Greens. And so there is a lot of posturing that's got to go on in order to appeal to that community because as listeners will know, there are very clear differences in the way that certain communities from certain countries engage with politics. So in Britain, and we could talk, you know, talk until the cows come home about the reasons for this, we've traditionally had a system whereby people vote on their perceived individual interests or their family interests. And in doing so, you build a kind of a national interest, you say, okay, well, if we balance off all these individual interests, we'll reach something like a national interest. And that's about works very well. That's a very good and effective way of doing politics because it marshals a whole bunch of different considerations and it's not zero sound, that's the crucial thing. What we see in most of the rest of the world, you know, we are the outliers, is a system whereby politics is a competition for resources and power between different groups. And that's true in democracies, it's also true in dictatorships. But look at the politics of country like Pakistan, look at the electoral map. What you will see is that Partisan voting patterns break down very clearly along ethnic lines. It is about groups saying, I want my slice of the pie, I want my community to be represented in government, I want them to get investment,\")"
   ]
  },
  {
   "cell_type": "code",
   "execution_count": 16,
   "id": "d2e7a07a",
   "metadata": {},
   "outputs": [
    {
     "data": {
      "text/plain": [
       "'This podcast episode discusses two main issues concerning the UK. Firstly, it critiques current economic policies, arguing that focusing on tariffs is misplaced and that domestic economic reform is crucial.  The speaker advocates for measures to attract investment, such as deregulation, tax cuts, and ending net zero policies. Secondly, the episode examines the controversial campaign by 20 UK MPs, mostly Labour, for a new airport in Mirpur, Pakistan. This is presented as a symptom of fractured multiculturalism, where MPs prioritize the specific interests of a large Pakistani-origin constituency, particularly related to marriage and travel back to Mirpur, over broader national interests. The discussion suggests this trend reflects a shift towards group-based politics in the UK, driven by demographic changes and the need for politicians to appeal to specific ethnic and religious communities for electoral success.'"
      ]
     },
     "execution_count": 16,
     "metadata": {},
     "output_type": "execute_result"
    }
   ],
   "source": [
    "summary"
   ]
  },
  {
   "cell_type": "code",
   "execution_count": 7,
   "id": "2aec58c8",
   "metadata": {},
   "outputs": [
    {
     "name": "stdout",
     "output_type": "stream",
     "text": [
      "<coroutine object Chain.arun at 0x0000027A775D56C0>\n"
     ]
    }
   ],
   "source": [
    "print(summary)"
   ]
  },
  {
   "cell_type": "code",
   "execution_count": null,
   "id": "d1c96989",
   "metadata": {},
   "outputs": [],
   "source": []
  }
 ],
 "metadata": {
  "kernelspec": {
   "display_name": "pytorch",
   "language": "python",
   "name": "python3"
  },
  "language_info": {
   "codemirror_mode": {
    "name": "ipython",
    "version": 3
   },
   "file_extension": ".py",
   "mimetype": "text/x-python",
   "name": "python",
   "nbconvert_exporter": "python",
   "pygments_lexer": "ipython3",
   "version": "3.12.3"
  }
 },
 "nbformat": 4,
 "nbformat_minor": 5
}
