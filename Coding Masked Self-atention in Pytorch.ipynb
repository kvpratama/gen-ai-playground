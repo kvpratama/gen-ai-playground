{
 "cells": [
  {
   "cell_type": "code",
   "execution_count": 1,
   "metadata": {},
   "outputs": [],
   "source": [
    "import torch\n",
    "import torch.nn as nn\n",
    "import torch.nn.functional as F"
   ]
  },
  {
   "cell_type": "code",
   "execution_count": 2,
   "metadata": {},
   "outputs": [],
   "source": [
    "class MaskedSelfAttention(torch.nn.Module):\n",
    "    def __init__(self, d_model, row=0, column=1):\n",
    "        super().__init__()\n",
    "\n",
    "        self.wq = torch.nn.Linear(d_model, d_model, bias=False)\n",
    "        self.wk = torch.nn.Linear(d_model, d_model, bias=False)\n",
    "        self.wv = torch.nn.Linear(d_model, d_model, bias=False)\n",
    "\n",
    "        self.softmax = torch.nn.Softmax(dim=-1)\n",
    "        self.row_dim = row\n",
    "        self.col_dim = column\n",
    "\n",
    "    def forward(self, input_embedding, mask=None):\n",
    "        q = self.wq(input_embedding)\n",
    "        k = self.wk(input_embedding)\n",
    "        v = self.wv(input_embedding)\n",
    "\n",
    "        # scaled_sims = torch.matmul(q, k.t()) / torch.tensor(torch.sqrt(torch.tensor(k.size(-1))))\n",
    "        sims = torch.matmul(q, k.transpose(dim0=self.row_dim, dim1=self.col_dim))\n",
    "        scaled_sims = sims / torch.tensor(k.size(self.col_dim)**0.5)\n",
    "\n",
    "        # print(\"scaled_sims:\", scaled_sims)\n",
    "\n",
    "        if mask is not None:\n",
    "            # scaled_sims += mask\n",
    "            scaled_sims = scaled_sims.masked_fill(mask=mask, value=-1e9)\n",
    "            # print(scaled_sims)\n",
    "        \n",
    "        sims_score = self.softmax(scaled_sims)\n",
    "\n",
    "        # print(\"sims_score\", sims_score)\n",
    "\n",
    "        return torch.matmul(sims_score, v)"
   ]
  },
  {
   "cell_type": "code",
   "execution_count": 3,
   "metadata": {},
   "outputs": [
    {
     "name": "stdout",
     "output_type": "stream",
     "text": [
      "tensor([[False,  True,  True],\n",
      "        [False, False,  True],\n",
      "        [False, False, False]])\n",
      "tensor([[ 0.6038,  0.7434],\n",
      "        [-0.0062,  0.6072],\n",
      "        [ 3.4989,  2.2427]], grad_fn=<MmBackward0>)\n"
     ]
    }
   ],
   "source": [
    "## set the seed for the random number generator\n",
    "torch.manual_seed(42)\n",
    "\n",
    "maskedSelfAttention = MaskedSelfAttention(d_model=2)\n",
    "\n",
    "## create a matrix of token encodings...\n",
    "encodings_matrix = torch.tensor([[1.16, 0.23],\n",
    "                                 [0.57, 1.36],\n",
    "                                 [4.41, -2.16]])\n",
    "\n",
    "mask_dim = encodings_matrix.size(0)\n",
    "mask = torch.tril(torch.ones(3, 3)) \n",
    "mask = mask == 0 \n",
    "# mask = torch.where(mask, float(\"-inf\"), mask )\n",
    "print(mask)\n",
    "\n",
    "output = maskedSelfAttention(encodings_matrix, mask)\n",
    "print(output)"
   ]
  },
  {
   "cell_type": "code",
   "execution_count": 6,
   "metadata": {},
   "outputs": [
    {
     "data": {
      "text/plain": [
       "tensor([[ 0.6038,  0.7434],\n",
       "        [-0.0062,  0.6072],\n",
       "        [ 3.4989,  2.2427]], grad_fn=<MmBackward0>)"
      ]
     },
     "execution_count": 6,
     "metadata": {},
     "output_type": "execute_result"
    }
   ],
   "source": [
    "## print out the weight matrix that creates the queries\n",
    "maskedSelfAttention.wq.weight.transpose(0, 1)\n",
    "## print out the weight matrix that creates the keys\n",
    "maskedSelfAttention.wk.weight.transpose(0, 1)\n",
    "## print out the weight matrix that creates the values\n",
    "maskedSelfAttention.wv.weight.transpose(0, 1)\n",
    "\n",
    "## calculate the queries\n",
    "maskedSelfAttention.wq(encodings_matrix)\n",
    "\n",
    "## calculate the keys\n",
    "maskedSelfAttention.wk(encodings_matrix)\n",
    "\n",
    "## calculate the values\n",
    "maskedSelfAttention.wv(encodings_matrix)\n",
    "\n",
    "q = maskedSelfAttention.wq(encodings_matrix)\n",
    "k = maskedSelfAttention.wk(encodings_matrix)\n",
    "sims = torch.matmul(q, k.transpose(dim0=0, dim1=1))\n",
    "scaled_sims = sims / (torch.tensor(2)**0.5)\n",
    "\n",
    "masked_scaled_sims = scaled_sims.masked_fill(mask=mask, value=-1e9)\n",
    "\n",
    "attention_percents = F.softmax(masked_scaled_sims, dim=1)\n",
    "torch.matmul(attention_percents, maskedSelfAttention.wv(encodings_matrix))\n"
   ]
  }
 ],
 "metadata": {
  "kernelspec": {
   "display_name": "pytorch",
   "language": "python",
   "name": "python3"
  },
  "language_info": {
   "codemirror_mode": {
    "name": "ipython",
    "version": 3
   },
   "file_extension": ".py",
   "mimetype": "text/x-python",
   "name": "python",
   "nbconvert_exporter": "python",
   "pygments_lexer": "ipython3",
   "version": "3.12.8"
  }
 },
 "nbformat": 4,
 "nbformat_minor": 2
}
