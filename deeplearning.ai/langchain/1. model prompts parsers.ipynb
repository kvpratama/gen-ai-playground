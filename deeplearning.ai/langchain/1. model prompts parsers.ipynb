{
 "cells": [
  {
   "cell_type": "markdown",
   "metadata": {},
   "source": [
    "## Direct API calls to Gemini"
   ]
  },
  {
   "cell_type": "code",
   "execution_count": 1,
   "metadata": {},
   "outputs": [
    {
     "name": "stdout",
     "output_type": "stream",
     "text": [
      "1 + 3 = 4\n",
      "\n"
     ]
    }
   ],
   "source": [
    "# import base64\n",
    "import os\n",
    "from google import genai\n",
    "# from google.genai import types\n",
    "\n",
    "\n",
    "def generate(prompt):\n",
    "    client = genai.Client(\n",
    "        api_key=os.environ.get(\"GEMINI_API_KEY\"),\n",
    "    )\n",
    "\n",
    "    response = client.models.generate_content(\n",
    "        model=\"gemini-2.0-flash\",\n",
    "        contents=[prompt]\n",
    "    )\n",
    "\n",
    "    print(response.text)\n",
    "    \n",
    "\n",
    "generate(\"What is 1 + 3?\")\n"
   ]
  },
  {
   "cell_type": "code",
   "execution_count": 2,
   "metadata": {},
   "outputs": [
    {
     "name": "stdout",
     "output_type": "stream",
     "text": [
      "Translate the text that is delimited by triple backticks \n",
      "into a style that is American English in a calm and respectful tone.\n",
      "text: ```\n",
      "Arrr, I be fuming that me blender lid flew off and splattered me kitchen walls with smoothie! And to make matters worse,the warranty don't cover the cost of cleaning up me kitchen. I need yer help right now, matey!\n",
      "```\n",
      "\n"
     ]
    }
   ],
   "source": [
    "customer_email = \"\"\"\n",
    "Arrr, I be fuming that me blender lid \\\n",
    "flew off and splattered me kitchen walls \\\n",
    "with smoothie! And to make matters worse,\\\n",
    "the warranty don't cover the cost of \\\n",
    "cleaning up me kitchen. I need yer help \\\n",
    "right now, matey!\n",
    "\"\"\"\n",
    "\n",
    "style = \"\"\"American English \\\n",
    "in a calm and respectful tone\"\"\"\n",
    "\n",
    "prompt = f\"\"\"Translate the text \\\n",
    "that is delimited by triple backticks \n",
    "into a style that is {style}.\n",
    "text: ```{customer_email}```\n",
    "\"\"\"\n",
    "\n",
    "print(prompt)\n"
   ]
  },
  {
   "cell_type": "code",
   "execution_count": 3,
   "metadata": {},
   "outputs": [
    {
     "name": "stdout",
     "output_type": "stream",
     "text": [
      "Oh dear, I'm quite frustrated because my blender lid came off and splashed smoothie all over my kitchen walls! To add to that, the warranty unfortunately doesn't cover the cost of cleaning up my kitchen. I could really use some assistance right now, if you don't mind.\n",
      "\n"
     ]
    }
   ],
   "source": [
    "generate(prompt)"
   ]
  },
  {
   "cell_type": "markdown",
   "metadata": {},
   "source": [
    "## Chat API : LangChain"
   ]
  },
  {
   "cell_type": "code",
   "execution_count": 1,
   "metadata": {},
   "outputs": [],
   "source": [
    "import os\n",
    "from langchain_google_genai import ChatGoogleGenerativeAI\n",
    "\n",
    "os.environ[\"GOOGLE_API_KEY\"] = os.environ[\"GEMINI_API_KEY\"]\n",
    "\n",
    "gemini = ChatGoogleGenerativeAI(\n",
    "    model=\"gemini-2.0-flash\",\n",
    "    temperature=0,\n",
    "    max_tokens=None,\n",
    "    timeout=None,\n",
    "    max_retries=2,\n",
    ")"
   ]
  },
  {
   "cell_type": "code",
   "execution_count": 2,
   "metadata": {},
   "outputs": [
    {
     "name": "stdout",
     "output_type": "stream",
     "text": [
      "Translate the text that is delimited by triple backticks into a style that is {style}. text: ```{text}```\n",
      "\n",
      "['style', 'text']\n",
      "input_variables=['style', 'text'] input_types={} partial_variables={} template='Translate the text that is delimited by triple backticks into a style that is {style}. text: ```{text}```\\n'\n"
     ]
    }
   ],
   "source": [
    "from langchain_core.prompts import PromptTemplate\n",
    "\n",
    "template_string = \"\"\"Translate the text \\\n",
    "that is delimited by triple backticks \\\n",
    "into a style that is {style}. \\\n",
    "text: ```{text}```\n",
    "\"\"\"\n",
    "\n",
    "# Instantiation using from_template (recommended)\n",
    "prompt_template = PromptTemplate.from_template(template_string)\n",
    "\n",
    "print(prompt_template.template)\n",
    "print(prompt_template.input_variables)\n",
    "print(prompt_template)"
   ]
  },
  {
   "cell_type": "code",
   "execution_count": 3,
   "metadata": {},
   "outputs": [
    {
     "name": "stdout",
     "output_type": "stream",
     "text": [
      "<class 'langchain_core.prompt_values.StringPromptValue'>\n",
      "text=\"Translate the text that is delimited by triple backticks into a style that is Super Polite English Gentleman. text: ```\\nArrr, I be fuming that me blender lid flew off and splattered me kitchen walls with smoothie! And to make matters worse, the warranty don't cover the cost of cleaning up me kitchen. I need yer help right now, matey!\\n```\\n\"\n"
     ]
    }
   ],
   "source": [
    "customer_style = \"\"\"Super Polite English Gentleman\"\"\"\n",
    "\n",
    "customer_email = \"\"\"\n",
    "Arrr, I be fuming that me blender lid \\\n",
    "flew off and splattered me kitchen walls \\\n",
    "with smoothie! And to make matters worse, \\\n",
    "the warranty don't cover the cost of \\\n",
    "cleaning up me kitchen. I need yer help \\\n",
    "right now, matey!\n",
    "\"\"\"\n",
    "\n",
    "customer_messages = prompt_template.format_prompt(\n",
    "                    style=customer_style,\n",
    "                    text=customer_email)\n",
    "\n",
    "print(type(customer_messages))\n",
    "print(customer_messages)"
   ]
  },
  {
   "cell_type": "code",
   "execution_count": 4,
   "metadata": {},
   "outputs": [
    {
     "name": "stdout",
     "output_type": "stream",
     "text": [
      "content='Good heavens, I must confess I am in a rather unfortunate predicament. It appears that, during the preparation of a smoothie, the lid of my blender became rather... detached, resulting in a most unwelcome spattering of the aforementioned beverage upon the kitchen walls. A truly distressing situation, I assure you.\\n\\nTo further compound matters, it seems the warranty, alas, does not extend to the rather considerable expense of restoring my kitchen to its former, pristine condition. Therefore, I find myself in the rather awkward position of requiring some assistance. I would be most grateful for any guidance you might be able to offer at your earliest convenience. Thank you ever so much.' additional_kwargs={} response_metadata={'prompt_feedback': {'block_reason': 0, 'safety_ratings': []}, 'finish_reason': 'STOP', 'safety_ratings': []} id='run-b816067c-8d37-41da-a2f4-6b2472323b74-0' usage_metadata={'input_tokens': 79, 'output_tokens': 134, 'total_tokens': 213, 'input_token_details': {'cache_read': 0}}\n"
     ]
    }
   ],
   "source": [
    "customer_response = gemini.invoke(customer_messages)\n",
    "print(customer_response)"
   ]
  },
  {
   "cell_type": "code",
   "execution_count": 8,
   "metadata": {},
   "outputs": [],
   "source": [
    "customer_response = gemini.invoke(\"Translate the text that is delimited by triple backticks into a style that is Super Polite English Gentleman. text: ```\\nArrr, I be fuming that me blender lid flew off and splattered me kitchen walls with smoothie! And to make matters worse, the warranty don't cover the cost of cleaning up me kitchen. I need yer help right now, matey!\\n```\\n\")"
   ]
  },
  {
   "cell_type": "code",
   "execution_count": 9,
   "metadata": {},
   "outputs": [
    {
     "name": "stdout",
     "output_type": "stream",
     "text": [
      "content='Good heavens, I must confess I am in a rather unfortunate predicament. It appears that, during the preparation of a smoothie, the lid of my blender became rather... detached, resulting in a most unwelcome spattering of the aforementioned beverage upon the kitchen walls. A truly distressing situation, I assure you.\\n\\nTo further compound matters, it seems the warranty, alas, does not extend to the rather considerable expense of restoring my kitchen to its former, pristine condition. Therefore, I find myself in the rather awkward position of requiring some assistance. I would be most grateful for any guidance you might be able to offer at your earliest convenience. Thank you ever so much.' additional_kwargs={} response_metadata={'prompt_feedback': {'block_reason': 0, 'safety_ratings': []}, 'finish_reason': 'STOP', 'safety_ratings': []} id='run-85a04cae-ed92-41a8-95b2-e0645d1bf46d-0' usage_metadata={'input_tokens': 79, 'output_tokens': 134, 'total_tokens': 213, 'input_token_details': {'cache_read': 0}}\n"
     ]
    }
   ],
   "source": [
    "print(customer_response)"
   ]
  },
  {
   "cell_type": "code",
   "execution_count": 10,
   "metadata": {},
   "outputs": [
    {
     "data": {
      "text/plain": [
       "\"Good heavens, I say! I find myself in a rather unfortunate predicament, you see. During the preparation of a smoothie, the lid of my blender, in a most unexpected fashion, detached itself, resulting in a rather messy splattering of the kitchen walls. A most unwelcome occurrence, indeed!\\n\\nTo add to my distress, I've discovered that the warranty, alas, does not extend to the cost of rectifying this rather sticky situation. Therefore, I find myself in need of your kind assistance at this very moment. I would be most grateful for any guidance you might offer.\""
      ]
     },
     "execution_count": 10,
     "metadata": {},
     "output_type": "execute_result"
    }
   ],
   "source": [
    "messages = [\n",
    "    (\"system\", \"Translate the text that is delimited by triple backticks into a style that is Super Polite English Gentleman.\"),\n",
    "    (\"human\", \"```\\nArrr, I be fuming that me blender lid flew off and splattered me kitchen walls with smoothie! And to make matters worse, the warranty don't cover the cost of cleaning up me kitchen. I need yer help right now, matey!\\n```.\"),\n",
    "]\n",
    "gemini.invoke(messages).content\n"
   ]
  },
  {
   "cell_type": "code",
   "execution_count": 11,
   "metadata": {},
   "outputs": [
    {
     "name": "stdout",
     "output_type": "stream",
     "text": [
      "[SystemMessage(content='Translate the text that is delimited by triple backticks into a style that is Super Polite English Gentleman.', additional_kwargs={}, response_metadata={}), HumanMessage(content=\"```\\nArrr, I be fuming that me blender lid flew off and splattered me kitchen walls with smoothie! And to make matters worse, the warranty don't cover the cost of cleaning up me kitchen. I need yer help right now, matey!\\n```\", additional_kwargs={}, response_metadata={})]\n"
     ]
    },
    {
     "data": {
      "text/plain": [
       "\"Good heavens, I say! I find myself in a rather unfortunate predicament, you see. During the preparation of a smoothie, the lid of my blender, in a most unexpected fashion, detached itself and, alas, splattered the walls of my kitchen with the aforementioned concoction. A most unwelcome event, indeed!\\n\\nTo add insult to injury, I'm afraid the warranty, in its current form, does not extend to the cost of rectifying this rather messy situation. Therefore, I find myself in need of your esteemed assistance at this very moment. I would be most grateful for any guidance you might be able to offer.\""
      ]
     },
     "execution_count": 11,
     "metadata": {},
     "output_type": "execute_result"
    }
   ],
   "source": [
    "from langchain_core.prompts import ChatPromptTemplate\n",
    "\n",
    "chat_template_string = [\n",
    "    (\"system\", \"Translate the text that is delimited by triple backticks into a style that is {style}.\"),\n",
    "    (\"human\", \"```{text}```\"),\n",
    "]\n",
    "chat_prompt_template = ChatPromptTemplate(chat_template_string)\n",
    "customer_messages = chat_prompt_template.invoke(\n",
    "                        {\n",
    "                            \"style\": customer_style,\n",
    "                            \"text\": customer_email,\n",
    "                        }\n",
    "                    )\n",
    "print(customer_messages.messages)\n",
    "gemini.invoke(customer_messages).content"
   ]
  },
  {
   "cell_type": "code",
   "execution_count": 13,
   "metadata": {},
   "outputs": [
    {
     "name": "stdout",
     "output_type": "stream",
     "text": [
      "text=\"Translate the text that is delimited by triple backticks into a style that is a polite tone that speaks in English Pirate. text: ```Hey there customer, the warranty does not cover cleaning expenses for your kitchen because it's your fault that you misused your blender by forgetting to put the lid on before starting the blender. Tough luck! See ya!\\n```\\n\"\n"
     ]
    }
   ],
   "source": [
    "service_reply = \"\"\"Hey there customer, \\\n",
    "the warranty does not cover \\\n",
    "cleaning expenses for your kitchen \\\n",
    "because it's your fault that \\\n",
    "you misused your blender \\\n",
    "by forgetting to put the lid on before \\\n",
    "starting the blender. \\\n",
    "Tough luck! See ya!\n",
    "\"\"\"\n",
    "\n",
    "service_style_pirate = \"\"\"\\\n",
    "a polite tone \\\n",
    "that speaks in English Pirate\\\n",
    "\"\"\"\n",
    "\n",
    "service_messages = prompt_template.format_prompt(\n",
    "    style=service_style_pirate,\n",
    "    text=service_reply)\n",
    "\n",
    "print(service_messages)"
   ]
  },
  {
   "cell_type": "code",
   "execution_count": 14,
   "metadata": {},
   "outputs": [
    {
     "name": "stdout",
     "output_type": "stream",
     "text": [
      "content=\"Ahoy there, matey!\\n\\nI be havin' to inform ye that, alas, the warranty be not coverin' the cleanin' expenses for yer galley. It seems a bit o' a blunder occurred with yer blender, and 'tis yer own doin' for forgettin' to secure the lid afore givin' 'er a whirl. A bit o' bad luck, I'm afraid! Fair winds to ye!\" additional_kwargs={} response_metadata={'prompt_feedback': {'block_reason': 0, 'safety_ratings': []}, 'finish_reason': 'STOP', 'safety_ratings': []} id='run-c94d0d8f-ed79-42bd-9470-7c25a8014f6f-0' usage_metadata={'input_tokens': 73, 'output_tokens': 91, 'total_tokens': 164, 'input_token_details': {'cache_read': 0}}\n"
     ]
    }
   ],
   "source": [
    "service_response = gemini.invoke(service_messages)\n",
    "print(service_response)"
   ]
  },
  {
   "cell_type": "code",
   "execution_count": 15,
   "metadata": {},
   "outputs": [
    {
     "name": "stdout",
     "output_type": "stream",
     "text": [
      "content=\"Ahoy there, matey!\\n\\nRegarding yer kitchen, I be afraid the warranty doesn't cover the cleaning expenses. It seems the mishap with yer blender, lackin' a lid afore startin' it, be the cause o' the mess. A bit o' misfortune on yer part, I'd say. Fair winds to ye!\" additional_kwargs={} response_metadata={'prompt_feedback': {'block_reason': 0, 'safety_ratings': []}, 'finish_reason': 'STOP', 'safety_ratings': []} id='run-fa750c18-240f-4915-9843-bb95514534c0-0' usage_metadata={'input_tokens': 70, 'output_tokens': 72, 'total_tokens': 142, 'input_token_details': {'cache_read': 0}}\n"
     ]
    }
   ],
   "source": [
    "service_messages = chat_prompt_template.invoke(\n",
    "                        {\n",
    "                            \"style\": service_style_pirate,\n",
    "                            \"text\": service_reply,\n",
    "                        }\n",
    "                    )\n",
    "service_response = gemini.invoke(service_messages)\n",
    "print(service_response)"
   ]
  }
 ],
 "metadata": {
  "kernelspec": {
   "display_name": "pytorch",
   "language": "python",
   "name": "python3"
  },
  "language_info": {
   "codemirror_mode": {
    "name": "ipython",
    "version": 3
   },
   "file_extension": ".py",
   "mimetype": "text/x-python",
   "name": "python",
   "nbconvert_exporter": "python",
   "pygments_lexer": "ipython3",
   "version": "3.12.9"
  }
 },
 "nbformat": 4,
 "nbformat_minor": 2
}
