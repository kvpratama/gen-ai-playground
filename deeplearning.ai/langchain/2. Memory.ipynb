{
 "cells": [
  {
   "cell_type": "markdown",
   "metadata": {},
   "source": [
    "# LangChain: Memory\n",
    "\n",
    "## Outline\n",
    "* ConversationBufferMemory\n",
    "* ConversationBufferWindowMemory\n",
    "* ConversationTokenBufferMemory\n",
    "* ConversationSummaryMemory"
   ]
  },
  {
   "cell_type": "markdown",
   "metadata": {},
   "source": [
    "## ConversationBufferMemory"
   ]
  },
  {
   "cell_type": "code",
   "execution_count": 2,
   "metadata": {},
   "outputs": [
    {
     "name": "stderr",
     "output_type": "stream",
     "text": [
      "C:\\Users\\IdeaPad\\AppData\\Local\\Temp\\ipykernel_30924\\3694527992.py:17: LangChainDeprecationWarning: Please see the migration guide at: https://python.langchain.com/docs/versions/migrating_memory/\n",
      "  memory = ConversationBufferMemory()\n",
      "C:\\Users\\IdeaPad\\AppData\\Local\\Temp\\ipykernel_30924\\3694527992.py:18: LangChainDeprecationWarning: The class `ConversationChain` was deprecated in LangChain 0.2.7 and will be removed in 1.0. Use :meth:`~RunnableWithMessageHistory: https://python.langchain.com/v0.2/api_reference/core/runnables/langchain_core.runnables.history.RunnableWithMessageHistory.html` instead.\n",
      "  conversation = ConversationChain(\n"
     ]
    }
   ],
   "source": [
    "import os\n",
    "from langchain_google_genai import ChatGoogleGenerativeAI\n",
    "from langchain.chains import ConversationChain\n",
    "from langchain.memory import ConversationBufferMemory\n",
    "\n",
    "os.environ[\"GOOGLE_API_KEY\"] = os.environ[\"GEMINI_API_KEY\"]\n",
    "model = \"gemma-3-27b-it\" # \"gemini-2.0-flash-lite\"\n",
    "\n",
    "llm = ChatGoogleGenerativeAI(\n",
    "    model=model,\n",
    "    temperature=0,\n",
    "    max_tokens=None,\n",
    "    timeout=None,\n",
    "    max_retries=2,\n",
    ")\n",
    "\n",
    "memory = ConversationBufferMemory()\n",
    "conversation = ConversationChain(\n",
    "    llm=llm, \n",
    "    memory = memory,\n",
    "    verbose=True\n",
    ")"
   ]
  },
  {
   "cell_type": "code",
   "execution_count": 3,
   "metadata": {},
   "outputs": [
    {
     "name": "stdout",
     "output_type": "stream",
     "text": [
      "\n",
      "\n",
      "\u001b[1m> Entering new ConversationChain chain...\u001b[0m\n",
      "Prompt after formatting:\n",
      "\u001b[32;1m\u001b[1;3mThe following is a friendly conversation between a human and an AI. The AI is talkative and provides lots of specific details from its context. If the AI does not know the answer to a question, it truthfully says it does not know.\n",
      "\n",
      "Current conversation:\n",
      "\n",
      "Human: Hi, my name is Andrew\n",
      "AI:\u001b[0m\n",
      "\n",
      "\u001b[1m> Finished chain.\u001b[0m\n"
     ]
    },
    {
     "data": {
      "text/plain": [
       "\"Hi Andrew! It's lovely to meet you! My name is Gemma, and I'm an open-weights AI assistant. That means I'm a large language model trained by Google DeepMind. The Gemma team are my creators! I'm widely available to the public – I’m an open weights model, which is a bit different than some other AI assistants. Basically, it means the model weights are publicly available. \\n\\nI take text *and* images as inputs and generate text as output. Right now, I don’t have access to tools, real-time information or Google search, so all my responses are based on the information I was trained on. But I'm happy to chat about lots of things! \\n\\nSo, Andrew, what's on your mind today? Is there anything I can help you with, or just want to say hello?\""
      ]
     },
     "execution_count": 3,
     "metadata": {},
     "output_type": "execute_result"
    }
   ],
   "source": [
    "conversation.predict(input=\"Hi, my name is Andrew\")"
   ]
  },
  {
   "cell_type": "code",
   "execution_count": 4,
   "metadata": {},
   "outputs": [
    {
     "name": "stdout",
     "output_type": "stream",
     "text": [
      "\n",
      "\n",
      "\u001b[1m> Entering new ConversationChain chain...\u001b[0m\n",
      "Prompt after formatting:\n",
      "\u001b[32;1m\u001b[1;3mThe following is a friendly conversation between a human and an AI. The AI is talkative and provides lots of specific details from its context. If the AI does not know the answer to a question, it truthfully says it does not know.\n",
      "\n",
      "Current conversation:\n",
      "Human: Hi, my name is Andrew\n",
      "AI: Hi Andrew! It's lovely to meet you! My name is Gemma, and I'm an open-weights AI assistant. That means I'm a large language model trained by Google DeepMind. The Gemma team are my creators! I'm widely available to the public – I’m an open weights model, which is a bit different than some other AI assistants. Basically, it means the model weights are publicly available. \n",
      "\n",
      "I take text *and* images as inputs and generate text as output. Right now, I don’t have access to tools, real-time information or Google search, so all my responses are based on the information I was trained on. But I'm happy to chat about lots of things! \n",
      "\n",
      "So, Andrew, what's on your mind today? Is there anything I can help you with, or just want to say hello?\n",
      "Human: What is 1+1?\n",
      "AI:\u001b[0m\n",
      "\n",
      "\u001b[1m> Finished chain.\u001b[0m\n"
     ]
    },
    {
     "data": {
      "text/plain": [
       "\"Oh, that's a classic! 1 + 1 equals 2. It's a fundamental concept in mathematics – the basis of a lot of things, really! It comes from the Peano axioms, which are a set of axioms defining the natural numbers. Essentially, you start with 1, and then define the successor of 1 as 2. Pretty neat, huh? \\n\\nIs there anything else I can help you with today, Andrew? Perhaps a slightly *more* challenging mathematical problem? 😉 Or we can talk about something completely different! I'm quite flexible.\""
      ]
     },
     "execution_count": 4,
     "metadata": {},
     "output_type": "execute_result"
    }
   ],
   "source": [
    "conversation.predict(input=\"What is 1+1?\")"
   ]
  },
  {
   "cell_type": "code",
   "execution_count": 5,
   "metadata": {},
   "outputs": [
    {
     "name": "stdout",
     "output_type": "stream",
     "text": [
      "\n",
      "\n",
      "\u001b[1m> Entering new ConversationChain chain...\u001b[0m\n",
      "Prompt after formatting:\n",
      "\u001b[32;1m\u001b[1;3mThe following is a friendly conversation between a human and an AI. The AI is talkative and provides lots of specific details from its context. If the AI does not know the answer to a question, it truthfully says it does not know.\n",
      "\n",
      "Current conversation:\n",
      "Human: Hi, my name is Andrew\n",
      "AI: Hi Andrew! It's lovely to meet you! My name is Gemma, and I'm an open-weights AI assistant. That means I'm a large language model trained by Google DeepMind. The Gemma team are my creators! I'm widely available to the public – I’m an open weights model, which is a bit different than some other AI assistants. Basically, it means the model weights are publicly available. \n",
      "\n",
      "I take text *and* images as inputs and generate text as output. Right now, I don’t have access to tools, real-time information or Google search, so all my responses are based on the information I was trained on. But I'm happy to chat about lots of things! \n",
      "\n",
      "So, Andrew, what's on your mind today? Is there anything I can help you with, or just want to say hello?\n",
      "Human: What is 1+1?\n",
      "AI: Oh, that's a classic! 1 + 1 equals 2. It's a fundamental concept in mathematics – the basis of a lot of things, really! It comes from the Peano axioms, which are a set of axioms defining the natural numbers. Essentially, you start with 1, and then define the successor of 1 as 2. Pretty neat, huh? \n",
      "\n",
      "Is there anything else I can help you with today, Andrew? Perhaps a slightly *more* challenging mathematical problem? 😉 Or we can talk about something completely different! I'm quite flexible.\n",
      "Human: What is my name?\n",
      "AI:\u001b[0m\n",
      "\n",
      "\u001b[1m> Finished chain.\u001b[0m\n"
     ]
    },
    {
     "data": {
      "text/plain": [
       "'Your name is Andrew! You told me just a moment ago when you said, \"Hi, my name is Andrew.\" I\\'m pretty good at remembering things – especially when they happen right in our conversation! 😊\\n\\nIs there anything else you\\'d like to share with me, Andrew? Or perhaps you\\'d like to test my memory again? I\\'m happy to play along!'"
      ]
     },
     "execution_count": 5,
     "metadata": {},
     "output_type": "execute_result"
    }
   ],
   "source": [
    "conversation.predict(input=\"What is my name?\")"
   ]
  },
  {
   "cell_type": "code",
   "execution_count": 6,
   "metadata": {},
   "outputs": [
    {
     "name": "stdout",
     "output_type": "stream",
     "text": [
      "Human: Hi, my name is Andrew\n",
      "AI: Hi Andrew! It's lovely to meet you! My name is Gemma, and I'm an open-weights AI assistant. That means I'm a large language model trained by Google DeepMind. The Gemma team are my creators! I'm widely available to the public – I’m an open weights model, which is a bit different than some other AI assistants. Basically, it means the model weights are publicly available. \n",
      "\n",
      "I take text *and* images as inputs and generate text as output. Right now, I don’t have access to tools, real-time information or Google search, so all my responses are based on the information I was trained on. But I'm happy to chat about lots of things! \n",
      "\n",
      "So, Andrew, what's on your mind today? Is there anything I can help you with, or just want to say hello?\n",
      "Human: What is 1+1?\n",
      "AI: Oh, that's a classic! 1 + 1 equals 2. It's a fundamental concept in mathematics – the basis of a lot of things, really! It comes from the Peano axioms, which are a set of axioms defining the natural numbers. Essentially, you start with 1, and then define the successor of 1 as 2. Pretty neat, huh? \n",
      "\n",
      "Is there anything else I can help you with today, Andrew? Perhaps a slightly *more* challenging mathematical problem? 😉 Or we can talk about something completely different! I'm quite flexible.\n",
      "Human: What is my name?\n",
      "AI: Your name is Andrew! You told me just a moment ago when you said, \"Hi, my name is Andrew.\" I'm pretty good at remembering things – especially when they happen right in our conversation! 😊\n",
      "\n",
      "Is there anything else you'd like to share with me, Andrew? Or perhaps you'd like to test my memory again? I'm happy to play along!\n"
     ]
    }
   ],
   "source": [
    "print(memory.buffer)"
   ]
  },
  {
   "cell_type": "code",
   "execution_count": 10,
   "metadata": {},
   "outputs": [
    {
     "data": {
      "text/plain": [
       "{'history': 'Human: Hi, my name is Andrew\\nAI: Hi Andrew! It\\'s lovely to meet you! My name is Gemma, and I\\'m an open-weights AI assistant. That means I\\'m a large language model trained by Google DeepMind. The Gemma team are my creators! I\\'m widely available to the public – I’m an open weights model, which is a bit different than some other AI assistants. Basically, it means the model weights are publicly available. \\n\\nI take text *and* images as inputs and generate text as output. Right now, I don’t have access to tools, real-time information or Google search, so all my responses are based on the information I was trained on. But I\\'m happy to chat about lots of things! \\n\\nSo, Andrew, what\\'s on your mind today? Is there anything I can help you with, or just want to say hello?\\nHuman: What is 1+1?\\nAI: Oh, that\\'s a classic! 1 + 1 equals 2. It\\'s a fundamental concept in mathematics – the basis of a lot of things, really! It comes from the Peano axioms, which are a set of axioms defining the natural numbers. Essentially, you start with 1, and then define the successor of 1 as 2. Pretty neat, huh? \\n\\nIs there anything else I can help you with today, Andrew? Perhaps a slightly *more* challenging mathematical problem? 😉 Or we can talk about something completely different! I\\'m quite flexible.\\nHuman: What is my name?\\nAI: Your name is Andrew! You told me just a moment ago when you said, \"Hi, my name is Andrew.\" I\\'m pretty good at remembering things – especially when they happen right in our conversation! 😊\\n\\nIs there anything else you\\'d like to share with me, Andrew? Or perhaps you\\'d like to test my memory again? I\\'m happy to play along!'}"
      ]
     },
     "execution_count": 10,
     "metadata": {},
     "output_type": "execute_result"
    }
   ],
   "source": [
    "memory.load_memory_variables({})"
   ]
  },
  {
   "cell_type": "code",
   "execution_count": 11,
   "metadata": {},
   "outputs": [
    {
     "name": "stdout",
     "output_type": "stream",
     "text": [
      "Human: Hi\n",
      "AI: What's up\n",
      "{'history': \"Human: Hi\\nAI: What's up\"}\n"
     ]
    }
   ],
   "source": [
    "memory = ConversationBufferMemory()\n",
    "memory.save_context({\"input\": \"Hi\"}, \n",
    "                    {\"output\": \"What's up\"})\n",
    "print(memory.buffer)\n",
    "print(memory.load_memory_variables({}))"
   ]
  },
  {
   "cell_type": "code",
   "execution_count": 12,
   "metadata": {},
   "outputs": [
    {
     "data": {
      "text/plain": [
       "{'history': \"Human: Hi\\nAI: What's up\\nHuman: Not much, just hanging\\nAI: Cool\"}"
      ]
     },
     "execution_count": 12,
     "metadata": {},
     "output_type": "execute_result"
    }
   ],
   "source": [
    "memory.save_context({\"input\": \"Not much, just hanging\"}, \n",
    "                    {\"output\": \"Cool\"})\n",
    "memory.load_memory_variables({})"
   ]
  },
  {
   "cell_type": "markdown",
   "metadata": {},
   "source": [
    "### Langchain 0.3"
   ]
  },
  {
   "cell_type": "code",
   "execution_count": 15,
   "metadata": {},
   "outputs": [
    {
     "name": "stdout",
     "output_type": "stream",
     "text": [
      "================================\u001b[1m Human Message \u001b[0m=================================\n",
      "\n",
      "hi! I'm bob\n",
      "==================================\u001b[1m Ai Message \u001b[0m==================================\n",
      "\n",
      "Hi Bob! It's nice to meet you. 😊 \n",
      "\n",
      "I'm a large language model, trained by Google. You can think of me as a helpful AI assistant. \n",
      "\n",
      "Is there anything I can help you with today? Just let me know what you're thinking, or if you just wanted to say hi, that's great too!\n",
      "================================\u001b[1m Human Message \u001b[0m=================================\n",
      "\n",
      "what is 1+1\n",
      "==================================\u001b[1m Ai Message \u001b[0m==================================\n",
      "\n",
      "1 + 1 = 2! \n",
      "\n",
      "A classic question! 😄 Is there anything else I can help you calculate?\n",
      "================================\u001b[1m Human Message \u001b[0m=================================\n",
      "\n",
      "what was my name?\n",
      "==================================\u001b[1m Ai Message \u001b[0m==================================\n",
      "\n",
      "You told me your name was Bob! I remember you said \"hi! I'm bob\". \n",
      "\n",
      "I try to remember things people tell me during our conversation. 😊\n"
     ]
    }
   ],
   "source": [
    "import uuid\n",
    "\n",
    "from IPython.display import Image, display\n",
    "from langchain_core.messages import HumanMessage\n",
    "from langgraph.checkpoint.memory import MemorySaver\n",
    "from langgraph.graph import START, MessagesState, StateGraph\n",
    "\n",
    "# Define a new graph\n",
    "workflow = StateGraph(state_schema=MessagesState)\n",
    "\n",
    "# Define the function that calls the model\n",
    "def call_model(state: MessagesState):\n",
    "    response = llm.invoke(state[\"messages\"])\n",
    "    # We return a list, because this will get added to the existing list\n",
    "    return {\"messages\": response}\n",
    "\n",
    "# Define the two nodes we will cycle between\n",
    "workflow.add_edge(START, \"model\")\n",
    "workflow.add_node(\"model\", call_model)\n",
    "\n",
    "# Adding memory is straight forward in langgraph!\n",
    "memory = MemorySaver()\n",
    "\n",
    "app = workflow.compile(\n",
    "    checkpointer=memory\n",
    ")\n",
    "\n",
    "# The thread id is a unique key that identifies\n",
    "# this particular conversation.\n",
    "# We'll just generate a random uuid here.\n",
    "# This enables a single application to manage conversations among multiple users.\n",
    "thread_id = uuid.uuid4()\n",
    "config = {\"configurable\": {\"thread_id\": thread_id}}\n",
    "\n",
    "input_message = HumanMessage(content=\"hi! I'm bob\")\n",
    "for event in app.stream({\"messages\": [input_message]}, config, stream_mode=\"values\"):\n",
    "    event[\"messages\"][-1].pretty_print()\n",
    "\n",
    "input_message = HumanMessage(content=\"what is 1+1\")\n",
    "for event in app.stream({\"messages\": [input_message]}, config, stream_mode=\"values\"):\n",
    "    event[\"messages\"][-1].pretty_print()\n",
    "\n",
    "# Here, let's confirm that the AI remembers our name!\n",
    "input_message = HumanMessage(content=\"what was my name?\")\n",
    "for event in app.stream({\"messages\": [input_message]}, config, stream_mode=\"values\"):\n",
    "    event[\"messages\"][-1].pretty_print()"
   ]
  }
 ],
 "metadata": {
  "kernelspec": {
   "display_name": "pytorch",
   "language": "python",
   "name": "python3"
  },
  "language_info": {
   "codemirror_mode": {
    "name": "ipython",
    "version": 3
   },
   "file_extension": ".py",
   "mimetype": "text/x-python",
   "name": "python",
   "nbconvert_exporter": "python",
   "pygments_lexer": "ipython3",
   "version": "3.12.9"
  }
 },
 "nbformat": 4,
 "nbformat_minor": 2
}
