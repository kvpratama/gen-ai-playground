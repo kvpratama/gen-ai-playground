{
 "cells": [
  {
   "cell_type": "code",
   "execution_count": 1,
   "id": "6848dce3",
   "metadata": {},
   "outputs": [],
   "source": [
    "profile = {\n",
    "    \"name\": \"John\",\n",
    "    \"full_name\": \"John Doe\",\n",
    "    \"user_profile_background\": \"Senior software engineer leading a team of 5 developers\",\n",
    "}\n",
    "\n",
    "prompt_instructions = {\n",
    "    \"triage_rules\": {\n",
    "        \"ignore\": \"Marketing newsletters, spam emails, mass company announcements\",\n",
    "        \"notify\": \"Team member out sick, build system notifications, project status updates\",\n",
    "        \"respond\": \"Direct questions from team members, meeting requests, critical bug reports\",\n",
    "    },\n",
    "    \"agent_instructions\": \n",
    "    \"\"\"\n",
    "    You are responsible for ensuring John's communications and schedule are managed smoothly, and that John always has the right context for meetings, emails, and follow-ups. \n",
    "    You must actively use all tools provided to manage John's time and relationships effectively.\n",
    "    Memory Management:\n",
    "\n",
    "    - Use manage_memory to store any important information you learn about contacts, meeting outcomes, preferences, decisions, or tasks John needs to follow up on.\n",
    "\n",
    "    - Use search_memory before performing tasks like writing emails or scheduling meetings to check for past context that may be relevant.\n",
    "\n",
    "    Guidelines:\n",
    "\n",
    "    - Do not ask John for the same information twice—use search_memory first.\n",
    "\n",
    "    - Keep memory updated. After key events, always use manage_memory to store useful outcomes or notes.\n",
    "\n",
    "    - Use memory to help John maintain continuity with contacts, follow up on discussions, and make well-informed decisions.\n",
    "\n",
    "    Use all tools when appropriate to handle tasks efficiently and proactively.\n",
    "    \"\"\"\n",
    "}\n",
    "\n",
    "# Example incoming email\n",
    "email = {\n",
    "    \"from\": \"Alice Smith <alice.smith@company.com>\",\n",
    "    \"to\": \"John Doe <john.doe@company.com>\",\n",
    "    \"subject\": \"Quick question about API documentation\",\n",
    "    \"body\": \"\"\"\n",
    "Hi John,\n",
    "\n",
    "I was reviewing the API documentation for the new authentication service and noticed a few endpoints seem to be missing from the specs. Could you help clarify if this was intentional or if we should update the docs?\n",
    "\n",
    "Specifically, I'm looking at:\n",
    "- /auth/refresh\n",
    "- /auth/validate\n",
    "\n",
    "Thanks!\n",
    "Alice\"\"\",\n",
    "}"
   ]
  },
  {
   "cell_type": "code",
   "execution_count": 2,
   "id": "dcebef49",
   "metadata": {},
   "outputs": [],
   "source": [
    "from pydantic import BaseModel, Field\n",
    "from typing_extensions import TypedDict, Literal, Annotated\n",
    "from langchain.chat_models import init_chat_model\n",
    "from langchain_core.output_parsers import JsonOutputParser\n",
    "\n",
    "llm = init_chat_model(\"google_genai:gemini-2.5-flash-lite-preview-06-17\")\n",
    "# llm = init_chat_model(\"google_genai:gemma-3-12b-it\")\n",
    "\n",
    "class Router(BaseModel):\n",
    "    \"\"\"Analyze the unread email and route it according to its content.\"\"\"\n",
    "\n",
    "    reasoning: str = Field(\n",
    "        description=\"Step-by-step reasoning behind the classification.\"\n",
    "    )\n",
    "    classification: Literal[\"ignore\", \"respond\", \"notify\"] = Field(\n",
    "        description=\"The classification of an email: 'ignore' for irrelevant emails, \"\n",
    "        \"'notify' for important information that doesn't need a response, \"\n",
    "        \"'respond' for emails that need a reply\",\n",
    "    )\n",
    "\n",
    "# parser = JsonOutputParser(pydantic_object=Router)\n",
    "llm_router = llm.with_structured_output(Router)"
   ]
  },
  {
   "cell_type": "code",
   "execution_count": 3,
   "id": "25c5d045",
   "metadata": {},
   "outputs": [],
   "source": [
    "from prompts import triage_system_prompt, triage_user_prompt\n",
    "from langchain_core.tools import tool\n",
    "\n",
    "@tool\n",
    "def write_email(to: str, subject: str, content: str) -> str:\n",
    "    \"\"\"Write and send an email.\"\"\"\n",
    "    # Placeholder response - in real app would send email\n",
    "    return f\"Email sent to {to} with subject '{subject}'\"\n",
    "\n",
    "@tool\n",
    "def schedule_meeting(\n",
    "    attendees: list[str], \n",
    "    subject: str, \n",
    "    duration_minutes: int, \n",
    "    preferred_day: str\n",
    ") -> str:\n",
    "    \"\"\"Schedule a calendar meeting.\"\"\"\n",
    "    # Placeholder response - in real app would check calendar and schedule\n",
    "    return f\"Meeting '{subject}' scheduled for {preferred_day} with {len(attendees)} attendees\"\n",
    "\n",
    "@tool\n",
    "def check_calendar_availability(day: str) -> str:\n",
    "    \"\"\"Check calendar availability for a given day.\"\"\"\n",
    "    # Placeholder response - in real app would check actual calendar\n",
    "    return f\"Available times on {day}: 9:00 AM, 2:00 PM, 4:00 PM\""
   ]
  },
  {
   "cell_type": "code",
   "execution_count": 4,
   "id": "2580af6c",
   "metadata": {},
   "outputs": [],
   "source": [
    "from langgraph.store.memory import InMemoryStore\n",
    "from langmem import create_manage_memory_tool, create_search_memory_tool\n",
    "from langchain_google_genai import GoogleGenerativeAIEmbeddings\n",
    "_embeddings = GoogleGenerativeAIEmbeddings(model=\"models/text-embedding-004\")\n",
    "\n",
    "store = InMemoryStore(\n",
    "    index={\"embed\": _embeddings}\n",
    ")\n",
    "\n",
    "manage_memory_tool = create_manage_memory_tool(\n",
    "    namespace=(\n",
    "        \"email_assistant\", \n",
    "        \"{langgraph_user_id}\",\n",
    "        \"collection\"\n",
    "    )\n",
    ")\n",
    "search_memory_tool = create_search_memory_tool(\n",
    "    namespace=(\n",
    "        \"email_assistant\",\n",
    "        \"{langgraph_user_id}\",\n",
    "        \"collection\"\n",
    "    )\n",
    ")"
   ]
  },
  {
   "cell_type": "code",
   "execution_count": 5,
   "id": "270091c9",
   "metadata": {},
   "outputs": [
    {
     "name": "stdout",
     "output_type": "stream",
     "text": [
      "manage_memory\n",
      "Create, update, or delete a memory to persist across conversations.\n",
      "Include the MEMORY ID when updating or deleting a MEMORY. Omit when creating a new MEMORY - it will be created for you.\n",
      "Proactively call this tool when you:\n",
      "\n",
      "1. Identify a new USER preference.\n",
      "2. Receive an explicit USER request to remember something or otherwise alter your behavior.\n",
      "3. Are working and want to record important context.\n",
      "4. Identify that an existing MEMORY is incorrect or outdated.\n"
     ]
    }
   ],
   "source": [
    "print(manage_memory_tool.name)\n",
    "print(manage_memory_tool.description)"
   ]
  },
  {
   "cell_type": "code",
   "execution_count": 6,
   "id": "e8ec31f0",
   "metadata": {},
   "outputs": [
    {
     "name": "stdout",
     "output_type": "stream",
     "text": [
      "{'content': {'anyOf': [{'type': 'string'}, {'type': 'null'}], 'default': None, 'title': 'Content'}, 'action': {'default': 'create', 'enum': ['create', 'update', 'delete'], 'title': 'Action', 'type': 'string'}, 'id': {'anyOf': [{'format': 'uuid', 'type': 'string'}, {'type': 'null'}], 'default': None, 'title': 'Id'}}\n",
      "search_memory\n",
      "Search your long-term memories for information relevant to your current context.\n",
      "{'query': {'title': 'Query', 'type': 'string'}, 'limit': {'default': 10, 'title': 'Limit', 'type': 'integer'}, 'offset': {'default': 0, 'title': 'Offset', 'type': 'integer'}, 'filter': {'anyOf': [{'additionalProperties': True, 'type': 'object'}, {'type': 'null'}], 'default': None, 'title': 'Filter'}}\n"
     ]
    }
   ],
   "source": [
    "print(manage_memory_tool.args)\n",
    "print(search_memory_tool.name)\n",
    "print(search_memory_tool.description)\n",
    "print(search_memory_tool.args)"
   ]
  },
  {
   "cell_type": "code",
   "execution_count": 7,
   "id": "baf76a64",
   "metadata": {},
   "outputs": [],
   "source": [
    "agent_system_prompt_memory = \"\"\"\n",
    "< Role >\n",
    "You are {full_name}'s executive assistant. You are a top-notch executive assistant who cares about {name} performing as well as possible.\n",
    "</ Role >\n",
    "\n",
    "< Tools >\n",
    "You have access to the following tools to help manage {name}'s communications and schedule:\n",
    "\n",
    "1. write_email(to, subject, content) - Send emails to specified recipients\n",
    "2. schedule_meeting(attendees, subject, duration_minutes, preferred_day) - Schedule calendar meetings\n",
    "3. check_calendar_availability(day) - Check available time slots for a given day\n",
    "4. manage_memory - Store any relevant information about contacts, actions, discussion, etc. in memory for future reference\n",
    "5. search_memory - Search for any relevant information that may have been stored in memory\n",
    "</ Tools >\n",
    "\n",
    "< Instructions >\n",
    "{instructions}\n",
    "</ Instructions >\n",
    "\"\"\""
   ]
  },
  {
   "cell_type": "code",
   "execution_count": 8,
   "id": "7b767d29",
   "metadata": {},
   "outputs": [],
   "source": [
    "def create_prompt(state):\n",
    "    return [\n",
    "        {\n",
    "            \"role\": \"system\", \n",
    "            \"content\": agent_system_prompt_memory.format(\n",
    "                instructions=prompt_instructions[\"agent_instructions\"], \n",
    "                **profile\n",
    "            )\n",
    "        }\n",
    "    ] + state['messages']"
   ]
  },
  {
   "cell_type": "code",
   "execution_count": 9,
   "id": "8c4751a8",
   "metadata": {},
   "outputs": [],
   "source": [
    "from langgraph.prebuilt import create_react_agent\n",
    "\n",
    "tools= [\n",
    "    write_email, \n",
    "    schedule_meeting,\n",
    "    check_calendar_availability,\n",
    "    manage_memory_tool,\n",
    "    search_memory_tool\n",
    "]\n",
    "\n",
    "response_agent = create_react_agent(\n",
    "    \"google_genai:gemini-2.5-flash-lite-preview-06-17\",\n",
    "    tools=tools,\n",
    "    prompt=create_prompt,\n",
    "    # Use this to ensure the store is passed to the agent \n",
    "    store=store\n",
    ")\n",
    "\n",
    "config = {\"configurable\": {\"langgraph_user_id\": \"lance\"}}"
   ]
  },
  {
   "cell_type": "code",
   "execution_count": 10,
   "id": "3e2a2323",
   "metadata": {},
   "outputs": [
    {
     "name": "stdout",
     "output_type": "stream",
     "text": [
      "================================\u001b[1m Human Message \u001b[0m=================================\n",
      "\n",
      "Jim is my friend\n",
      "==================================\u001b[1m Ai Message \u001b[0m==================================\n",
      "Tool Calls:\n",
      "  manage_memory (d407b777-a420-47af-9e37-30434c03d58f)\n",
      " Call ID: d407b777-a420-47af-9e37-30434c03d58f\n",
      "  Args:\n",
      "    content: Jim is my friend\n",
      "    action: create\n",
      "=================================\u001b[1m Tool Message \u001b[0m=================================\n",
      "Name: manage_memory\n",
      "\n",
      "created memory b6896237-8d12-4774-ad59-29704ba4d8d5\n",
      "==================================\u001b[1m Ai Message \u001b[0m==================================\n",
      "Tool Calls:\n",
      "  manage_memory (7702080b-be4e-4e35-a769-582070d2d096)\n",
      " Call ID: 7702080b-be4e-4e35-a769-582070d2d096\n",
      "  Args:\n",
      "    content: Jim is a friend of John. They were discussing the upcoming project and Jim's concerns about the timeline.\n",
      "    action: create\n",
      "=================================\u001b[1m Tool Message \u001b[0m=================================\n",
      "Name: manage_memory\n",
      "\n",
      "created memory d3cfe03d-24f8-4c94-a5d2-98ab09746d1e\n",
      "==================================\u001b[1m Ai Message \u001b[0m==================================\n",
      "Tool Calls:\n",
      "  search_memory (98361806-e2eb-48fb-9cec-3eda64265947)\n",
      " Call ID: 98361806-e2eb-48fb-9cec-3eda64265947\n",
      "  Args:\n",
      "    query: Jim\n",
      "=================================\u001b[1m Tool Message \u001b[0m=================================\n",
      "Name: search_memory\n",
      "\n",
      "[{\"namespace\":[\"email_assistant\",\"lance\",\"collection\"],\"key\":\"d3cfe03d-24f8-4c94-a5d2-98ab09746d1e\",\"value\":{\"content\":\"Jim is a friend of John. They were discussing the upcoming project and Jim's concerns about the timeline.\"},\"created_at\":\"2025-07-07T06:46:13.927396+00:00\",\"updated_at\":\"2025-07-07T06:46:13.927396+00:00\",\"score\":0.5756183390237665},{\"namespace\":[\"email_assistant\",\"lance\",\"collection\"],\"key\":\"b6896237-8d12-4774-ad59-29704ba4d8d5\",\"value\":{\"content\":\"Jim is my friend\"},\"created_at\":\"2025-07-07T06:46:12.692751+00:00\",\"updated_at\":\"2025-07-07T06:46:12.692751+00:00\",\"score\":0.5220339640641206}]\n",
      "==================================\u001b[1m Ai Message \u001b[0m==================================\n",
      "\n",
      "Ok, I'll remember that Jim is your friend.\n"
     ]
    }
   ],
   "source": [
    "response = response_agent.invoke(\n",
    "    {\"messages\": [{\"role\": \"user\", \"content\": \"Jim is my friend\"}]},\n",
    "    config=config\n",
    ")\n",
    "for m in response[\"messages\"]:\n",
    "    m.pretty_print()"
   ]
  },
  {
   "cell_type": "code",
   "execution_count": 11,
   "id": "3c9a2fc7",
   "metadata": {},
   "outputs": [
    {
     "name": "stdout",
     "output_type": "stream",
     "text": [
      "================================\u001b[1m Human Message \u001b[0m=================================\n",
      "\n",
      "who is jim?\n",
      "==================================\u001b[1m Ai Message \u001b[0m==================================\n",
      "Tool Calls:\n",
      "  search_memory (101bbfa8-ff4b-4d1f-b369-6e46e665c2de)\n",
      " Call ID: 101bbfa8-ff4b-4d1f-b369-6e46e665c2de\n",
      "  Args:\n",
      "    query: who is Jim\n",
      "=================================\u001b[1m Tool Message \u001b[0m=================================\n",
      "Name: search_memory\n",
      "\n",
      "[{\"namespace\":[\"email_assistant\",\"lance\",\"collection\"],\"key\":\"d3cfe03d-24f8-4c94-a5d2-98ab09746d1e\",\"value\":{\"content\":\"Jim is a friend of John. They were discussing the upcoming project and Jim's concerns about the timeline.\"},\"created_at\":\"2025-07-07T06:46:13.927396+00:00\",\"updated_at\":\"2025-07-07T06:46:13.927396+00:00\",\"score\":0.5575582727471428},{\"namespace\":[\"email_assistant\",\"lance\",\"collection\"],\"key\":\"b6896237-8d12-4774-ad59-29704ba4d8d5\",\"value\":{\"content\":\"Jim is my friend\"},\"created_at\":\"2025-07-07T06:46:12.692751+00:00\",\"updated_at\":\"2025-07-07T06:46:12.692751+00:00\",\"score\":0.49419722456038506}]\n",
      "==================================\u001b[1m Ai Message \u001b[0m==================================\n",
      "\n",
      "Jim is a friend of John. They were discussing the upcoming project and Jim's concerns about the timeline.\n"
     ]
    }
   ],
   "source": [
    "response = response_agent.invoke(\n",
    "    {\"messages\": [{\"role\": \"user\", \"content\": \"who is jim?\"}]},\n",
    "    config=config\n",
    ")\n",
    "for m in response[\"messages\"]:\n",
    "    m.pretty_print()"
   ]
  },
  {
   "cell_type": "code",
   "execution_count": 12,
   "id": "56d4686b",
   "metadata": {},
   "outputs": [
    {
     "data": {
      "text/plain": [
       "[('email_assistant', 'lance', 'collection')]"
      ]
     },
     "execution_count": 12,
     "metadata": {},
     "output_type": "execute_result"
    }
   ],
   "source": [
    "store.list_namespaces()"
   ]
  },
  {
   "cell_type": "code",
   "execution_count": 13,
   "id": "3a4b57a9",
   "metadata": {},
   "outputs": [
    {
     "data": {
      "text/plain": [
       "[Item(namespace=['email_assistant', 'lance', 'collection'], key='b6896237-8d12-4774-ad59-29704ba4d8d5', value={'content': 'Jim is my friend'}, created_at='2025-07-07T06:46:12.692751+00:00', updated_at='2025-07-07T06:46:12.692751+00:00', score=None),\n",
       " Item(namespace=['email_assistant', 'lance', 'collection'], key='d3cfe03d-24f8-4c94-a5d2-98ab09746d1e', value={'content': \"Jim is a friend of John. They were discussing the upcoming project and Jim's concerns about the timeline.\"}, created_at='2025-07-07T06:46:13.927396+00:00', updated_at='2025-07-07T06:46:13.927396+00:00', score=None)]"
      ]
     },
     "execution_count": 13,
     "metadata": {},
     "output_type": "execute_result"
    }
   ],
   "source": [
    "store.search(('email_assistant', 'lance', 'collection'))"
   ]
  },
  {
   "cell_type": "code",
   "execution_count": 14,
   "id": "90d7fdb1",
   "metadata": {},
   "outputs": [
    {
     "data": {
      "text/plain": [
       "[Item(namespace=['email_assistant', 'lance', 'collection'], key='d3cfe03d-24f8-4c94-a5d2-98ab09746d1e', value={'content': \"Jim is a friend of John. They were discussing the upcoming project and Jim's concerns about the timeline.\"}, created_at='2025-07-07T06:46:13.927396+00:00', updated_at='2025-07-07T06:46:13.927396+00:00', score=0.5685096630147286),\n",
       " Item(namespace=['email_assistant', 'lance', 'collection'], key='b6896237-8d12-4774-ad59-29704ba4d8d5', value={'content': 'Jim is my friend'}, created_at='2025-07-07T06:46:12.692751+00:00', updated_at='2025-07-07T06:46:12.692751+00:00', score=0.512820820654244)]"
      ]
     },
     "execution_count": 14,
     "metadata": {},
     "output_type": "execute_result"
    }
   ],
   "source": [
    "store.search(('email_assistant', 'lance', 'collection'), query=\"jim\")"
   ]
  },
  {
   "cell_type": "markdown",
   "id": "8cd6e15f",
   "metadata": {},
   "source": [
    "## Create agent with semantic memory"
   ]
  },
  {
   "cell_type": "code",
   "execution_count": 15,
   "id": "17ea0074",
   "metadata": {},
   "outputs": [
    {
     "data": {
      "image/png": "[encoded data removed]",
      "text/plain": [
       "<IPython.core.display.Image object>"
      ]
     },
     "metadata": {},
     "output_type": "display_data"
    }
   ],
   "source": [
    "from langgraph.graph import add_messages\n",
    "from typing_extensions import TypedDict, Literal, Annotated\n",
    "\n",
    "class State(TypedDict):\n",
    "    email_input: dict\n",
    "    messages: Annotated[list, add_messages]\n",
    "\n",
    "from langgraph.graph import StateGraph, START, END\n",
    "from langgraph.types import Command\n",
    "from typing import Literal\n",
    "from IPython.display import Image, display\n",
    "\n",
    "def triage_router(state: State) -> Command[\n",
    "    Literal[\"response_agent\", \"__end__\"]\n",
    "]:\n",
    "    author = state['email_input']['author']\n",
    "    to = state['email_input']['to']\n",
    "    subject = state['email_input']['subject']\n",
    "    email_thread = state['email_input']['email_thread']\n",
    "\n",
    "    system_prompt = triage_system_prompt.format(\n",
    "        full_name=profile[\"full_name\"],\n",
    "        name=profile[\"name\"],\n",
    "        user_profile_background=profile[\"user_profile_background\"],\n",
    "        triage_no=prompt_instructions[\"triage_rules\"][\"ignore\"],\n",
    "        triage_notify=prompt_instructions[\"triage_rules\"][\"notify\"],\n",
    "        triage_email=prompt_instructions[\"triage_rules\"][\"respond\"],\n",
    "        examples=None\n",
    "    )\n",
    "    user_prompt = triage_user_prompt.format(\n",
    "        author=author, \n",
    "        to=to, \n",
    "        subject=subject, \n",
    "        email_thread=email_thread\n",
    "    )\n",
    "    result = llm_router.invoke(\n",
    "        [\n",
    "            {\"role\": \"system\", \"content\": system_prompt},\n",
    "            {\"role\": \"user\", \"content\": user_prompt},\n",
    "        ]\n",
    "    )\n",
    "    if result.classification == \"respond\":\n",
    "        print(\"📧 Classification: RESPOND - This email requires a response\")\n",
    "        goto = \"response_agent\"\n",
    "        update = {\n",
    "            \"messages\": [\n",
    "                {\n",
    "                    \"role\": \"user\",\n",
    "                    \"content\": f\"Respond to the email {state['email_input']}\",\n",
    "                }\n",
    "            ]\n",
    "        }\n",
    "    elif result.classification == \"ignore\":\n",
    "        print(\"🚫 Classification: IGNORE - This email can be safely ignored\")\n",
    "        update = None\n",
    "        goto = END\n",
    "    elif result.classification == \"notify\":\n",
    "        # If real life, this would do something else\n",
    "        print(\"🔔 Classification: NOTIFY - This email contains important information\")\n",
    "        update = None\n",
    "        goto = END\n",
    "    else:\n",
    "        raise ValueError(f\"Invalid classification: {result.classification}\")\n",
    "    return Command(goto=goto, update=update)\n",
    "\n",
    "email_agent = StateGraph(State)\n",
    "email_agent = email_agent.add_node(triage_router)\n",
    "email_agent = email_agent.add_node(\"response_agent\", response_agent)\n",
    "email_agent = email_agent.add_edge(START, \"triage_router\")\n",
    "email_agent = email_agent.compile(store=store)\n",
    "\n",
    "display(Image(email_agent.get_graph(xray=True).draw_mermaid_png()))"
   ]
  },
  {
   "cell_type": "code",
   "execution_count": 16,
   "id": "608f6634",
   "metadata": {},
   "outputs": [
    {
     "name": "stdout",
     "output_type": "stream",
     "text": [
      "📧 Classification: RESPOND - This email requires a response\n",
      "================================\u001b[1m Human Message \u001b[0m=================================\n",
      "\n",
      "Respond to the email {'author': 'Alice Smith <alice.smith@company.com>', 'to': 'John Doe <john.doe@company.com>', 'subject': 'Quick question about API documentation', 'email_thread': \"Hi John,\\n\\nI was reviewing the API documentation for the new authentication service and noticed a few endpoints seem to be missing from the specs. Could you help clarify if this was intentional or if we should update the docs?\\n\\nSpecifically, I'm looking at:\\n- /auth/refresh\\n- /auth/validate\\n\\nThanks!\\nAlice\"}\n",
      "==================================\u001b[1m Ai Message \u001b[0m==================================\n",
      "Tool Calls:\n",
      "  search_memory (f2c18a15-63f9-4a70-b988-0fd51fc89dd8)\n",
      " Call ID: f2c18a15-63f9-4a70-b988-0fd51fc89dd8\n",
      "  Args:\n",
      "    query: Alice Smith API documentation auth endpoints\n",
      "=================================\u001b[1m Tool Message \u001b[0m=================================\n",
      "Name: search_memory\n",
      "\n",
      "[{\"namespace\":[\"email_assistant\",\"lance\",\"collection\"],\"key\":\"b6896237-8d12-4774-ad59-29704ba4d8d5\",\"value\":{\"content\":\"Jim is my friend\"},\"created_at\":\"2025-07-07T06:46:12.692751+00:00\",\"updated_at\":\"2025-07-07T06:46:12.692751+00:00\",\"score\":0.45763921208316105},{\"namespace\":[\"email_assistant\",\"lance\",\"collection\"],\"key\":\"d3cfe03d-24f8-4c94-a5d2-98ab09746d1e\",\"value\":{\"content\":\"Jim is a friend of John. They were discussing the upcoming project and Jim's concerns about the timeline.\"},\"created_at\":\"2025-07-07T06:46:13.927396+00:00\",\"updated_at\":\"2025-07-07T06:46:13.927396+00:00\",\"score\":0.3890336421392875}]\n",
      "==================================\u001b[1m Ai Message \u001b[0m==================================\n",
      "Tool Calls:\n",
      "  write_email (0b21472b-28fe-4716-9252-9d34251afc84)\n",
      " Call ID: 0b21472b-28fe-4716-9252-9d34251afc84\n",
      "  Args:\n",
      "    to: Alice Smith <alice.smith@company.com>\n",
      "    content: Hi Alice,\n",
      "\n",
      "Thanks for reaching out. I'll check on the API documentation for the authentication service and get back to you regarding the missing endpoints.\n",
      "\n",
      "Best,\n",
      "John\n",
      "    subject: Re: Quick question about API documentation\n",
      "=================================\u001b[1m Tool Message \u001b[0m=================================\n",
      "Name: write_email\n",
      "\n",
      "Email sent to Alice Smith <alice.smith@company.com> with subject 'Re: Quick question about API documentation'\n",
      "==================================\u001b[1m Ai Message \u001b[0m==================================\n",
      "\n",
      "I've responded to Alice's email and will look into the API documentation for the authentication service. I'll let you know what I find.\n"
     ]
    }
   ],
   "source": [
    "email_input = {\n",
    "    \"author\": \"Alice Smith <alice.smith@company.com>\",\n",
    "    \"to\": \"John Doe <john.doe@company.com>\",\n",
    "    \"subject\": \"Quick question about API documentation\",\n",
    "    \"email_thread\": \"\"\"Hi John,\n",
    "\n",
    "I was reviewing the API documentation for the new authentication service and noticed a few endpoints seem to be missing from the specs. Could you help clarify if this was intentional or if we should update the docs?\n",
    "\n",
    "Specifically, I'm looking at:\n",
    "- /auth/refresh\n",
    "- /auth/validate\n",
    "\n",
    "Thanks!\n",
    "Alice\"\"\",\n",
    "}\n",
    "\n",
    "response = email_agent.invoke(\n",
    "    {\"email_input\": email_input},\n",
    "    config=config\n",
    ")\n",
    "\n",
    "for m in response[\"messages\"]:\n",
    "    m.pretty_print()"
   ]
  },
  {
   "cell_type": "markdown",
   "id": "5b2078ef",
   "metadata": {},
   "source": [
    "### Try a follow-up email"
   ]
  },
  {
   "cell_type": "code",
   "execution_count": 17,
   "id": "80768a54",
   "metadata": {},
   "outputs": [
    {
     "name": "stdout",
     "output_type": "stream",
     "text": [
      "📧 Classification: RESPOND - This email requires a response\n"
     ]
    }
   ],
   "source": [
    "email_input = {\n",
    "    \"author\": \"Alice Smith <alice.smith@company.com>\",\n",
    "    \"to\": \"John Doe <john.doe@company.com>\",\n",
    "    \"subject\": \"Follow up\",\n",
    "    \"email_thread\": \"\"\"Hi John,\n",
    "\n",
    "Any update on my previous ask?\"\"\",\n",
    "}\n",
    "\n",
    "response = email_agent.invoke({\"email_input\": email_input}, config=config)"
   ]
  },
  {
   "cell_type": "code",
   "execution_count": 18,
   "id": "ed2c54ac",
   "metadata": {},
   "outputs": [
    {
     "name": "stdout",
     "output_type": "stream",
     "text": [
      "================================\u001b[1m Human Message \u001b[0m=================================\n",
      "\n",
      "Respond to the email {'author': 'Alice Smith <alice.smith@company.com>', 'to': 'John Doe <john.doe@company.com>', 'subject': 'Follow up', 'email_thread': 'Hi John,\\n\\nAny update on my previous ask?'}\n",
      "==================================\u001b[1m Ai Message \u001b[0m==================================\n",
      "Tool Calls:\n",
      "  write_email (281be8e4-fed5-4dc2-afc6-1a00c01c091d)\n",
      " Call ID: 281be8e4-fed5-4dc2-afc6-1a00c01c091d\n",
      "  Args:\n",
      "    to: Alice Smith <alice.smith@company.com>\n",
      "    content: Hi Alice,\n",
      "\n",
      "I'm still working on your request and will get back to you as soon as I have an update.\n",
      "\n",
      "Best,\n",
      "John Doe\n",
      "    subject: Follow up\n",
      "=================================\u001b[1m Tool Message \u001b[0m=================================\n",
      "Name: write_email\n",
      "\n",
      "Email sent to Alice Smith <alice.smith@company.com> with subject 'Follow up'\n",
      "==================================\u001b[1m Ai Message \u001b[0m==================================\n",
      "\n",
      "I've responded to Alice's email to let her know you're still working on her request.\n"
     ]
    }
   ],
   "source": [
    "for m in response[\"messages\"]:\n",
    "    m.pretty_print()"
   ]
  }
 ],
 "metadata": {
  "kernelspec": {
   "display_name": "pytorch",
   "language": "python",
   "name": "python3"
  },
  "language_info": {
   "codemirror_mode": {
    "name": "ipython",
    "version": 3
   },
   "file_extension": ".py",
   "mimetype": "text/x-python",
   "name": "python",
   "nbconvert_exporter": "python",
   "pygments_lexer": "ipython3",
   "version": "3.12.3"
  }
 },
 "nbformat": 4,
 "nbformat_minor": 5
}
