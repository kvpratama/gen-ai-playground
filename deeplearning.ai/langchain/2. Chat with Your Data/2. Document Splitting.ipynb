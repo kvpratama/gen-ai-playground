{
 "cells": [
  {
   "cell_type": "markdown",
   "id": "2289de92",
   "metadata": {},
   "source": [
    "# Document Splitting"
   ]
  },
  {
   "cell_type": "code",
   "execution_count": 3,
   "id": "4549ee0c",
   "metadata": {},
   "outputs": [],
   "source": [
    "from langchain_text_splitters import RecursiveCharacterTextSplitter, CharacterTextSplitter\n",
    "\n",
    "chunk_size = 26\n",
    "chunk_overlap = 4\n",
    "\n",
    "r_splitter = RecursiveCharacterTextSplitter(chunk_size=chunk_size, chunk_overlap=chunk_overlap)\n",
    "c_splitter = CharacterTextSplitter(chunk_size=chunk_size, chunk_overlap=chunk_overlap)\n",
    "\n",
    "text1 = \"abcdefghijklmnopqrstuvwxyz\"\n",
    "text2 = \"abcdefghijklmnopqrstuvwxyzabcdefg\""
   ]
  },
  {
   "cell_type": "code",
   "execution_count": 6,
   "id": "ab0e1d90",
   "metadata": {},
   "outputs": [
    {
     "name": "stdout",
     "output_type": "stream",
     "text": [
      "['abcdefghijklmnopqrstuvwxyz']\n",
      "['abcdefghijklmnopqrstuvwxyz', 'wxyzabcdefg']\n"
     ]
    }
   ],
   "source": [
    "print(r_splitter.split_text(text1))\n",
    "print(r_splitter.split_text(text2))"
   ]
  },
  {
   "cell_type": "code",
   "execution_count": 7,
   "id": "cd655247",
   "metadata": {},
   "outputs": [
    {
     "name": "stdout",
     "output_type": "stream",
     "text": [
      "['abcdefghijklmnopqrstuvwxyz']\n",
      "['abcdefghijklmnopqrstuvwxyzabcdefg']\n"
     ]
    }
   ],
   "source": [
    "print(c_splitter.split_text(text1))\n",
    "print(c_splitter.split_text(text2))"
   ]
  },
  {
   "cell_type": "code",
   "execution_count": 8,
   "id": "0077f119",
   "metadata": {},
   "outputs": [],
   "source": [
    "text3 = \"a b c d e f g h i j k l m n o p q r s t u v w x y z\""
   ]
  },
  {
   "cell_type": "code",
   "execution_count": 9,
   "id": "6bf0c636",
   "metadata": {},
   "outputs": [
    {
     "name": "stdout",
     "output_type": "stream",
     "text": [
      "['a b c d e f g h i j k l m', 'l m n o p q r s t u v w x', 'w x y z']\n",
      "['a b c d e f g h i j k l m n o p q r s t u v w x y z']\n"
     ]
    }
   ],
   "source": [
    "print(r_splitter.split_text(text3))\n",
    "print(c_splitter.split_text(text3))"
   ]
  },
  {
   "cell_type": "code",
   "execution_count": 10,
   "id": "801b323b",
   "metadata": {},
   "outputs": [
    {
     "data": {
      "text/plain": [
       "['a b c d e f g h i j k l m', 'l m n o p q r s t u v w x', 'w x y z']"
      ]
     },
     "execution_count": 10,
     "metadata": {},
     "output_type": "execute_result"
    }
   ],
   "source": [
    "c_splitter = CharacterTextSplitter(\n",
    "    chunk_size=chunk_size,\n",
    "    chunk_overlap=chunk_overlap,\n",
    "    separator = ' '\n",
    ")\n",
    "c_splitter.split_text(text3)"
   ]
  },
  {
   "cell_type": "markdown",
   "id": "5d4a73fe",
   "metadata": {},
   "source": [
    "## Recursive splitting details"
   ]
  },
  {
   "cell_type": "code",
   "execution_count": 11,
   "id": "9eca8c7b",
   "metadata": {},
   "outputs": [
    {
     "data": {
      "text/plain": [
       "496"
      ]
     },
     "execution_count": 11,
     "metadata": {},
     "output_type": "execute_result"
    }
   ],
   "source": [
    "some_text = \"\"\"When writing documents, writers will use document structure to group content. \\\n",
    "This can convey to the reader, which idea's are related. For example, closely related ideas \\\n",
    "are in sentances. Similar ideas are in paragraphs. Paragraphs form a document. \\n\\n  \\\n",
    "Paragraphs are often delimited with a carriage return or two carriage returns. \\\n",
    "Carriage returns are the \"backslash n\" you see embedded in this string. \\\n",
    "Sentences have a period at the end, but also, have a space.\\\n",
    "and words are separated by space.\"\"\"\n",
    "\n",
    "len(some_text)"
   ]
  },
  {
   "cell_type": "code",
   "execution_count": 12,
   "id": "01e1ae8a",
   "metadata": {},
   "outputs": [],
   "source": [
    "c_splitter = CharacterTextSplitter(\n",
    "    chunk_size=450,\n",
    "    chunk_overlap=0,\n",
    "    separator = ' '\n",
    ")\n",
    "r_splitter = RecursiveCharacterTextSplitter(\n",
    "    chunk_size=450,\n",
    "    chunk_overlap=0, \n",
    "    separators=[\"\\n\\n\", \"\\n\", \" \", \"\"]\n",
    ")"
   ]
  },
  {
   "cell_type": "code",
   "execution_count": 16,
   "id": "c60864ae",
   "metadata": {},
   "outputs": [
    {
     "name": "stdout",
     "output_type": "stream",
     "text": [
      "448\n",
      "When writing documents, writers will use document structure to group content. This can convey to the reader, which idea's are related. For example, closely related ideas are in sentances. Similar ideas are in paragraphs. Paragraphs form a document. \n",
      "\n",
      " Paragraphs are often delimited with a carriage return or two carriage returns. Carriage returns are the \"backslash n\" you see embedded in this string. Sentences have a period at the end, but also,\n",
      "########\n",
      "\n",
      "46\n",
      "have a space.and words are separated by space.\n",
      "########\n",
      "\n"
     ]
    }
   ],
   "source": [
    "# print(c_splitter.split_text(some_text))\n",
    "for split in c_splitter.split_text(some_text):\n",
    "    print(len(split))\n",
    "    print(split)\n",
    "    print(\"########\")\n",
    "    print()"
   ]
  },
  {
   "cell_type": "code",
   "execution_count": 18,
   "id": "1085cf80",
   "metadata": {},
   "outputs": [
    {
     "name": "stdout",
     "output_type": "stream",
     "text": [
      "248\n",
      "When writing documents, writers will use document structure to group content. This can convey to the reader, which idea's are related. For example, closely related ideas are in sentances. Similar ideas are in paragraphs. Paragraphs form a document.\n",
      "########\n",
      "\n",
      "243\n",
      "Paragraphs are often delimited with a carriage return or two carriage returns. Carriage returns are the \"backslash n\" you see embedded in this string. Sentences have a period at the end, but also, have a space.and words are separated by space.\n",
      "########\n",
      "\n"
     ]
    }
   ],
   "source": [
    "# print(r_splitter.split_text(some_text))\n",
    "for split in r_splitter.split_text(some_text):\n",
    "    print(len(split))\n",
    "    print(split)\n",
    "    print(\"########\")\n",
    "    print()"
   ]
  },
  {
   "cell_type": "code",
   "execution_count": 33,
   "id": "2cd601f2",
   "metadata": {},
   "outputs": [
    {
     "name": "stdout",
     "output_type": "stream",
     "text": [
      "133\n",
      "When writing documents, writers will use document structure to group content. This can convey to the reader, which idea's are related\n",
      "########\n",
      "\n",
      "115\n",
      ". For example, closely related ideas are in sentances. Similar ideas are in paragraphs. Paragraphs form a document.\n",
      "########\n",
      "\n",
      "77\n",
      "Paragraphs are often delimited with a carriage return or two carriage returns\n",
      "########\n",
      "\n",
      "132\n",
      ". Carriage returns are the \"backslash n\" you see embedded in this string. Sentences have a period at the end, but also, have a space\n",
      "########\n",
      "\n",
      "34\n",
      ".and words are separated by space.\n",
      "########\n",
      "\n"
     ]
    }
   ],
   "source": [
    "r_splitter = RecursiveCharacterTextSplitter(\n",
    "    chunk_size=150,\n",
    "    chunk_overlap=0,\n",
    "    separators=[\"\\n\\n\", \"\\n\", \".\", \" \", \"\"]\n",
    ")\n",
    "for split in r_splitter.split_text(some_text):\n",
    "    print(len(split))\n",
    "    print(split)\n",
    "    print(\"########\")\n",
    "    print()"
   ]
  },
  {
   "cell_type": "code",
   "execution_count": 36,
   "id": "ae577802",
   "metadata": {},
   "outputs": [
    {
     "name": "stdout",
     "output_type": "stream",
     "text": [
      "78\n",
      "22\n"
     ]
    }
   ],
   "source": [
    "from langchain.document_loaders import PyPDFLoader\n",
    "loader = PyPDFLoader(\"docs/MachineLearning-Lecture01.pdf\")\n",
    "pages = loader.load()\n",
    "\n",
    "from langchain_text_splitters import CharacterTextSplitter\n",
    "text_splitter = CharacterTextSplitter(\n",
    "    separator=\"\\n\",\n",
    "    chunk_size=1000,\n",
    "    chunk_overlap=150,\n",
    "    length_function=len\n",
    ")\n",
    "\n",
    "docs = text_splitter.split_documents(pages)\n",
    "print(len(docs))\n",
    "print(len(pages))"
   ]
  },
  {
   "cell_type": "markdown",
   "id": "5147b913",
   "metadata": {},
   "source": [
    "### Token Splitting"
   ]
  },
  {
   "cell_type": "code",
   "execution_count": 38,
   "id": "066d3dde",
   "metadata": {},
   "outputs": [
    {
     "data": {
      "text/plain": [
       "['foo', ' bar', ' b', 'az', 'zy', 'foo']"
      ]
     },
     "execution_count": 38,
     "metadata": {},
     "output_type": "execute_result"
    }
   ],
   "source": [
    "from langchain_text_splitters import TokenTextSplitter\n",
    "text_splitter = TokenTextSplitter(chunk_size=1, chunk_overlap=0)\n",
    "\n",
    "text1 = \"foo bar bazzyfoo\"\n",
    "text_splitter.split_text(text1)"
   ]
  },
  {
   "cell_type": "code",
   "execution_count": 40,
   "id": "a86ce857",
   "metadata": {},
   "outputs": [
    {
     "name": "stdout",
     "output_type": "stream",
     "text": [
      "page_content='MachineLearning-Lecture01  \n",
      "' metadata={'producer': 'Acrobat Distiller 8.1.0 (Windows)', 'creator': 'PScript5.dll Version 5.2.2', 'creationdate': '2008-07-11T11:25:23-07:00', 'author': '', 'moddate': '2008-07-11T11:25:23-07:00', 'title': '', 'source': 'docs/MachineLearning-Lecture01.pdf', 'total_pages': 22, 'page': 0, 'page_label': '1'}\n",
      "\n",
      "{'producer': 'Acrobat Distiller 8.1.0 (Windows)', 'creator': 'PScript5.dll Version 5.2.2', 'creationdate': '2008-07-11T11:25:23-07:00', 'author': '', 'moddate': '2008-07-11T11:25:23-07:00', 'title': '', 'source': 'docs/MachineLearning-Lecture01.pdf', 'total_pages': 22, 'page': 0, 'page_label': '1'}\n"
     ]
    }
   ],
   "source": [
    "text_splitter = TokenTextSplitter(chunk_size=10, chunk_overlap=0)\n",
    "docs = text_splitter.split_documents(pages)\n",
    "\n",
    "print(docs[0])\n",
    "print()\n",
    "print(pages[0].metadata)"
   ]
  },
  {
   "cell_type": "markdown",
   "id": "99b3e593",
   "metadata": {},
   "source": [
    "### Context aware splitting"
   ]
  },
  {
   "cell_type": "code",
   "execution_count": 43,
   "id": "38bfbf0f",
   "metadata": {},
   "outputs": [
    {
     "name": "stdout",
     "output_type": "stream",
     "text": [
      "page_content='Hi this is Jim  \n",
      "Hi this is Joe' metadata={'Header 1': 'Title', 'Header 2': 'Chapter 1'}\n",
      "***********************\n",
      "page_content='Hi this is Lance' metadata={'Header 1': 'Title', 'Header 2': 'Chapter 1', 'Header 3': 'Section'}\n"
     ]
    }
   ],
   "source": [
    "from langchain.document_loaders import NotionDirectoryLoader\n",
    "from langchain_text_splitters import MarkdownHeaderTextSplitter\n",
    "\n",
    "markdown_document = \"\"\"# Title\\n\\n \\\n",
    "## Chapter 1\\n\\n \\\n",
    "Hi this is Jim\\n\\n Hi this is Joe\\n\\n \\\n",
    "### Section \\n\\n \\\n",
    "Hi this is Lance \\n\\n \n",
    "## Chapter 2\\n\\n \\\n",
    "Hi this is Molly\"\"\"\n",
    "\n",
    "headers_to_split_on = [\n",
    "    (\"#\", \"Header 1\"),\n",
    "    (\"##\", \"Header 2\"),\n",
    "    (\"###\", \"Header 3\"),\n",
    "]\n",
    "\n",
    "markdown_splitter = MarkdownHeaderTextSplitter(\n",
    "    headers_to_split_on=headers_to_split_on\n",
    ")\n",
    "md_header_splits = markdown_splitter.split_text(markdown_document)\n",
    "\n",
    "print(md_header_splits[0])\n",
    "print(\"***********************\")\n",
    "print(md_header_splits[1])"
   ]
  },
  {
   "cell_type": "code",
   "execution_count": null,
   "id": "8f94bc13",
   "metadata": {},
   "outputs": [],
   "source": [
    "loader = NotionDirectoryLoader(\"docs/\")\n",
    "docs = loader.load()\n",
    "txt = ' '.join([d.page_content for d in docs])\n",
    "\n",
    "headers_to_split_on = [\n",
    "    (\"#\", \"Header 1\"),\n",
    "    (\"##\", \"Header 2\"),\n",
    "]\n",
    "markdown_splitter = MarkdownHeaderTextSplitter(\n",
    "    headers_to_split_on=headers_to_split_on\n",
    ")"
   ]
  },
  {
   "cell_type": "code",
   "execution_count": 45,
   "id": "6c795aa5",
   "metadata": {},
   "outputs": [],
   "source": [
    "md_header_splits = markdown_splitter.split_text(txt)"
   ]
  },
  {
   "cell_type": "code",
   "execution_count": 50,
   "id": "18c57cf6",
   "metadata": {},
   "outputs": [
    {
     "name": "stdout",
     "output_type": "stream",
     "text": [
      "id :  None\n",
      "\n",
      "metadata :  {'Header 1': \"Blendle's Employee Handbook\"}\n",
      "\n",
      "page_content :  This is a living document with everything we've learned working with people while running a startup. And, of course, we continue to learn. Therefore it's a document that will continue to change.  \n",
      "**Everything related to working at Blendle and the people of Blendle, made public.**  \n",
      "These are the lessons from three years of working with the people of Blendle. It contains everything from [how our leaders lead](https://www.notion.so/ecfb7e647136468a9a0a32f1771a8f52?pvs=21) to [how we increase salaries](https://www.notion.so/Salary-Review-e11b6161c6d34f5c9568bb3e83ed96b6?pvs=21), from [how we hire](https://www.notion.so/Hiring-451bbcfe8d9b49438c0633326bb7af0a?pvs=21) and [fire](https://www.notion.so/Firing-5567687a2000496b8412e53cd58eed9d?pvs=21) to [how we think people should give each other feedback](https://www.notion.so/Our-Feedback-Process-eb64f1de796b4350aeab3bc068e3801f?pvs=21) — and much more.  \n",
      "We've made this document public because we want to learn from you. We're very much interested in your feedback (including weeding out typo's and Dunglish ;)). Email us at hr@blendle.com. If you're starting your own company or if you're curious as to how we do things at Blendle, we hope that our employee handbook inspires you.  \n",
      "If you want to work at Blendle you can check our [job ads here](https://blendle.homerun.co/). If you want to be kept in the loop about Blendle, you can sign up for [our behind the scenes newsletter](https://blendle.homerun.co/yes-keep-me-posted/tr/apply?token=8092d4128c306003d97dd3821bad06f2).\n",
      "\n",
      "type :  Document\n",
      "\n",
      "**************************\n",
      "\n",
      "id :  None\n",
      "\n",
      "metadata :  {'Header 1': \"Blendle's Employee Handbook\", 'Header 2': 'Blendle general'}\n",
      "\n",
      "page_content :  *Information gap closing in 3... 2... 1...*  \n",
      "---  \n",
      "[To Do/Read in your first week](Blendle's%20Employee%20Handbook%20e367aa77e225482c849111687e114a56/To%20Do%20Read%20in%20your%20first%20week%2017fbb01dc37b4118943b1db905cd57f2.md)  \n",
      "[History](Blendle's%20Employee%20Handbook%20e367aa77e225482c849111687e114a56/History%20ac6441b1b7f7412796b072168db92fd2.md)  \n",
      "[DNA & culture](Blendle's%20Employee%20Handbook%20e367aa77e225482c849111687e114a56/DNA%20&%20culture%20b5db7bb937384f809a81e84059050b3f.md)  \n",
      "[General & practical ](Blendle's%20Employee%20Handbook%20e367aa77e225482c849111687e114a56/General%20&%20practical%20b8d9412f67c34a3e996bf4d3f390de5e.md)\n",
      "\n",
      "type :  Document\n",
      "\n",
      "**************************\n",
      "\n",
      "id :  None\n",
      "\n",
      "metadata :  {'Header 1': \"Blendle's Employee Handbook\", 'Header 2': 'People operations'}\n",
      "\n",
      "page_content :  *You can tell a company's DNA by looking at how they deal with the practical stuff.*  \n",
      "---  \n",
      "[Office](Blendle's%20Employee%20Handbook%20e367aa77e225482c849111687e114a56/Office%204e7a0f0ad8e34c50bba69cfd9f779038.md)  \n",
      "[Time off: holidays and national holidays](Blendle's%20Employee%20Handbook%20e367aa77e225482c849111687e114a56/Time%20off%20holidays%20and%20national%20holidays%20b1b4abd60ae547e8b4088818da9e92e7.md)  \n",
      "[Calling in sick/better](Blendle's%20Employee%20Handbook%20e367aa77e225482c849111687e114a56/Calling%20in%20sick%20better%204337662f835a4a00933b76b254758bc4.md)  \n",
      "[Perks and benefits](Blendle's%20Employee%20Handbook%20e367aa77e225482c849111687e114a56/Perks%20and%20benefits%206b81f8a3deb5408a8385472cd797a3f7.md)  \n",
      "[Travel costs and reimbursements](Blendle's%20Employee%20Handbook%20e367aa77e225482c849111687e114a56/Travel%20costs%20and%20reimbursements%204df295267aa74fe1a7fa1361571b6fbc.md)  \n",
      "[Parenthood](Blendle's%20Employee%20Handbook%20e367aa77e225482c849111687e114a56/Parenthood%208cd588eff0984cdd983a9eea420c9e76.md)\n",
      "\n",
      "type :  Document\n",
      "\n",
      "**************************\n",
      "\n",
      "id :  None\n",
      "\n",
      "metadata :  {'Header 1': \"Blendle's Employee Handbook\", 'Header 2': 'People topics'}\n",
      "\n",
      "page_content :  *Themes we care about.*  \n",
      "---  \n",
      "[Blendle Social Code](Blendle's%20Employee%20Handbook%20e367aa77e225482c849111687e114a56/Blendle%20Social%20Code%20d10a41a7746c4bd2ab4c3fe6db803f69.md)  \n",
      "[Diversity and inclusion](Blendle's%20Employee%20Handbook%20e367aa77e225482c849111687e114a56/Diversity%20and%20inclusion%20dbd07fc1bf0849019f3f3ed242190055.md)  \n",
      "[#letstalkaboutstress](Blendle's%20Employee%20Handbook%20e367aa77e225482c849111687e114a56/#letstalkaboutstress%20b814c542d1744bbb83bf7e1d63e4bdda.md)\n",
      "\n",
      "type :  Document\n",
      "\n",
      "**************************\n",
      "\n",
      "id :  None\n",
      "\n",
      "metadata :  {'Header 1': \"Blendle's Employee Handbook\", 'Header 2': 'Feedback and development'}\n",
      "\n",
      "page_content :  *The number 1 reason for people to work at Blendle is growth and learning from smart people.*  \n",
      "---  \n",
      "[Your 1st month ](Blendle's%20Employee%20Handbook%20e367aa77e225482c849111687e114a56/Your%201st%20month%20c6f4af5517c84d4087e635587961fb0e.md)  \n",
      "[Goals](Blendle's%20Employee%20Handbook%20e367aa77e225482c849111687e114a56/Goals%207258fc51173d42a79621ef9b3851e719.md)  \n",
      "[Feedback cycle](Blendle's%20Employee%20Handbook%20e367aa77e225482c849111687e114a56/Feedback%20cycle%20e838f6e605064170bb0611f538915cb7.md)  \n",
      "[The Matrix™ (job profiles)](Blendle's%20Employee%20Handbook%20e367aa77e225482c849111687e114a56/The%20Matrix%E2%84%A2%20(job%20profiles)%20df18f2beab014a7e89f442d0e459ad73.md)  \n",
      "[Blendle library](Blendle's%20Employee%20Handbook%20e367aa77e225482c849111687e114a56/Blendle%20library%2064396b41895842d680d118f4ec17d346.md)\n",
      "\n",
      "type :  Document\n",
      "\n",
      "**************************\n",
      "\n"
     ]
    }
   ],
   "source": [
    "for split in md_header_splits[:5]:\n",
    "    for k,v in split:\n",
    "        print(k, \": \", v)\n",
    "        print()\n",
    "    print(\"**************************\")\n",
    "    print()"
   ]
  },
  {
   "cell_type": "code",
   "execution_count": null,
   "id": "9902fe50",
   "metadata": {},
   "outputs": [],
   "source": []
  }
 ],
 "metadata": {
  "kernelspec": {
   "display_name": "pytorch",
   "language": "python",
   "name": "python3"
  },
  "language_info": {
   "codemirror_mode": {
    "name": "ipython",
    "version": 3
   },
   "file_extension": ".py",
   "mimetype": "text/x-python",
   "name": "python",
   "nbconvert_exporter": "python",
   "pygments_lexer": "ipython3",
   "version": "3.12.3"
  }
 },
 "nbformat": 4,
 "nbformat_minor": 5
}
